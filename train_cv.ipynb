{
 "cells": [
  {
   "cell_type": "code",
   "execution_count": 2,
   "metadata": {},
   "outputs": [
    {
     "name": "stderr",
     "output_type": "stream",
     "text": [
      "/Users/tilia/HZ/SmartCleanCityHackZurich19/smartenv/lib/python3.6/site-packages/lightgbm/__init__.py:46: UserWarning: Starting from version 2.2.1, the library file in distribution wheels for macOS is built by the Apple Clang (Xcode_8.3.3) compiler.\n",
      "This means that in case of installing LightGBM from PyPI via the ``pip install lightgbm`` command, you don't need to install the gcc compiler anymore.\n",
      "Instead of that, you need to install the OpenMP library, which is required for running LightGBM on the system with the Apple Clang compiler.\n",
      "You can install the OpenMP library by the following command: ``brew install libomp``.\n",
      "  \"You can install the OpenMP library by the following command: ``brew install libomp``.\", UserWarning)\n"
     ]
    }
   ],
   "source": [
    "import sys\n",
    "import os\n",
    "import pandas as pd\n",
    "\n",
    "from sklearn.feature_extraction import DictVectorizer\n",
    "\n",
    "import lightgbm as lgb"
   ]
  },
  {
   "cell_type": "code",
   "execution_count": 65,
   "metadata": {},
   "outputs": [],
   "source": [
    "from sklearn.linear_model import LinearRegression\n",
    "from sklearn.neural_network import MLPRegressor"
   ]
  },
  {
   "cell_type": "code",
   "execution_count": 36,
   "metadata": {},
   "outputs": [],
   "source": [
    "from sklearn.model_selection import cross_validate\n",
    "from sklearn import metrics\n",
    "from sklearn.utils import shuffle"
   ]
  },
  {
   "cell_type": "code",
   "execution_count": 11,
   "metadata": {},
   "outputs": [
    {
     "name": "stdout",
     "output_type": "stream",
     "text": [
      "180_days_maxT_24hrPrecip.csv\r\n",
      "180_days_mean1hrT_1hrPrecip.csv\r\n",
      "180_days_meanT_24hrPrecip.csv\r\n",
      "2019-09-27-basel-collections.csv\r\n",
      "2019-09-27-basel-image-metadata.csv\r\n",
      "2019-09-27-basel-measures-FEAT-TempPrecip-IntLabels.csv\r\n",
      "2019-09-27-basel-measures-FEAT-TempPrecip.csv\r\n",
      "2019-09-27-basel-measures-FEAT.csv\r\n",
      "2019-09-27-basel-measures-cleaned.csv\r\n",
      "2019-09-27-basel-measures-prediction-cleaned-FEAT.csv\r\n",
      "2019-09-27-basel-measures-prediction-cleaned-TempPrecip.csv\r\n",
      "2019-09-27-basel-measures-prediction-cleaned.csv\r\n",
      "2019-09-27-basel-measures-prediction.csv\r\n",
      "2019-09-27-basel-measures.csv\r\n",
      "all_tweets.csv\r\n",
      "all_tweets_relcols.csv\r\n",
      "\u001b[34mdistributions\u001b[m\u001b[m/\r\n",
      "event_cal.csv\r\n",
      "places.txt\r\n",
      "twitter.csv\r\n",
      "twitter_accounts.txt\r\n",
      "\u001b[34mtwitter_data\u001b[m\u001b[m/\r\n",
      "twitter_day_features-TEST.csv\r\n",
      "twitter_day_features.csv\r\n"
     ]
    }
   ],
   "source": [
    "%ls data"
   ]
  },
  {
   "cell_type": "code",
   "execution_count": 12,
   "metadata": {},
   "outputs": [],
   "source": [
    "in_df = pd.read_csv(\"./data/2019-09-27-basel-measures-FEAT-TempPrecip-IntLabels.csv\")\n",
    "\n",
    "in_df = in_df.drop('Unnamed: 0', axis=1)\n",
    "\n",
    "in_df['comb_id'] = in_df[['osm_id', 'cci_id']].apply(lambda x: '-'.join([str(i) for i in x]), axis=1)"
   ]
  },
  {
   "cell_type": "code",
   "execution_count": 13,
   "metadata": {},
   "outputs": [
    {
     "name": "stdout",
     "output_type": "stream",
     "text": [
      "(58242, 20)\n"
     ]
    },
    {
     "data": {
      "text/html": [
       "<div>\n",
       "<style scoped>\n",
       "    .dataframe tbody tr th:only-of-type {\n",
       "        vertical-align: middle;\n",
       "    }\n",
       "\n",
       "    .dataframe tbody tr th {\n",
       "        vertical-align: top;\n",
       "    }\n",
       "\n",
       "    .dataframe thead th {\n",
       "        text-align: right;\n",
       "    }\n",
       "</style>\n",
       "<table border=\"1\" class=\"dataframe\">\n",
       "  <thead>\n",
       "    <tr style=\"text-align: right;\">\n",
       "      <th></th>\n",
       "      <th>Unnamed: 0.1</th>\n",
       "      <th>osm_id</th>\n",
       "      <th>cci_id</th>\n",
       "      <th>date</th>\n",
       "      <th>place_name</th>\n",
       "      <th>place_type</th>\n",
       "      <th>cci</th>\n",
       "      <th>cci_p</th>\n",
       "      <th>hour</th>\n",
       "      <th>weekday</th>\n",
       "      <th>month</th>\n",
       "      <th>month_german</th>\n",
       "      <th>weekday_german</th>\n",
       "      <th>daytime</th>\n",
       "      <th>t_mean_2m_24h:C</th>\n",
       "      <th>precip_24h:mm</th>\n",
       "      <th>place_type_enc</th>\n",
       "      <th>daytime_enc</th>\n",
       "      <th>place_name_enc</th>\n",
       "      <th>comb_id</th>\n",
       "    </tr>\n",
       "  </thead>\n",
       "  <tbody>\n",
       "    <tr>\n",
       "      <td>0</td>\n",
       "      <td>0</td>\n",
       "      <td>1175332462</td>\n",
       "      <td>287</td>\n",
       "      <td>2019-04-01 8:40:49</td>\n",
       "      <td>Leimgrubenweg</td>\n",
       "      <td>bus_stop</td>\n",
       "      <td>3.20000</td>\n",
       "      <td>3.20000</td>\n",
       "      <td>8</td>\n",
       "      <td>0</td>\n",
       "      <td>4</td>\n",
       "      <td>April</td>\n",
       "      <td>Montag</td>\n",
       "      <td>morning</td>\n",
       "      <td>11.4</td>\n",
       "      <td>0.0</td>\n",
       "      <td>0</td>\n",
       "      <td>2</td>\n",
       "      <td>163</td>\n",
       "      <td>1175332462-287</td>\n",
       "    </tr>\n",
       "    <tr>\n",
       "      <td>1</td>\n",
       "      <td>1</td>\n",
       "      <td>25149740</td>\n",
       "      <td>86_9668</td>\n",
       "      <td>2019-04-01 8:40:53</td>\n",
       "      <td>Leimgrubenweg</td>\n",
       "      <td>secondary</td>\n",
       "      <td>3.35764</td>\n",
       "      <td>3.35764</td>\n",
       "      <td>8</td>\n",
       "      <td>0</td>\n",
       "      <td>4</td>\n",
       "      <td>April</td>\n",
       "      <td>Montag</td>\n",
       "      <td>morning</td>\n",
       "      <td>11.4</td>\n",
       "      <td>0.0</td>\n",
       "      <td>11</td>\n",
       "      <td>2</td>\n",
       "      <td>163</td>\n",
       "      <td>25149740-86_9668</td>\n",
       "    </tr>\n",
       "    <tr>\n",
       "      <td>2</td>\n",
       "      <td>2</td>\n",
       "      <td>117485263</td>\n",
       "      <td>86_11641</td>\n",
       "      <td>2019-04-01 8:40:53</td>\n",
       "      <td>Reinacherstrasse</td>\n",
       "      <td>primary</td>\n",
       "      <td>3.35764</td>\n",
       "      <td>3.35764</td>\n",
       "      <td>8</td>\n",
       "      <td>0</td>\n",
       "      <td>4</td>\n",
       "      <td>April</td>\n",
       "      <td>Montag</td>\n",
       "      <td>morning</td>\n",
       "      <td>11.4</td>\n",
       "      <td>0.0</td>\n",
       "      <td>8</td>\n",
       "      <td>2</td>\n",
       "      <td>210</td>\n",
       "      <td>117485263-86_11641</td>\n",
       "    </tr>\n",
       "    <tr>\n",
       "      <td>3</td>\n",
       "      <td>3</td>\n",
       "      <td>2621172927</td>\n",
       "      <td>287</td>\n",
       "      <td>2019-04-01 8:40:57</td>\n",
       "      <td>Leimgrubenweg</td>\n",
       "      <td>bus_stop</td>\n",
       "      <td>3.19757</td>\n",
       "      <td>3.19757</td>\n",
       "      <td>8</td>\n",
       "      <td>0</td>\n",
       "      <td>4</td>\n",
       "      <td>April</td>\n",
       "      <td>Montag</td>\n",
       "      <td>morning</td>\n",
       "      <td>11.4</td>\n",
       "      <td>0.0</td>\n",
       "      <td>0</td>\n",
       "      <td>2</td>\n",
       "      <td>163</td>\n",
       "      <td>2621172927-287</td>\n",
       "    </tr>\n",
       "    <tr>\n",
       "      <td>4</td>\n",
       "      <td>4</td>\n",
       "      <td>148833576</td>\n",
       "      <td>86_12436</td>\n",
       "      <td>2019-04-01 8:42:11</td>\n",
       "      <td>Dornacherstrasse</td>\n",
       "      <td>secondary</td>\n",
       "      <td>5.00000</td>\n",
       "      <td>5.00000</td>\n",
       "      <td>8</td>\n",
       "      <td>0</td>\n",
       "      <td>4</td>\n",
       "      <td>April</td>\n",
       "      <td>Montag</td>\n",
       "      <td>morning</td>\n",
       "      <td>11.4</td>\n",
       "      <td>0.0</td>\n",
       "      <td>11</td>\n",
       "      <td>2</td>\n",
       "      <td>65</td>\n",
       "      <td>148833576-86_12436</td>\n",
       "    </tr>\n",
       "  </tbody>\n",
       "</table>\n",
       "</div>"
      ],
      "text/plain": [
       "   Unnamed: 0.1      osm_id    cci_id                date        place_name  \\\n",
       "0             0  1175332462       287  2019-04-01 8:40:49     Leimgrubenweg   \n",
       "1             1    25149740   86_9668  2019-04-01 8:40:53     Leimgrubenweg   \n",
       "2             2   117485263  86_11641  2019-04-01 8:40:53  Reinacherstrasse   \n",
       "3             3  2621172927       287  2019-04-01 8:40:57     Leimgrubenweg   \n",
       "4             4   148833576  86_12436  2019-04-01 8:42:11  Dornacherstrasse   \n",
       "\n",
       "  place_type      cci    cci_p  hour  weekday  month month_german  \\\n",
       "0   bus_stop  3.20000  3.20000     8        0      4        April   \n",
       "1  secondary  3.35764  3.35764     8        0      4        April   \n",
       "2    primary  3.35764  3.35764     8        0      4        April   \n",
       "3   bus_stop  3.19757  3.19757     8        0      4        April   \n",
       "4  secondary  5.00000  5.00000     8        0      4        April   \n",
       "\n",
       "  weekday_german  daytime  t_mean_2m_24h:C  precip_24h:mm  place_type_enc  \\\n",
       "0         Montag  morning             11.4            0.0               0   \n",
       "1         Montag  morning             11.4            0.0              11   \n",
       "2         Montag  morning             11.4            0.0               8   \n",
       "3         Montag  morning             11.4            0.0               0   \n",
       "4         Montag  morning             11.4            0.0              11   \n",
       "\n",
       "   daytime_enc  place_name_enc             comb_id  \n",
       "0            2             163      1175332462-287  \n",
       "1            2             163    25149740-86_9668  \n",
       "2            2             210  117485263-86_11641  \n",
       "3            2             163      2621172927-287  \n",
       "4            2              65  148833576-86_12436  "
      ]
     },
     "execution_count": 13,
     "metadata": {},
     "output_type": "execute_result"
    }
   ],
   "source": [
    "print(in_df.shape)\n",
    "in_df.head()"
   ]
  },
  {
   "cell_type": "code",
   "execution_count": 20,
   "metadata": {},
   "outputs": [],
   "source": [
    "def row_feat_dict(row):\n",
    "    '''\n",
    "    extract features for one row as a dictionary\n",
    "\n",
    "    '''\n",
    "    \n",
    "    cols = ['place_type', 'weekday', 'month', 'daytime']\n",
    "\n",
    "    feat_dict = {c:row[c] for c in cols}  # dictionary for one training instance\n",
    "    \n",
    "    feat_dict['place_name'] = row.place_name.lower()\n",
    "    \n",
    "    \n",
    "    feat_dict['t_mean_2m_24h:C'] = row['t_mean_2m_24h:C']\n",
    "    \n",
    "    feat_dict['precip_24h:mm'] = row['precip_24h:mm']\n",
    "    \n",
    "    \n",
    "    return feat_dict"
   ]
  },
  {
   "cell_type": "markdown",
   "metadata": {},
   "source": [
    "## twitter features"
   ]
  },
  {
   "cell_type": "code",
   "execution_count": null,
   "metadata": {},
   "outputs": [],
   "source": []
  },
  {
   "cell_type": "code",
   "execution_count": 22,
   "metadata": {},
   "outputs": [],
   "source": [
    "feats_dict_list = in_df.apply(lambda x: row_feat_dict(x), axis=1)"
   ]
  },
  {
   "cell_type": "code",
   "execution_count": 23,
   "metadata": {},
   "outputs": [
    {
     "data": {
      "text/plain": [
       "DictVectorizer(dtype=<class 'numpy.float64'>, separator='=', sort=True,\n",
       "               sparse=True)"
      ]
     },
     "execution_count": 23,
     "metadata": {},
     "output_type": "execute_result"
    }
   ],
   "source": [
    "dict_vec = DictVectorizer()\n",
    "\n",
    "dict_vec.fit(feats_dict_list)"
   ]
  },
  {
   "cell_type": "code",
   "execution_count": 71,
   "metadata": {},
   "outputs": [],
   "source": [
    "list(dict_vec.get_feature_names())\n",
    "feature_names = dict_vec.get_feature_names()"
   ]
  },
  {
   "cell_type": "code",
   "execution_count": 25,
   "metadata": {},
   "outputs": [
    {
     "name": "stdout",
     "output_type": "stream",
     "text": [
      "(58242, 347)\n"
     ]
    }
   ],
   "source": [
    "# transform to (dense) feature matrix\n",
    "\n",
    "X = dict_vec.transform(feats_dict_list)\n",
    "X = X.todense()\n",
    "print(X.shape)\n"
   ]
  },
  {
   "cell_type": "code",
   "execution_count": 29,
   "metadata": {},
   "outputs": [
    {
     "data": {
      "text/plain": [
       "array([3.2       , 3.35764015, 3.35764015, ..., 3.86769316, 4.39927712,\n",
       "       4.39927712])"
      ]
     },
     "execution_count": 29,
     "metadata": {},
     "output_type": "execute_result"
    }
   ],
   "source": [
    "y = in_df.cci.values\n",
    "y"
   ]
  },
  {
   "cell_type": "code",
   "execution_count": 66,
   "metadata": {},
   "outputs": [],
   "source": [
    "random_state = 98\n",
    "#random_state = 72\n",
    "\n",
    "\n",
    "pipelines = {\n",
    "    \n",
    "    'LinearRegression': LinearRegression(),\n",
    "    #'DecisionTree': DecisionTreeClassifier(),\n",
    "    #'GBC': GradientBoostingClassifier(random_state=random_state),\n",
    "    'LGBMRegressor': lgb.LGBMRegressor(\n",
    "                                    random_state=random_state,\n",
    "                                    boosting_type='gbdt', \n",
    "                                    learning_rate=0.01,\n",
    "                                    num_leaves=31,\n",
    "                                    max_depth=-1,\n",
    "                                    reg_lambda=0),  # with tuned hyperparams\n",
    "#     'MLP': MLPClassifier(alpha=0.1, \n",
    "#                         activation='tanh',\n",
    "#                         solver='lbfgs',\n",
    "#                         random_state=random_state,\n",
    "#                         hidden_layer_sizes=(30,30),\n",
    "#                         max_iter=500,\n",
    "#                         learning_rate_init=0.001)  # with tuned hyperparams\n",
    "\n",
    "  \n",
    "}"
   ]
  },
  {
   "cell_type": "code",
   "execution_count": 73,
   "metadata": {},
   "outputs": [],
   "source": [
    "def run_pipelines(X, y, pipelines, num_folds=10, random_state=7):\n",
    "    \n",
    "    X, y = shuffle(X, y, random_state=random_state)\n",
    "    \n",
    "    folds = num_folds\n",
    "\n",
    "    for reg_name in pipelines:\n",
    "        print(reg_name)\n",
    "        reg = pipelines[reg_name]\n",
    "        \n",
    "        result = cross_validate(reg, X, y, scoring=['neg_mean_absolute_error'], cv=folds)\n",
    "        \n",
    "        print(result)\n",
    "\n",
    "        reg = reg.fit(X,y)\n",
    "        "
   ]
  },
  {
   "cell_type": "code",
   "execution_count": 74,
   "metadata": {},
   "outputs": [
    {
     "name": "stdout",
     "output_type": "stream",
     "text": [
      "LinearRegression\n",
      "{'fit_time': array([4.06343603, 5.26135135, 7.57071304, 8.52098584, 3.60590315,\n",
      "       4.37710595, 4.17494512, 4.07589293, 4.60212183, 3.67186594]), 'score_time': array([0.00517011, 0.00404787, 0.00488806, 0.00623012, 0.00477886,\n",
      "       0.00525188, 0.00538397, 0.00440812, 0.00399327, 0.00580025]), 'test_neg_mean_absolute_error': array([-5.23620229e-01, -5.32199130e-01, -5.36550829e-01, -5.29596362e-01,\n",
      "       -5.31384032e-01, -5.33055943e-01, -5.85274249e+05, -8.74673936e+05,\n",
      "       -5.27165433e-01, -5.64325166e+05])}\n",
      "LGBMRegressor\n",
      "{'fit_time': array([2.53389025, 2.23073578, 2.35285783, 2.08792877, 2.16487622,\n",
      "       1.95210004, 1.89813495, 2.46655202, 1.98220277, 1.84657407]), 'score_time': array([0.02789688, 0.0277431 , 0.06601906, 0.01983404, 0.03264999,\n",
      "       0.03113174, 0.03314114, 0.02886295, 0.04457712, 0.02765179]), 'test_neg_mean_absolute_error': array([-0.52307177, -0.53335073, -0.53766329, -0.53398625, -0.53407552,\n",
      "       -0.53288344, -0.52908465, -0.52734622, -0.52033064, -0.52552606])}\n"
     ]
    }
   ],
   "source": [
    "run_pipelines(X, y, pipelines)"
   ]
  },
  {
   "cell_type": "code",
   "execution_count": 39,
   "metadata": {},
   "outputs": [
    {
     "data": {
      "text/plain": [
       "['accuracy',\n",
       " 'adjusted_mutual_info_score',\n",
       " 'adjusted_rand_score',\n",
       " 'average_precision',\n",
       " 'balanced_accuracy',\n",
       " 'brier_score_loss',\n",
       " 'completeness_score',\n",
       " 'explained_variance',\n",
       " 'f1',\n",
       " 'f1_macro',\n",
       " 'f1_micro',\n",
       " 'f1_samples',\n",
       " 'f1_weighted',\n",
       " 'fowlkes_mallows_score',\n",
       " 'homogeneity_score',\n",
       " 'jaccard',\n",
       " 'jaccard_macro',\n",
       " 'jaccard_micro',\n",
       " 'jaccard_samples',\n",
       " 'jaccard_weighted',\n",
       " 'max_error',\n",
       " 'mutual_info_score',\n",
       " 'neg_log_loss',\n",
       " 'neg_mean_absolute_error',\n",
       " 'neg_mean_squared_error',\n",
       " 'neg_mean_squared_log_error',\n",
       " 'neg_median_absolute_error',\n",
       " 'normalized_mutual_info_score',\n",
       " 'precision',\n",
       " 'precision_macro',\n",
       " 'precision_micro',\n",
       " 'precision_samples',\n",
       " 'precision_weighted',\n",
       " 'r2',\n",
       " 'recall',\n",
       " 'recall_macro',\n",
       " 'recall_micro',\n",
       " 'recall_samples',\n",
       " 'recall_weighted',\n",
       " 'roc_auc',\n",
       " 'v_measure_score']"
      ]
     },
     "execution_count": 39,
     "metadata": {},
     "output_type": "execute_result"
    }
   ],
   "source": [
    "sorted(metrics.SCORERS.keys())"
   ]
  },
  {
   "cell_type": "code",
   "execution_count": null,
   "metadata": {},
   "outputs": [],
   "source": []
  }
 ],
 "metadata": {
  "kernelspec": {
   "display_name": "smartenv",
   "language": "python",
   "name": "smartenv"
  },
  "language_info": {
   "codemirror_mode": {
    "name": "ipython",
    "version": 3
   },
   "file_extension": ".py",
   "mimetype": "text/x-python",
   "name": "python",
   "nbconvert_exporter": "python",
   "pygments_lexer": "ipython3",
   "version": "3.6.5"
  }
 },
 "nbformat": 4,
 "nbformat_minor": 2
}
