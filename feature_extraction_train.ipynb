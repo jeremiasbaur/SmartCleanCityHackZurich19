{
 "cells": [
  {
   "cell_type": "markdown",
   "metadata": {},
   "source": [
    "# Feature Extraction Training Data"
   ]
  },
  {
   "cell_type": "code",
   "execution_count": 1,
   "metadata": {
    "ExecuteTime": {
     "end_time": "2019-09-28T07:58:08.181613Z",
     "start_time": "2019-09-28T07:58:08.178740Z"
    }
   },
   "outputs": [],
   "source": [
    "import pandas as pd\n",
    "import numpy as np\n",
    "import os"
   ]
  },
  {
   "cell_type": "code",
   "execution_count": 2,
   "metadata": {},
   "outputs": [],
   "source": [
    "%matplotlib inline"
   ]
  },
  {
   "cell_type": "code",
   "execution_count": 3,
   "metadata": {
    "ExecuteTime": {
     "end_time": "2019-09-28T07:58:18.260784Z",
     "start_time": "2019-09-28T07:58:18.251415Z"
    }
   },
   "outputs": [
    {
     "data": {
      "text/plain": [
       "'/Users/tilia/HZ/SmartCleanCityHackZurich19'"
      ]
     },
     "execution_count": 3,
     "metadata": {},
     "output_type": "execute_result"
    }
   ],
   "source": [
    "os.getcwd()"
   ]
  },
  {
   "cell_type": "code",
   "execution_count": 4,
   "metadata": {},
   "outputs": [
    {
     "name": "stdout",
     "output_type": "stream",
     "text": [
      "/Users/tilia/HZ/SmartCleanCityHackZurich19/data\n"
     ]
    }
   ],
   "source": [
    "%cd data"
   ]
  },
  {
   "cell_type": "markdown",
   "metadata": {},
   "source": [
    "## Load the Files"
   ]
  },
  {
   "cell_type": "code",
   "execution_count": 5,
   "metadata": {
    "ExecuteTime": {
     "end_time": "2019-09-28T08:00:12.013828Z",
     "start_time": "2019-09-28T08:00:11.881992Z"
    }
   },
   "outputs": [],
   "source": [
    "pred_msr = pd.read_csv(\"./2019-09-27-basel-measures-prediction-cleaned.csv\", sep=\";\") "
   ]
  },
  {
   "cell_type": "code",
   "execution_count": 6,
   "metadata": {},
   "outputs": [],
   "source": [
    "msr = pd.read_csv(\"./2019-09-27-basel-measures-cleaned.csv\", sep=\";\") "
   ]
  },
  {
   "cell_type": "code",
   "execution_count": 7,
   "metadata": {
    "ExecuteTime": {
     "end_time": "2019-09-28T07:59:28.709917Z",
     "start_time": "2019-09-28T07:59:28.679486Z"
    }
   },
   "outputs": [
    {
     "name": "stdout",
     "output_type": "stream",
     "text": [
      "(58242, 17)\n"
     ]
    },
    {
     "data": {
      "text/html": [
       "<div>\n",
       "<style scoped>\n",
       "    .dataframe tbody tr th:only-of-type {\n",
       "        vertical-align: middle;\n",
       "    }\n",
       "\n",
       "    .dataframe tbody tr th {\n",
       "        vertical-align: top;\n",
       "    }\n",
       "\n",
       "    .dataframe thead th {\n",
       "        text-align: right;\n",
       "    }\n",
       "</style>\n",
       "<table border=\"1\" class=\"dataframe\">\n",
       "  <thead>\n",
       "    <tr style=\"text-align: right;\">\n",
       "      <th></th>\n",
       "      <th>collection</th>\n",
       "      <th>suitcase_id</th>\n",
       "      <th>place_name</th>\n",
       "      <th>place_type</th>\n",
       "      <th>osm_id</th>\n",
       "      <th>cci_id</th>\n",
       "      <th>date</th>\n",
       "      <th>cci</th>\n",
       "      <th>rateCigarrettes</th>\n",
       "      <th>ratePapers</th>\n",
       "      <th>rateBottles</th>\n",
       "      <th>rateExcrements</th>\n",
       "      <th>rateSyringues</th>\n",
       "      <th>rateGums</th>\n",
       "      <th>rateLeaves</th>\n",
       "      <th>rateGrits</th>\n",
       "      <th>rateGlassDebris</th>\n",
       "    </tr>\n",
       "  </thead>\n",
       "  <tbody>\n",
       "    <tr>\n",
       "      <td>0</td>\n",
       "      <td>places</td>\n",
       "      <td>49</td>\n",
       "      <td>Leimgrubenweg</td>\n",
       "      <td>bus_stop</td>\n",
       "      <td>1175332462</td>\n",
       "      <td>287</td>\n",
       "      <td>2019-04-01 8:40:49</td>\n",
       "      <td>3.20000</td>\n",
       "      <td>0.60000</td>\n",
       "      <td>1.2</td>\n",
       "      <td>0.0</td>\n",
       "      <td>0</td>\n",
       "      <td>0</td>\n",
       "      <td>0</td>\n",
       "      <td>0.00000</td>\n",
       "      <td>0</td>\n",
       "      <td>0.0</td>\n",
       "    </tr>\n",
       "    <tr>\n",
       "      <td>1</td>\n",
       "      <td>map_features</td>\n",
       "      <td>49</td>\n",
       "      <td>Leimgrubenweg</td>\n",
       "      <td>secondary</td>\n",
       "      <td>25149740</td>\n",
       "      <td>86_9668</td>\n",
       "      <td>2019-04-01 8:40:53</td>\n",
       "      <td>3.35764</td>\n",
       "      <td>0.44236</td>\n",
       "      <td>1.2</td>\n",
       "      <td>0.0</td>\n",
       "      <td>0</td>\n",
       "      <td>0</td>\n",
       "      <td>0</td>\n",
       "      <td>0.00000</td>\n",
       "      <td>0</td>\n",
       "      <td>0.0</td>\n",
       "    </tr>\n",
       "    <tr>\n",
       "      <td>2</td>\n",
       "      <td>map_features</td>\n",
       "      <td>49</td>\n",
       "      <td>Reinacherstrasse</td>\n",
       "      <td>primary</td>\n",
       "      <td>117485263</td>\n",
       "      <td>86_11641</td>\n",
       "      <td>2019-04-01 8:40:53</td>\n",
       "      <td>3.35764</td>\n",
       "      <td>0.44236</td>\n",
       "      <td>1.2</td>\n",
       "      <td>0.0</td>\n",
       "      <td>0</td>\n",
       "      <td>0</td>\n",
       "      <td>0</td>\n",
       "      <td>0.00000</td>\n",
       "      <td>0</td>\n",
       "      <td>0.0</td>\n",
       "    </tr>\n",
       "    <tr>\n",
       "      <td>3</td>\n",
       "      <td>places</td>\n",
       "      <td>49</td>\n",
       "      <td>Leimgrubenweg</td>\n",
       "      <td>bus_stop</td>\n",
       "      <td>2621172927</td>\n",
       "      <td>287</td>\n",
       "      <td>2019-04-01 8:40:57</td>\n",
       "      <td>3.19757</td>\n",
       "      <td>0.60000</td>\n",
       "      <td>1.2</td>\n",
       "      <td>0.0</td>\n",
       "      <td>0</td>\n",
       "      <td>0</td>\n",
       "      <td>0</td>\n",
       "      <td>0.00243</td>\n",
       "      <td>0</td>\n",
       "      <td>0.0</td>\n",
       "    </tr>\n",
       "    <tr>\n",
       "      <td>4</td>\n",
       "      <td>map_features</td>\n",
       "      <td>49</td>\n",
       "      <td>Dornacherstrasse</td>\n",
       "      <td>secondary</td>\n",
       "      <td>148833576</td>\n",
       "      <td>86_12436</td>\n",
       "      <td>2019-04-01 8:42:11</td>\n",
       "      <td>5.00000</td>\n",
       "      <td>0.00000</td>\n",
       "      <td>0.0</td>\n",
       "      <td>0.0</td>\n",
       "      <td>0</td>\n",
       "      <td>0</td>\n",
       "      <td>0</td>\n",
       "      <td>0.00000</td>\n",
       "      <td>0</td>\n",
       "      <td>0.0</td>\n",
       "    </tr>\n",
       "  </tbody>\n",
       "</table>\n",
       "</div>"
      ],
      "text/plain": [
       "     collection  suitcase_id        place_name place_type      osm_id  \\\n",
       "0        places           49     Leimgrubenweg   bus_stop  1175332462   \n",
       "1  map_features           49     Leimgrubenweg  secondary    25149740   \n",
       "2  map_features           49  Reinacherstrasse    primary   117485263   \n",
       "3        places           49     Leimgrubenweg   bus_stop  2621172927   \n",
       "4  map_features           49  Dornacherstrasse  secondary   148833576   \n",
       "\n",
       "     cci_id                date      cci  rateCigarrettes  ratePapers  \\\n",
       "0       287  2019-04-01 8:40:49  3.20000          0.60000         1.2   \n",
       "1   86_9668  2019-04-01 8:40:53  3.35764          0.44236         1.2   \n",
       "2  86_11641  2019-04-01 8:40:53  3.35764          0.44236         1.2   \n",
       "3       287  2019-04-01 8:40:57  3.19757          0.60000         1.2   \n",
       "4  86_12436  2019-04-01 8:42:11  5.00000          0.00000         0.0   \n",
       "\n",
       "   rateBottles  rateExcrements  rateSyringues  rateGums  rateLeaves  \\\n",
       "0          0.0               0              0         0     0.00000   \n",
       "1          0.0               0              0         0     0.00000   \n",
       "2          0.0               0              0         0     0.00000   \n",
       "3          0.0               0              0         0     0.00243   \n",
       "4          0.0               0              0         0     0.00000   \n",
       "\n",
       "   rateGrits  rateGlassDebris  \n",
       "0          0              0.0  \n",
       "1          0              0.0  \n",
       "2          0              0.0  \n",
       "3          0              0.0  \n",
       "4          0              0.0  "
      ]
     },
     "execution_count": 7,
     "metadata": {},
     "output_type": "execute_result"
    }
   ],
   "source": [
    "print(msr.shape)\n",
    "msr.head()"
   ]
  },
  {
   "cell_type": "markdown",
   "metadata": {},
   "source": [
    "## Select Relevant Columns"
   ]
  },
  {
   "cell_type": "code",
   "execution_count": 8,
   "metadata": {},
   "outputs": [],
   "source": [
    "msr_features = msr[['osm_id', 'cci_id', 'date', 'place_name', 'place_type', 'cci']].copy()"
   ]
  },
  {
   "cell_type": "markdown",
   "metadata": {},
   "source": [
    "## Exclude rubbish types that are not feasible for pedestrians and calculate a new score: p_cci (pedestrian cci)"
   ]
  },
  {
   "cell_type": "code",
   "execution_count": 9,
   "metadata": {},
   "outputs": [],
   "source": [
    "exclude = ['rateGrits', 'rateExcrements', 'rateSyringes', 'rateGlassDebris']\n",
    "\n",
    "relevant = msr[[c for c in msr.columns if c.startswith('rate') and c not in exclude]]\n",
    "\n",
    "relevant = relevant.astype('float')\n",
    "\n",
    "msr_features['cci_p'] = relevant.apply(lambda x: 5.0 - sum(x), axis=1)"
   ]
  },
  {
   "cell_type": "markdown",
   "metadata": {},
   "source": [
    "## Add features from datetime: hour, day, weekday, month and year"
   ]
  },
  {
   "cell_type": "code",
   "execution_count": 10,
   "metadata": {},
   "outputs": [
    {
     "data": {
      "text/html": [
       "<div>\n",
       "<style scoped>\n",
       "    .dataframe tbody tr th:only-of-type {\n",
       "        vertical-align: middle;\n",
       "    }\n",
       "\n",
       "    .dataframe tbody tr th {\n",
       "        vertical-align: top;\n",
       "    }\n",
       "\n",
       "    .dataframe thead th {\n",
       "        text-align: right;\n",
       "    }\n",
       "</style>\n",
       "<table border=\"1\" class=\"dataframe\">\n",
       "  <thead>\n",
       "    <tr style=\"text-align: right;\">\n",
       "      <th></th>\n",
       "      <th>osm_id</th>\n",
       "      <th>cci_id</th>\n",
       "      <th>date</th>\n",
       "      <th>place_name</th>\n",
       "      <th>place_type</th>\n",
       "      <th>cci</th>\n",
       "      <th>cci_p</th>\n",
       "      <th>hour</th>\n",
       "      <th>day</th>\n",
       "      <th>weekday</th>\n",
       "      <th>month</th>\n",
       "      <th>year</th>\n",
       "    </tr>\n",
       "  </thead>\n",
       "  <tbody>\n",
       "    <tr>\n",
       "      <td>0</td>\n",
       "      <td>1175332462</td>\n",
       "      <td>287</td>\n",
       "      <td>2019-04-01 8:40:49</td>\n",
       "      <td>Leimgrubenweg</td>\n",
       "      <td>bus_stop</td>\n",
       "      <td>3.20000</td>\n",
       "      <td>3.20000</td>\n",
       "      <td>8</td>\n",
       "      <td>1</td>\n",
       "      <td>0</td>\n",
       "      <td>4</td>\n",
       "      <td>2019</td>\n",
       "    </tr>\n",
       "    <tr>\n",
       "      <td>1</td>\n",
       "      <td>25149740</td>\n",
       "      <td>86_9668</td>\n",
       "      <td>2019-04-01 8:40:53</td>\n",
       "      <td>Leimgrubenweg</td>\n",
       "      <td>secondary</td>\n",
       "      <td>3.35764</td>\n",
       "      <td>3.35764</td>\n",
       "      <td>8</td>\n",
       "      <td>1</td>\n",
       "      <td>0</td>\n",
       "      <td>4</td>\n",
       "      <td>2019</td>\n",
       "    </tr>\n",
       "    <tr>\n",
       "      <td>2</td>\n",
       "      <td>117485263</td>\n",
       "      <td>86_11641</td>\n",
       "      <td>2019-04-01 8:40:53</td>\n",
       "      <td>Reinacherstrasse</td>\n",
       "      <td>primary</td>\n",
       "      <td>3.35764</td>\n",
       "      <td>3.35764</td>\n",
       "      <td>8</td>\n",
       "      <td>1</td>\n",
       "      <td>0</td>\n",
       "      <td>4</td>\n",
       "      <td>2019</td>\n",
       "    </tr>\n",
       "    <tr>\n",
       "      <td>3</td>\n",
       "      <td>2621172927</td>\n",
       "      <td>287</td>\n",
       "      <td>2019-04-01 8:40:57</td>\n",
       "      <td>Leimgrubenweg</td>\n",
       "      <td>bus_stop</td>\n",
       "      <td>3.19757</td>\n",
       "      <td>3.19757</td>\n",
       "      <td>8</td>\n",
       "      <td>1</td>\n",
       "      <td>0</td>\n",
       "      <td>4</td>\n",
       "      <td>2019</td>\n",
       "    </tr>\n",
       "    <tr>\n",
       "      <td>4</td>\n",
       "      <td>148833576</td>\n",
       "      <td>86_12436</td>\n",
       "      <td>2019-04-01 8:42:11</td>\n",
       "      <td>Dornacherstrasse</td>\n",
       "      <td>secondary</td>\n",
       "      <td>5.00000</td>\n",
       "      <td>5.00000</td>\n",
       "      <td>8</td>\n",
       "      <td>1</td>\n",
       "      <td>0</td>\n",
       "      <td>4</td>\n",
       "      <td>2019</td>\n",
       "    </tr>\n",
       "  </tbody>\n",
       "</table>\n",
       "</div>"
      ],
      "text/plain": [
       "       osm_id    cci_id                date        place_name place_type  \\\n",
       "0  1175332462       287  2019-04-01 8:40:49     Leimgrubenweg   bus_stop   \n",
       "1    25149740   86_9668  2019-04-01 8:40:53     Leimgrubenweg  secondary   \n",
       "2   117485263  86_11641  2019-04-01 8:40:53  Reinacherstrasse    primary   \n",
       "3  2621172927       287  2019-04-01 8:40:57     Leimgrubenweg   bus_stop   \n",
       "4   148833576  86_12436  2019-04-01 8:42:11  Dornacherstrasse  secondary   \n",
       "\n",
       "       cci    cci_p  hour  day  weekday  month  year  \n",
       "0  3.20000  3.20000     8    1        0      4  2019  \n",
       "1  3.35764  3.35764     8    1        0      4  2019  \n",
       "2  3.35764  3.35764     8    1        0      4  2019  \n",
       "3  3.19757  3.19757     8    1        0      4  2019  \n",
       "4  5.00000  5.00000     8    1        0      4  2019  "
      ]
     },
     "execution_count": 10,
     "metadata": {},
     "output_type": "execute_result"
    }
   ],
   "source": [
    "import datetime\n",
    "\n",
    "def get_datefeat(date_str):\n",
    "    a = datetime.datetime.strptime(date_str, '%Y-%m-%d %H:%M:%S')\n",
    "    weekday = a.weekday()\n",
    "    month = a.month\n",
    "    day = a.day\n",
    "    hour = a.hour\n",
    "    year = a.year\n",
    "    \n",
    "    return (hour, day, weekday, month, year)\n",
    "\n",
    "datefeat = pd.DataFrame.from_records(msr_features.date.apply(lambda x: get_datefeat(x)).tolist(), columns=['hour', 'day', 'weekday', 'month', 'year'])\n",
    "\n",
    "msr_features = msr_features.join(datefeat)\n",
    "\n",
    "msr_features.head()"
   ]
  },
  {
   "cell_type": "markdown",
   "metadata": {},
   "source": [
    "### Plot hours when rubbish situation was recorded"
   ]
  },
  {
   "cell_type": "code",
   "execution_count": 11,
   "metadata": {},
   "outputs": [
    {
     "data": {
      "text/plain": [
       "<matplotlib.axes._subplots.AxesSubplot at 0x10c3aff98>"
      ]
     },
     "execution_count": 11,
     "metadata": {},
     "output_type": "execute_result"
    },
    {
     "data": {
      "image/png": "[encoded data removed]",
      "text/plain": [
       "<Figure size 432x288 with 1 Axes>"
      ]
     },
     "metadata": {
      "needs_background": "light"
     },
     "output_type": "display_data"
    }
   ],
   "source": [
    "b = pd.DataFrame(msr_features.hour.value_counts()).reset_index().sort_values(by='index')\n",
    "\n",
    "b.columns = ['hour', 'count']\n",
    "\n",
    "b.plot(x='hour', y='count')"
   ]
  },
  {
   "cell_type": "markdown",
   "metadata": {},
   "source": [
    "## Possible feature for future websearches (currently not used: German names for months and weekdays)"
   ]
  },
  {
   "cell_type": "code",
   "execution_count": 12,
   "metadata": {},
   "outputs": [],
   "source": [
    "german_months = {1:'Januar', 2:'Februar', 3:'März', 4:'April', 5:'Mai', 6:'Juni', 7:'Juli', 8:'August', 9:'September',\n",
    "                10:'Oktober', 11:'November', 12:'Dezember'}\n",
    "\n",
    "german_weekdays = {0:'Montag', 1:'Dienstag', 2:'Mittwoch',3:'Donnerstag',4:'Freitag', 5:'Samstag', 6:'Sonntag'}\n",
    "\n",
    "\n",
    "msr_features['month_german'] = msr_features.month.apply(lambda x: german_months[x])\n",
    "msr_features['weekday_german'] = msr_features.weekday.apply(lambda x: german_weekdays[x])\n",
    "\n"
   ]
  },
  {
   "cell_type": "markdown",
   "metadata": {},
   "source": [
    "## Encode hours as daytimes: night, morning, afternoon, evening"
   ]
  },
  {
   "cell_type": "code",
   "execution_count": 13,
   "metadata": {},
   "outputs": [],
   "source": [
    "def get_daytime(hour):\n",
    "    if 0 <= hour < 6:\n",
    "        return 'night'\n",
    "    if 6 <= hour < 12:\n",
    "        return 'morning'\n",
    "    if 12 <= hour < 19:\n",
    "        return 'afternoon'\n",
    "    if 19 <= hour < 24:\n",
    "        return 'evening'\n",
    "\n",
    "msr_features['daytime'] = msr_features.hour.apply(lambda x: get_daytime(x))"
   ]
  },
  {
   "cell_type": "markdown",
   "metadata": {},
   "source": [
    "## Add list of dates (n dates before the current date) as relevant time frame for social media (twitter)"
   ]
  },
  {
   "cell_type": "code",
   "execution_count": 245,
   "metadata": {},
   "outputs": [],
   "source": [
    "def get_daydate(date_str):\n",
    "    '''Returns shortened date string in the format %Y-%m-%d.'''\n",
    "    \n",
    "    d = datetime.datetime.strptime(date_str, '%Y-%m-%d %H:%M:%S')\n",
    "       \n",
    "    return str(datetime.datetime.strftime(d, '%Y-%m-%d'))\n",
    "\n",
    "msr_features['day_date'] = msr_features.date.apply(lambda x: get_daydate(x))\n",
    "\n",
    "day_tw_feat = msr_features[['day_date']].copy().drop_duplicates()"
   ]
  },
  {
   "cell_type": "code",
   "execution_count": 246,
   "metadata": {},
   "outputs": [],
   "source": [
    "def get_reldates(day_date_str, num_days_before):\n",
    "    '''Get datestrings for the given number of days before the current day. Includes the current day.'''\n",
    "    \n",
    "    d = datetime.datetime.strptime(day_date_str, '%Y-%m-%d')\n",
    "    \n",
    "    dates = [d - datetime.timedelta(days=i) for i in range(num_days_before+1)]\n",
    "    \n",
    "    return [str(datetime.datetime.strftime(d, '%Y-%m-%d')) for d in dates]\n",
    "\n",
    "day_tw_feat['twitter_reldates'] = day_tw_feat.day_date.apply(lambda x: ', '.join(get_reldates(x, 2)))"
   ]
  },
  {
   "cell_type": "code",
   "execution_count": 247,
   "metadata": {},
   "outputs": [
    {
     "data": {
      "text/html": [
       "<div>\n",
       "<style scoped>\n",
       "    .dataframe tbody tr th:only-of-type {\n",
       "        vertical-align: middle;\n",
       "    }\n",
       "\n",
       "    .dataframe tbody tr th {\n",
       "        vertical-align: top;\n",
       "    }\n",
       "\n",
       "    .dataframe thead th {\n",
       "        text-align: right;\n",
       "    }\n",
       "</style>\n",
       "<table border=\"1\" class=\"dataframe\">\n",
       "  <thead>\n",
       "    <tr style=\"text-align: right;\">\n",
       "      <th></th>\n",
       "      <th>day_date</th>\n",
       "      <th>twitter_reldates</th>\n",
       "    </tr>\n",
       "  </thead>\n",
       "  <tbody>\n",
       "    <tr>\n",
       "      <td>0</td>\n",
       "      <td>2019-04-01</td>\n",
       "      <td>2019-04-01, 2019-03-31, 2019-03-30</td>\n",
       "    </tr>\n",
       "    <tr>\n",
       "      <td>245</td>\n",
       "      <td>2019-04-02</td>\n",
       "      <td>2019-04-02, 2019-04-01, 2019-03-31</td>\n",
       "    </tr>\n",
       "    <tr>\n",
       "      <td>773</td>\n",
       "      <td>2019-04-03</td>\n",
       "      <td>2019-04-03, 2019-04-02, 2019-04-01</td>\n",
       "    </tr>\n",
       "    <tr>\n",
       "      <td>1101</td>\n",
       "      <td>2019-04-05</td>\n",
       "      <td>2019-04-05, 2019-04-04, 2019-04-03</td>\n",
       "    </tr>\n",
       "    <tr>\n",
       "      <td>1348</td>\n",
       "      <td>2019-04-09</td>\n",
       "      <td>2019-04-09, 2019-04-08, 2019-04-07</td>\n",
       "    </tr>\n",
       "  </tbody>\n",
       "</table>\n",
       "</div>"
      ],
      "text/plain": [
       "        day_date                    twitter_reldates\n",
       "0     2019-04-01  2019-04-01, 2019-03-31, 2019-03-30\n",
       "245   2019-04-02  2019-04-02, 2019-04-01, 2019-03-31\n",
       "773   2019-04-03  2019-04-03, 2019-04-02, 2019-04-01\n",
       "1101  2019-04-05  2019-04-05, 2019-04-04, 2019-04-03\n",
       "1348  2019-04-09  2019-04-09, 2019-04-08, 2019-04-07"
      ]
     },
     "execution_count": 247,
     "metadata": {},
     "output_type": "execute_result"
    }
   ],
   "source": [
    "day_tw_feat.head()"
   ]
  },
  {
   "cell_type": "markdown",
   "metadata": {},
   "source": [
    "## Load relevant twitter data"
   ]
  },
  {
   "cell_type": "code",
   "execution_count": 167,
   "metadata": {},
   "outputs": [],
   "source": [
    "tw_df = pd.read_csv('twitter_data/all_tweets_relcols.csv')"
   ]
  },
  {
   "cell_type": "code",
   "execution_count": 168,
   "metadata": {},
   "outputs": [
    {
     "data": {
      "text/html": [
       "<div>\n",
       "<style scoped>\n",
       "    .dataframe tbody tr th:only-of-type {\n",
       "        vertical-align: middle;\n",
       "    }\n",
       "\n",
       "    .dataframe tbody tr th {\n",
       "        vertical-align: top;\n",
       "    }\n",
       "\n",
       "    .dataframe thead th {\n",
       "        text-align: right;\n",
       "    }\n",
       "</style>\n",
       "<table border=\"1\" class=\"dataframe\">\n",
       "  <thead>\n",
       "    <tr style=\"text-align: right;\">\n",
       "      <th></th>\n",
       "      <th>id</th>\n",
       "      <th>author</th>\n",
       "      <th>re_tweeter</th>\n",
       "      <th>text</th>\n",
       "      <th>hashtags</th>\n",
       "      <th>mentions</th>\n",
       "      <th>favorite_count</th>\n",
       "      <th>day_date</th>\n",
       "    </tr>\n",
       "  </thead>\n",
       "  <tbody>\n",
       "    <tr>\n",
       "      <td>0</td>\n",
       "      <td>1001074611705057280</td>\n",
       "      <td>baselcommunity</td>\n",
       "      <td>NaN</td>\n",
       "      <td>I  Basel!pic.twitter.com/spqBrYkXky</td>\n",
       "      <td>[]</td>\n",
       "      <td>[]</td>\n",
       "      <td>48</td>\n",
       "      <td>2018-05-28</td>\n",
       "    </tr>\n",
       "    <tr>\n",
       "      <td>1</td>\n",
       "      <td>1177675468780130304</td>\n",
       "      <td>baselcommunity</td>\n",
       "      <td>NaN</td>\n",
       "      <td>Sister Duo Deer Park Avenue Premiere Empowerin...</td>\n",
       "      <td>[]</td>\n",
       "      <td>['@the']</td>\n",
       "      <td>1</td>\n",
       "      <td>2019-09-27</td>\n",
       "    </tr>\n",
       "    <tr>\n",
       "      <td>2</td>\n",
       "      <td>1175859833960050688</td>\n",
       "      <td>deerparkavenue</td>\n",
       "      <td>baselcommunity</td>\n",
       "      <td>Love these Sunday sessions! What’s your favour...</td>\n",
       "      <td>[]</td>\n",
       "      <td>[]</td>\n",
       "      <td>21</td>\n",
       "      <td>2019-09-22</td>\n",
       "    </tr>\n",
       "    <tr>\n",
       "      <td>3</td>\n",
       "      <td>1175359315785502721</td>\n",
       "      <td>drBachme</td>\n",
       "      <td>baselcommunity</td>\n",
       "      <td>Ein #Dauerbrenner im #Strassenverkehr, auch in...</td>\n",
       "      <td>['#Dauerbrenner', '#Strassenverkehr', '#Basel'...</td>\n",
       "      <td>[]</td>\n",
       "      <td>4</td>\n",
       "      <td>2019-09-21</td>\n",
       "    </tr>\n",
       "    <tr>\n",
       "      <td>4</td>\n",
       "      <td>1175073074510749697</td>\n",
       "      <td>FC_Basel_en</td>\n",
       "      <td>baselcommunity</td>\n",
       "      <td>| Our Round of 16 game in the @SchweizerCup ag...</td>\n",
       "      <td>['#FCBasel1893', '#FCSLOFCB']</td>\n",
       "      <td>['@SchweizerCup', '@FCSLO1']</td>\n",
       "      <td>2</td>\n",
       "      <td>2019-09-20</td>\n",
       "    </tr>\n",
       "  </tbody>\n",
       "</table>\n",
       "</div>"
      ],
      "text/plain": [
       "                    id          author      re_tweeter  \\\n",
       "0  1001074611705057280  baselcommunity             NaN   \n",
       "1  1177675468780130304  baselcommunity             NaN   \n",
       "2  1175859833960050688  deerparkavenue  baselcommunity   \n",
       "3  1175359315785502721        drBachme  baselcommunity   \n",
       "4  1175073074510749697     FC_Basel_en  baselcommunity   \n",
       "\n",
       "                                                text  \\\n",
       "0                I  Basel!pic.twitter.com/spqBrYkXky   \n",
       "1  Sister Duo Deer Park Avenue Premiere Empowerin...   \n",
       "2  Love these Sunday sessions! What’s your favour...   \n",
       "3  Ein #Dauerbrenner im #Strassenverkehr, auch in...   \n",
       "4  | Our Round of 16 game in the @SchweizerCup ag...   \n",
       "\n",
       "                                            hashtags  \\\n",
       "0                                                 []   \n",
       "1                                                 []   \n",
       "2                                                 []   \n",
       "3  ['#Dauerbrenner', '#Strassenverkehr', '#Basel'...   \n",
       "4                      ['#FCBasel1893', '#FCSLOFCB']   \n",
       "\n",
       "                       mentions  favorite_count    day_date  \n",
       "0                            []              48  2018-05-28  \n",
       "1                      ['@the']               1  2019-09-27  \n",
       "2                            []              21  2019-09-22  \n",
       "3                            []               4  2019-09-21  \n",
       "4  ['@SchweizerCup', '@FCSLO1']               2  2019-09-20  "
      ]
     },
     "execution_count": 168,
     "metadata": {},
     "output_type": "execute_result"
    }
   ],
   "source": [
    "tw_df.head()"
   ]
  },
  {
   "cell_type": "markdown",
   "metadata": {},
   "source": [
    "## Match tweets to relevant dates"
   ]
  },
  {
   "cell_type": "code",
   "execution_count": 169,
   "metadata": {},
   "outputs": [],
   "source": [
    "class RelevantDateTweetsFeats(object):\n",
    "    def __init__(self, twitter_df):\n",
    "        self.data = dict()\n",
    "        self.twitter = twitter_df\n",
    "        \n",
    "    def get_day_tweets(self, day_date):\n",
    "        if day_date in self.data:\n",
    "            return self.data[day_date]\n",
    "        else:\n",
    "            rel_df = self.twitter[self.twitter['day_date'] == str(day_date)].copy()\n",
    "            rel_df = rel_df[['author', 're_tweeter', 'text', 'hashtags', 'mentions', 'favorite_count']]\n",
    "\n",
    "            self.data[day_date] = rel_df\n",
    "            return rel_df\n",
    "        \n",
    "    def get_daterange_tweets(self, daterange_list):\n",
    "        # pandas dataframe for the whole timerange\n",
    "        daterange_df = pd.DataFrame()\n",
    "        for date_day in daterange_list:\n",
    "            daterange_df = daterange_df.append(self.get_day_tweets(date_day))\n",
    "                                               \n",
    "        daterange_info_columns = ['authors', 're_tweeters', 'tweets_text', 'hashtags', 'mentions', 'favorite_counts']\n",
    "        b = daterange_df.astype('str').values.T.tolist()\n",
    "\n",
    "        exclude = ['nan', '[]']\n",
    "        data_dict = {c:[i.rstrip(']').lstrip('[') for i in b if i not in exclude] for c,b in zip(daterange_info_columns, b)}                                                                          \n",
    "        return data_dict\n",
    "\n",
    "reldate_twfeat = RelevantDateTweetsFeats(tw_df)\n",
    "            "
   ]
  },
  {
   "cell_type": "code",
   "execution_count": 170,
   "metadata": {},
   "outputs": [
    {
     "data": {
      "text/plain": [
       "0        {'authors': ['deerparkavenue', 'baselcommunity...\n",
       "245      {'authors': ['jsdBS', 'deerparkavenue', 'basel...\n",
       "773      {'authors': ['baselcommunity', 'jsdBS', 'deerp...\n",
       "1101     {'authors': ['baselcommunity', 'PastorsWife202...\n",
       "1348     {'authors': ['baselcommunity', 'baselcommunity...\n",
       "                               ...                        \n",
       "54745    {'authors': ['BaselStadt', 'BaselStadt', 'base...\n",
       "55365    {'authors': ['BaselStadt', 'BaselStadt', 'Base...\n",
       "56067    {'authors': ['RheinTemp', 'RheinTemp', 'BaselS...\n",
       "56810    {'authors': ['BaselStadt', 'BaselStadt', 'Base...\n",
       "57535    {'authors': ['FC_Basel_en', 'FC_Basel_en', 'sc...\n",
       "Name: twitter_reldates, Length: 106, dtype: object"
      ]
     },
     "execution_count": 170,
     "metadata": {},
     "output_type": "execute_result"
    }
   ],
   "source": [
    "# match relevant date ranges from feature dataframe with the corresponding dates in the twitter dataframe\n",
    "\n",
    "twfeat_values = day_tw_feat.twitter_reldates.apply(lambda x: reldate_twfeat.get_daterange_tweets(x.split(', ')))\n",
    "twfeat_values"
   ]
  },
  {
   "cell_type": "code",
   "execution_count": 173,
   "metadata": {},
   "outputs": [
    {
     "name": "stdout",
     "output_type": "stream",
     "text": [
      "(106, 6)\n"
     ]
    },
    {
     "data": {
      "text/html": [
       "<div>\n",
       "<style scoped>\n",
       "    .dataframe tbody tr th:only-of-type {\n",
       "        vertical-align: middle;\n",
       "    }\n",
       "\n",
       "    .dataframe tbody tr th {\n",
       "        vertical-align: top;\n",
       "    }\n",
       "\n",
       "    .dataframe thead th {\n",
       "        text-align: right;\n",
       "    }\n",
       "</style>\n",
       "<table border=\"1\" class=\"dataframe\">\n",
       "  <thead>\n",
       "    <tr style=\"text-align: right;\">\n",
       "      <th></th>\n",
       "      <th>authors</th>\n",
       "      <th>re_tweeters</th>\n",
       "      <th>tweets_text</th>\n",
       "      <th>hashtags</th>\n",
       "      <th>mentions</th>\n",
       "      <th>favorite_counts</th>\n",
       "    </tr>\n",
       "  </thead>\n",
       "  <tbody>\n",
       "    <tr>\n",
       "      <td>0</td>\n",
       "      <td>[FC_Basel_en, baselcommunity, RheinTemp, deerp...</td>\n",
       "      <td>[baselcommunity]</td>\n",
       "      <td>[\"Baselworld cooperates with Basel restaurants...</td>\n",
       "      <td>['#LoveBasel', '#Rugby', '#Basel', '#RFCBasel'...</td>\n",
       "      <td>['@SH_RugbyClub', '@KegMunich', '@amnesty_de',...</td>\n",
       "      <td>[6, 3, 13, 1, 11, 0]</td>\n",
       "    </tr>\n",
       "    <tr>\n",
       "      <td>1</td>\n",
       "      <td>[deerparkavenue, jsdBS, RheinTemp, baselcommun...</td>\n",
       "      <td>[baselcommunity]</td>\n",
       "      <td>[\"Baselworld cooperates with Basel restaurants...</td>\n",
       "      <td>['#LoveBasel', '#Morgaehn']</td>\n",
       "      <td>['@KegMunich', '@amnesty_de']</td>\n",
       "      <td>[3, 13, 0, 1]</td>\n",
       "    </tr>\n",
       "    <tr>\n",
       "      <td>2</td>\n",
       "      <td>[deerparkavenue, jsdBS, baselcommunity]</td>\n",
       "      <td>[baselcommunity]</td>\n",
       "      <td>[\"Baselworld cooperates with Basel restaurants...</td>\n",
       "      <td>[]</td>\n",
       "      <td>['@KegMunich', '@amnesty_de']</td>\n",
       "      <td>[3, 13, 0, 1]</td>\n",
       "    </tr>\n",
       "    <tr>\n",
       "      <td>3</td>\n",
       "      <td>[PastorsWife2020, jsdBS, BergliBooks, baselcom...</td>\n",
       "      <td>[baselcommunity]</td>\n",
       "      <td>[Can Swiss Currency be Counterfeited? Read Ber...</td>\n",
       "      <td>['#lovebasel', '#like', '#FF', '#FollowFriday'...</td>\n",
       "      <td>['@baselcommunity']</td>\n",
       "      <td>[4, 2, 3, 1, 10, 11, 0]</td>\n",
       "    </tr>\n",
       "    <tr>\n",
       "      <td>4</td>\n",
       "      <td>[baselcommunity]</td>\n",
       "      <td>[]</td>\n",
       "      <td>[Deer Park Avenue with renowned literary agent...</td>\n",
       "      <td>[]</td>\n",
       "      <td>[]</td>\n",
       "      <td>[3, 0, 1]</td>\n",
       "    </tr>\n",
       "  </tbody>\n",
       "</table>\n",
       "</div>"
      ],
      "text/plain": [
       "                                             authors       re_tweeters  \\\n",
       "0  [FC_Basel_en, baselcommunity, RheinTemp, deerp...  [baselcommunity]   \n",
       "1  [deerparkavenue, jsdBS, RheinTemp, baselcommun...  [baselcommunity]   \n",
       "2            [deerparkavenue, jsdBS, baselcommunity]  [baselcommunity]   \n",
       "3  [PastorsWife2020, jsdBS, BergliBooks, baselcom...  [baselcommunity]   \n",
       "4                                   [baselcommunity]                []   \n",
       "\n",
       "                                         tweets_text  \\\n",
       "0  [\"Baselworld cooperates with Basel restaurants...   \n",
       "1  [\"Baselworld cooperates with Basel restaurants...   \n",
       "2  [\"Baselworld cooperates with Basel restaurants...   \n",
       "3  [Can Swiss Currency be Counterfeited? Read Ber...   \n",
       "4  [Deer Park Avenue with renowned literary agent...   \n",
       "\n",
       "                                            hashtags  \\\n",
       "0  ['#LoveBasel', '#Rugby', '#Basel', '#RFCBasel'...   \n",
       "1                        ['#LoveBasel', '#Morgaehn']   \n",
       "2                                                 []   \n",
       "3  ['#lovebasel', '#like', '#FF', '#FollowFriday'...   \n",
       "4                                                 []   \n",
       "\n",
       "                                            mentions          favorite_counts  \n",
       "0  ['@SH_RugbyClub', '@KegMunich', '@amnesty_de',...     [6, 3, 13, 1, 11, 0]  \n",
       "1                      ['@KegMunich', '@amnesty_de']            [3, 13, 0, 1]  \n",
       "2                      ['@KegMunich', '@amnesty_de']            [3, 13, 0, 1]  \n",
       "3                                ['@baselcommunity']  [4, 2, 3, 1, 10, 11, 0]  \n",
       "4                                                 []                [3, 0, 1]  "
      ]
     },
     "execution_count": 173,
     "metadata": {},
     "output_type": "execute_result"
    }
   ],
   "source": [
    "# convert output into pandas dataframe and remove duplicate values in the same cell\n",
    "\n",
    "tweet_info_df = pd.DataFrame.from_records(list(twfeat_values))\n",
    "\n",
    "for c in tweet_info_df.columns:\n",
    "    tweet_info_df[c] = tweet_info_df[c].apply(lambda x: list(set(x)))\n",
    "    \n",
    "print(tweet_info_df.shape)\n",
    "tweet_info_df.head()"
   ]
  },
  {
   "cell_type": "code",
   "execution_count": 274,
   "metadata": {},
   "outputs": [],
   "source": [
    "# list of all place names with rubbish records\n",
    "import re\n",
    "\n",
    "# normalize and lower-case place names\n",
    "place_names = [re.sub('basel, ', '', i.lower()) for i in list(msr_features.place_name.unique())]\n",
    "place_names = [i for i in list(set(place_names)) if i]\n",
    "\n",
    "len(place_names)\n",
    "\n",
    "with open('places.txt', 'w') as p_f:\n",
    "    for pl in place_names:\n",
    "        p_f.write(pl + '\\n')"
   ]
  },
  {
   "cell_type": "markdown",
   "metadata": {},
   "source": [
    "### Add Twitter feature: record mentions of place names in tweets"
   ]
  },
  {
   "cell_type": "code",
   "execution_count": 257,
   "metadata": {},
   "outputs": [
    {
     "data": {
      "text/plain": [
       "                                                                                                               61\n",
       "klybeckstrasse                                                                                                  3\n",
       "theater, erlenmatt                                                                                              3\n",
       "hegenheimermattweg, bachgraben, breite                                                                          3\n",
       "bundesplatz                                                                                                     2\n",
       "horburgstrasse                                                                                                  2\n",
       "wasgenring                                                                                                      2\n",
       "rheingasse                                                                                                      2\n",
       "aeschenplatz                                                                                                    2\n",
       "theater, kleinhüningen, luzernerring, bruderholzstrasse, neubad                                                 2\n",
       "bruderholzstrasse, kannenfeldplatz                                                                              2\n",
       "wielandplatz, schützenhaus, brennerstrasse                                                                      1\n",
       "schützenmattstrasse                                                                                             1\n",
       "nauenstrasse, mühlenberg, morgartenring, marktplatz                                                             1\n",
       "centralbahnplatz, schützenmattstrasse                                                                           1\n",
       "dreispitz, bruderholzstrasse, allschwilerplatz                                                                  1\n",
       "neubad, kleinhüningen                                                                                           1\n",
       "redingstrasse, marktplatz, morgartenring, nauenstrasse, mühlenberg                                              1\n",
       "bundesplatz, horburgstrasse                                                                                     1\n",
       "centralbahnplatz, zwinglihaus, schützenmattstrasse                                                              1\n",
       "dreispitz, bruderholzstrasse, rheingasse                                                                        1\n",
       "dreispitz                                                                                                       1\n",
       "spalenberg, münsterplatz, st. jakob, gundeldingerstrasse                                                        1\n",
       "eisengasse                                                                                                      1\n",
       "centralbahnplatz, gundeldingerstrasse, rheingasse                                                               1\n",
       "centralbahnplatz, eisengasse                                                                                    1\n",
       "wasgenring, erlenmatt                                                                                           1\n",
       "redingstrasse                                                                                                   1\n",
       "redingstrasse, marktplatz                                                                                       1\n",
       "wiesenstrasse                                                                                                   1\n",
       "centralbahnplatz, nauenstrasse, morgartenring, mühlenberg                                                       1\n",
       "theater, gundeldingerstrasse, iwb, luzernerring, kleinhüningen, neubad, bruderholzstrasse, reinacherstrasse     1\n",
       "centralbahnplatz, zwinglihaus, kannenfeldplatz                                                                  1\n",
       "Name: tw_place_mentions, dtype: int64"
      ]
     },
     "execution_count": 257,
     "metadata": {},
     "output_type": "execute_result"
    }
   ],
   "source": [
    "tweet_info_df['tweets_text_lower'] = tweet_info_df.tweets_text.apply(lambda x: [i.lower() for i in x])\n",
    "\n",
    "place_mention = tweet_info_df['tweets_text_lower'].apply(lambda x: [i for i in place_names if i in ' '.join(x)])\n",
    "\n",
    "place_tuples = place_mention.apply(lambda x: tuple(set(x)))\n",
    "\n",
    "tweet_info_df['tw_place_mentions'] = place_tuples\n",
    "\n",
    "tweet_info_df.tw_place_mentions.value_counts()\n",
    "\n",
    "\n",
    "day_tw_feat['tw_place_mentions'] = list(tweet_info_df['tw_place_mentions'])\n",
    "day_tw_feat['tw_place_mentions'] = day_tw_feat.tw_place_mentions.apply(lambda x: ', '.join(x))\n",
    "\n",
    "#distribution of place name mentions (counts of days)\n",
    "day_tw_feat.tw_place_mentions.value_counts()"
   ]
  },
  {
   "cell_type": "raw",
   "metadata": {},
   "source": [
    "# save twitter features (day - level)\n",
    "\n",
    "day_tw_feat.to_csv('twitter_day_features.csv', index=None, header=True)\n",
    "\n",
    "day_tw_feat.head()"
   ]
  },
  {
   "cell_type": "code",
   "execution_count": 287,
   "metadata": {},
   "outputs": [
    {
     "data": {
      "text/plain": [
       "array([\"'#rugby'\", \"'#basel'\", \"'#rfcbasel'\", \"'#lovebasel'\",\n",
       "       \"'#fcbasel1893'\", \"'#fclfcb'\", \"'#morgaehn'\", \"'#coffee'\",\n",
       "       \"'#snow'\", \"'#rain'\", \"'#cold'\", \"'#fridaymotivation'\",\n",
       "       \"'#flashbackfriday'\", \"'#followfriday'\", \"'#like'\", \"'#ff'\",\n",
       "       \"'#community'\", \"'#international'\", \"'#munichsessions'\",\n",
       "       \"'#cappuccino'\", \"'#fcz'\", \"'#fczuerich'\", \"'#stadtclub'\",\n",
       "       \"'#easter'\", \"'#happyeastersunday'\", \"'#rotblaulive'\",\n",
       "       \"'#kantonspolizei'\", \"'#fcsgfcb'\", \"'#giverny'\", \"'#gardens'\",\n",
       "       \"'#travel'\", \"'#jachat'\", \"'#munich'\", \"'#salzburg'\", \"'#lugano'\",\n",
       "       \"'#fcbfcz'\", \"'#royalbaby'\", \"'#rhein'\", \"'#swissguards'\",\n",
       "       \"'#vatican'\", \"'#biggquotes'\", \"'#redcrossday'\",\n",
       "       \"'#redcrescentday'\", \"'#switzerland'\", \"'#happymothersday'\",\n",
       "       \"'#arbeitsunfall'\", \"'#riehen'\", \"'#openhouseworldwide'\",\n",
       "       \"'#warteck'\", \"'#internationalmuseumday'\", \"'#fifaworldmuseum'\",\n",
       "       \"'#rettung'\", \"'#spalentor'\", \"'#cups13ger'\", \"'#fcbthu'\",\n",
       "       \"'#hscfinal'\", \"'#techsupport'\", \"'#staatsanwaltschaft'\",\n",
       "       \"'#brand'\", \"'#baselhaze'\", \"'#feldschiessen'\", \"'#news'\",\n",
       "       \"'#artrooms'\", \"'#sundig'\", \"'#feuerwerk'\", \"'#feuerwerke'\",\n",
       "       \"'#verbieten'\", \"'#rebeccahorn'\", \"'#museumtinguely'\",\n",
       "       \"'#artbasel'\", \"'#vents'\", \"'#mag'\", \"'#rock'\", \"'#girlduo'\",\n",
       "       \"'#us'\", \"'#swiss'\", \"'#scars'\", \"'#release'\", \"'#nmf'\",\n",
       "       \"'#schweizersommer'\", \"'#schweizer'\", \"'#geschichte'\", \"'#safest'\",\n",
       "       \"'#cities'\", \"'#abudhabi'\", \"'#doha'\", \"'#osaka'\", \"'#singapore'\",\n",
       "       \"'#quebeccity'\", \"'#tokyo'\", \"'#bern'\", \"'#irvine'\",\n",
       "       \"'#inlovewithswitzerland'\", \"'#eventprofs'\", \"'#openairkino'\",\n",
       "       \"'#muttenz'\", \"'#kirchhof'\", \"'#rheinschwimmen'\",\n",
       "       \"'#rehbergerweg'\", \"'#hunde'\", \"'#baseltourims'\", \"'#photography'\",\n",
       "       \"'#photographie'\", \"'#photooftheday'\", \"'#photooftheweek'\",\n",
       "       \"'#voyage'\", \"'#daag'\", \"'#basler'\", \"'#verkehrsbetriebe'\",\n",
       "       \"'#bvb'\", \"'#extrafahrt'\", \"'#stadtrundfahrt'\", \"'#extra'\",\n",
       "       \"'#wagen'\", \"'#openair'\", \"'#cabriot'\", \"'#leitstelle'\", \"'#tbt'\",\n",
       "       \"'#throwbackthursday'\", \"'#beyelerstingel'\", \"'#optimiert'\",\n",
       "       \"'#rochetower'\", \"'#baselswitzerland'\", \"'#instatravel'\",\n",
       "       \"'#travelgram'\", \"'#blickheimat'\", \"'#citybestpics'\", \"'#cbviews'\",\n",
       "       \"'#theprettycities'\", \"'#gua'\", \"'#geneva'\", \"'#guardiancities'\",\n",
       "       \"'#exploreswitze'\", \"'#exploreswitzerland'\", \"'#onthisday'\",\n",
       "       \"'#independenceday'\", \"'#baseltattoo'\", \"'#zahlenbs'\",\n",
       "       \"'#history'\", \"'#kapobs'\", \"'#wednesdaywisdom'\",\n",
       "       \"'#switzerlandtourism'\", \"'#royalsignals'\", \"'#thisisbelonging'\",\n",
       "       \"'#bagpipes'\", \"'#pipeband'\", \"'#armyreserve'\", \"'#scotlandisnow'\",\n",
       "       \"'#mondaymotivation'\", \"'#mondaywisdom'\", \"'#worldemojiday2019'\",\n",
       "       \"'#worldemojiday'\", \"'#pau'\", \"'#airpy'\", \"'#promo'\", \"'#airport'\",\n",
       "       \"'#avgeek'\", \"'#repost'\", \"'#histmuseumbs'\", \"'#lovehmb'\",\n",
       "       \"'#museenbasel'\", \"'#inklusion'\", \"'#openairbasel'\", \"'#bau'\",\n",
       "       \"'#art'\", \"'#museums'\", \"'#jeantinguely'\", \"'#saltaconbasilea'\",\n",
       "       \"'#gu'\", \"'#explo'\", \"'#allianzcinema'\", \"'#rt'\", \"'#bundesfeier'\",\n",
       "       \"'#veranstaltung'\", \"'#betrugsvariante'\", \"'#architecture'\",\n",
       "       \"'#roche'\", \"'#bestintravel'\", \"'#switzerl'\",\n",
       "       \"'#maischterexpress'\", \"'#bestintrav'\", \"'#g'\", \"'#orisfotopoint'\",\n",
       "       \"'#fehlalarm'\", \"'#baselerfahren'\", \"'#exploresw'\", \"'#thepr'\",\n",
       "       \"'#tuesdaythoughts'\", \"'#city'\", \"'#bale'\",\n",
       "       \"'#patrimoineindustriel'\", \"'#industrialheritage'\",\n",
       "       \"'#rogerfederer'\", \"'#happybirthday'\", \"'#internationalcatday'\",\n",
       "       \"'#schulanfang'\", \"'#schulwegkampagne'\", \"'#guardiancit'\",\n",
       "       \"'#bestintr'\", \"'#loveba'\", \"'#imfluss'\", \"'#titoandtarantula'\",\n",
       "       \"'#pronciplesmanagement'\", \"'#productionmanager'\",\n",
       "       \"'#eventmanager'\", \"'#photoshooting'\", \"'#rhine'\",\n",
       "       \"'#summerinthecity'\", \"'#innovation'\", \"'#guar'\", \"'#sponsored'\",\n",
       "       \"'#journeybackintime'\", \"'#swisshistorichotels'\",\n",
       "       \"'#rathausbasel'\", \"'#thepre'\", \"'#baustelle'\", \"'#gundeli'\",\n",
       "       \"'#thursdaymotivation'\", \"'#exploreswitzerla'\", \"'#music'\",\n",
       "       \"'#jazz'\", \"'#whodiditbetter'\", \"'#basellife'\", \"'#exploreswitz'\",\n",
       "       \"'#coffeetime'\", \"'#coffeebreak'\", \"'#augustaraurica'\",\n",
       "       \"'#basellandtourismus'\", \"'#travelgra'\", \"'#danggscheen'\",\n",
       "       \"'#sicherheit'\", \"'#infrastruktur'\", \"'#behig'\",\n",
       "       \"'#switzerlandwond'\", \"'#travelg'\", \"'#swissambassador'\",\n",
       "       \"'#behoben'\", \"'#baselland'\", \"'#tiefbauamtbaselland'\", \"'#6er'\",\n",
       "       \"'#baschi'\", \"'#heiner'\", \"'#vischer'\", \"'#guardi'\",\n",
       "       \"'#sundaythoughts'\", \"'#exploreswitzerl'\", \"'#jakobsberg'\",\n",
       "       \"'#milizfeuerwehr'\", \"'#citybe'\", \"'#srfarena'\", \"'#eurotrek'\",\n",
       "       \"'#flexity'\", \"'#sonntagsbrunch'\", \"'#herbst'\", \"'#theprettyciti'\",\n",
       "       \"'#italy'\", \"'#swisstravelsystem'\", \"'#swmb'\", \"'#museum'\",\n",
       "       \"'#corset'\", \"'#citybestpi'\", \"'#thepret'\", \"'#igersbasel'\",\n",
       "       \"'#igersswitzerland'\", \"'#ig_switzerland'\", \"'#tellus'\", \"'#tipp'\",\n",
       "       \"'#streetart'\", \"'#grosserratbs'\", \"'#gmhoteldesjahres2020'\",\n",
       "       \"'#swissdeluxehotels'\", \"'#leadinghotelsoftheworld'\",\n",
       "       \"'#gaultmillauschweiz'\", \"'#gaultmillausuisse'\", \"'#explores'\",\n",
       "       \"'#tip'\", \"'#blaulichttag'\", \"'#backtothefuture'\",\n",
       "       \"'#switzerlandwonderland'\", \"'#thepretty'\", \"'#baselerleben'\",\n",
       "       \"'#nofilter'\", \"'#switzerlandwonderlan'\", \"'#eventlocation'\",\n",
       "       \"'#fcslofcb'\", \"'#uel'\", \"'#exp'\"], dtype=object)"
      ]
     },
     "execution_count": 287,
     "metadata": {},
     "output_type": "execute_result"
    }
   ],
   "source": [
    "hash_lower = tweet_info_df['hashtags'].apply(lambda x: list(set([i.lower() for i in x])))\n",
    "#hash_lower = hash_lower.apply(lambda x: type(x))\n",
    "#[item for sublist in hash_lower for item in sublist]\n",
    "\n",
    "hash_lower = hash_lower.apply(pd.Series).stack().reset_index(drop=True)\n",
    "\n",
    "hash_lower = hash_lower.apply(lambda x: x.split(', '))\n",
    "\n",
    "hash_lower = hash_lower.apply(pd.Series).stack().reset_index(drop=True)\n",
    "\n",
    "hash_lower.unique()"
   ]
  },
  {
   "cell_type": "code",
   "execution_count": 153,
   "metadata": {},
   "outputs": [
    {
     "data": {
      "text/html": [
       "<div>\n",
       "<style scoped>\n",
       "    .dataframe tbody tr th:only-of-type {\n",
       "        vertical-align: middle;\n",
       "    }\n",
       "\n",
       "    .dataframe tbody tr th {\n",
       "        vertical-align: top;\n",
       "    }\n",
       "\n",
       "    .dataframe thead th {\n",
       "        text-align: right;\n",
       "    }\n",
       "</style>\n",
       "<table border=\"1\" class=\"dataframe\">\n",
       "  <thead>\n",
       "    <tr style=\"text-align: right;\">\n",
       "      <th></th>\n",
       "      <th>osm_id</th>\n",
       "      <th>cci_id</th>\n",
       "      <th>date</th>\n",
       "      <th>place_name</th>\n",
       "      <th>place_type</th>\n",
       "      <th>cci</th>\n",
       "      <th>cci_p</th>\n",
       "      <th>hour</th>\n",
       "      <th>day</th>\n",
       "      <th>weekday</th>\n",
       "      <th>month</th>\n",
       "      <th>year</th>\n",
       "      <th>month_german</th>\n",
       "      <th>weekday_german</th>\n",
       "      <th>daytime</th>\n",
       "      <th>twitter_reldates</th>\n",
       "    </tr>\n",
       "  </thead>\n",
       "  <tbody>\n",
       "    <tr>\n",
       "      <td>0</td>\n",
       "      <td>1175332462</td>\n",
       "      <td>287</td>\n",
       "      <td>2019-04-01 8:40:49</td>\n",
       "      <td>Leimgrubenweg</td>\n",
       "      <td>bus_stop</td>\n",
       "      <td>3.20000</td>\n",
       "      <td>3.20000</td>\n",
       "      <td>8</td>\n",
       "      <td>1</td>\n",
       "      <td>0</td>\n",
       "      <td>4</td>\n",
       "      <td>2019</td>\n",
       "      <td>April</td>\n",
       "      <td>Montag</td>\n",
       "      <td>morning</td>\n",
       "      <td>2019-04-01, 2019-03-31, 2019-03-30</td>\n",
       "    </tr>\n",
       "    <tr>\n",
       "      <td>1</td>\n",
       "      <td>25149740</td>\n",
       "      <td>86_9668</td>\n",
       "      <td>2019-04-01 8:40:53</td>\n",
       "      <td>Leimgrubenweg</td>\n",
       "      <td>secondary</td>\n",
       "      <td>3.35764</td>\n",
       "      <td>3.35764</td>\n",
       "      <td>8</td>\n",
       "      <td>1</td>\n",
       "      <td>0</td>\n",
       "      <td>4</td>\n",
       "      <td>2019</td>\n",
       "      <td>April</td>\n",
       "      <td>Montag</td>\n",
       "      <td>morning</td>\n",
       "      <td>2019-04-01, 2019-03-31, 2019-03-30</td>\n",
       "    </tr>\n",
       "    <tr>\n",
       "      <td>2</td>\n",
       "      <td>117485263</td>\n",
       "      <td>86_11641</td>\n",
       "      <td>2019-04-01 8:40:53</td>\n",
       "      <td>Reinacherstrasse</td>\n",
       "      <td>primary</td>\n",
       "      <td>3.35764</td>\n",
       "      <td>3.35764</td>\n",
       "      <td>8</td>\n",
       "      <td>1</td>\n",
       "      <td>0</td>\n",
       "      <td>4</td>\n",
       "      <td>2019</td>\n",
       "      <td>April</td>\n",
       "      <td>Montag</td>\n",
       "      <td>morning</td>\n",
       "      <td>2019-04-01, 2019-03-31, 2019-03-30</td>\n",
       "    </tr>\n",
       "    <tr>\n",
       "      <td>3</td>\n",
       "      <td>2621172927</td>\n",
       "      <td>287</td>\n",
       "      <td>2019-04-01 8:40:57</td>\n",
       "      <td>Leimgrubenweg</td>\n",
       "      <td>bus_stop</td>\n",
       "      <td>3.19757</td>\n",
       "      <td>3.19757</td>\n",
       "      <td>8</td>\n",
       "      <td>1</td>\n",
       "      <td>0</td>\n",
       "      <td>4</td>\n",
       "      <td>2019</td>\n",
       "      <td>April</td>\n",
       "      <td>Montag</td>\n",
       "      <td>morning</td>\n",
       "      <td>2019-04-01, 2019-03-31, 2019-03-30</td>\n",
       "    </tr>\n",
       "    <tr>\n",
       "      <td>4</td>\n",
       "      <td>148833576</td>\n",
       "      <td>86_12436</td>\n",
       "      <td>2019-04-01 8:42:11</td>\n",
       "      <td>Dornacherstrasse</td>\n",
       "      <td>secondary</td>\n",
       "      <td>5.00000</td>\n",
       "      <td>5.00000</td>\n",
       "      <td>8</td>\n",
       "      <td>1</td>\n",
       "      <td>0</td>\n",
       "      <td>4</td>\n",
       "      <td>2019</td>\n",
       "      <td>April</td>\n",
       "      <td>Montag</td>\n",
       "      <td>morning</td>\n",
       "      <td>2019-04-01, 2019-03-31, 2019-03-30</td>\n",
       "    </tr>\n",
       "  </tbody>\n",
       "</table>\n",
       "</div>"
      ],
      "text/plain": [
       "       osm_id    cci_id                date        place_name place_type  \\\n",
       "0  1175332462       287  2019-04-01 8:40:49     Leimgrubenweg   bus_stop   \n",
       "1    25149740   86_9668  2019-04-01 8:40:53     Leimgrubenweg  secondary   \n",
       "2   117485263  86_11641  2019-04-01 8:40:53  Reinacherstrasse    primary   \n",
       "3  2621172927       287  2019-04-01 8:40:57     Leimgrubenweg   bus_stop   \n",
       "4   148833576  86_12436  2019-04-01 8:42:11  Dornacherstrasse  secondary   \n",
       "\n",
       "       cci    cci_p  hour  day  weekday  month  year month_german  \\\n",
       "0  3.20000  3.20000     8    1        0      4  2019        April   \n",
       "1  3.35764  3.35764     8    1        0      4  2019        April   \n",
       "2  3.35764  3.35764     8    1        0      4  2019        April   \n",
       "3  3.19757  3.19757     8    1        0      4  2019        April   \n",
       "4  5.00000  5.00000     8    1        0      4  2019        April   \n",
       "\n",
       "  weekday_german  daytime                    twitter_reldates  \n",
       "0         Montag  morning  2019-04-01, 2019-03-31, 2019-03-30  \n",
       "1         Montag  morning  2019-04-01, 2019-03-31, 2019-03-30  \n",
       "2         Montag  morning  2019-04-01, 2019-03-31, 2019-03-30  \n",
       "3         Montag  morning  2019-04-01, 2019-03-31, 2019-03-30  \n",
       "4         Montag  morning  2019-04-01, 2019-03-31, 2019-03-30  "
      ]
     },
     "execution_count": 153,
     "metadata": {},
     "output_type": "execute_result"
    }
   ],
   "source": [
    "msr_features.head()"
   ]
  },
  {
   "cell_type": "code",
   "execution_count": null,
   "metadata": {},
   "outputs": [],
   "source": [
    "#number tweets\n",
    "#texts tweets\n",
    "#authors \n",
    "#all hashtags\n",
    "#all mentions\n",
    "#all favority counts"
   ]
  },
  {
   "cell_type": "code",
   "execution_count": 275,
   "metadata": {},
   "outputs": [
    {
     "data": {
      "text/plain": [
       "<matplotlib.axes._subplots.AxesSubplot at 0x17abb5f60>"
      ]
     },
     "execution_count": 275,
     "metadata": {},
     "output_type": "execute_result"
    },
    {
     "data": {
      "image/png": "[encoded data removed]",
      "text/plain": [
       "<Figure size 432x288 with 1 Axes>"
      ]
     },
     "metadata": {
      "needs_background": "light"
     },
     "output_type": "display_data"
    }
   ],
   "source": [
    "weekday_dist = pd.DataFrame(msr_features.weekday.value_counts()).reset_index()\n",
    "weekday_dist.columns = ['day', 'count']\n",
    "\n",
    "weekday_dist = weekday_dist.sort_values(by='day')\n",
    "\n",
    "weekday_dist.plot(x='day', y='count')\n"
   ]
  },
  {
   "cell_type": "markdown",
   "metadata": {},
   "source": [
    "## Save features to file"
   ]
  },
  {
   "cell_type": "code",
   "execution_count": null,
   "metadata": {},
   "outputs": [],
   "source": [
    "# save feature to file\n",
    "msr_features.to_csv('2019-09-27-basel-measures-FEAT.csv', index=None)"
   ]
  }
 ],
 "metadata": {
  "kernelspec": {
   "display_name": "smartenv",
   "language": "python",
   "name": "smartenv"
  },
  "language_info": {
   "codemirror_mode": {
    "name": "ipython",
    "version": 3
   },
   "file_extension": ".py",
   "mimetype": "text/x-python",
   "name": "python",
   "nbconvert_exporter": "python",
   "pygments_lexer": "ipython3",
   "version": "3.6.5"
  },
  "toc": {
   "colors": {
    "hover_highlight": "#DAA520",
    "running_highlight": "#FF0000",
    "selected_highlight": "#FFD700"
   },
   "moveMenuLeft": true,
   "nav_menu": {
    "height": "47.5347px",
    "width": "251.979px"
   },
   "navigate_menu": true,
   "number_sections": true,
   "sideBar": true,
   "threshold": 4,
   "toc_cell": false,
   "toc_section_display": "block",
   "toc_window_display": false,
   "widenNotebook": false
  }
 },
 "nbformat": 4,
 "nbformat_minor": 2
}
