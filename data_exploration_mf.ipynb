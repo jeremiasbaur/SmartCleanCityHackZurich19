{
 "cells": [
  {
   "cell_type": "markdown",
   "metadata": {},
   "source": [
    "# Bucher data exploration"
   ]
  },
  {
   "cell_type": "code",
   "execution_count": 27,
   "metadata": {
    "ExecuteTime": {
     "end_time": "2019-09-28T08:53:19.902531Z",
     "start_time": "2019-09-28T08:53:19.899867Z"
    }
   },
   "outputs": [],
   "source": [
    "import pandas as pd\n",
    "import numpy as np\n",
    "import matplotlib.pyplot as plt\n",
    "import os"
   ]
  },
  {
   "cell_type": "code",
   "execution_count": 2,
   "metadata": {
    "ExecuteTime": {
     "end_time": "2019-09-28T08:42:00.858939Z",
     "start_time": "2019-09-28T08:42:00.849729Z"
    }
   },
   "outputs": [
    {
     "data": {
      "text/plain": [
       "'/Users/mfilipav/Desktop/bucher/SmartCleanCityHackZurich19'"
      ]
     },
     "execution_count": 2,
     "metadata": {},
     "output_type": "execute_result"
    }
   ],
   "source": [
    "os.getcwd()"
   ]
  },
  {
   "cell_type": "code",
   "execution_count": 3,
   "metadata": {
    "ExecuteTime": {
     "end_time": "2019-09-28T08:42:02.966590Z",
     "start_time": "2019-09-28T08:42:02.817272Z"
    }
   },
   "outputs": [],
   "source": [
    "pred_msr = pd.read_csv(\"./data/2019-09-27-basel-measures-prediction.csv\", sep=\";\") \n"
   ]
  },
  {
   "cell_type": "code",
   "execution_count": 4,
   "metadata": {
    "ExecuteTime": {
     "end_time": "2019-09-28T08:42:04.646292Z",
     "start_time": "2019-09-28T08:42:03.417135Z"
    }
   },
   "outputs": [
    {
     "name": "stderr",
     "output_type": "stream",
     "text": [
      "/Users/mfilipav/anaconda/envs/py36dl/lib/python3.6/site-packages/IPython/core/interactiveshell.py:3049: DtypeWarning: Columns (1,4,7,8,9,10,11,12,13,14,15,16) have mixed types. Specify dtype option on import or set low_memory=False.\n",
      "  interactivity=interactivity, compiler=compiler, result=result)\n"
     ]
    }
   ],
   "source": [
    "msr = pd.read_csv(\"./data/2019-09-27-basel-measures.csv\", sep=\";\") \n"
   ]
  },
  {
   "cell_type": "code",
   "execution_count": 5,
   "metadata": {
    "ExecuteTime": {
     "end_time": "2019-09-28T08:42:04.664256Z",
     "start_time": "2019-09-28T08:42:04.648131Z"
    }
   },
   "outputs": [],
   "source": [
    "clt = pd.read_csv(\"./data/2019-09-27-basel-collections.csv\", sep=\",\") \n"
   ]
  },
  {
   "cell_type": "code",
   "execution_count": 6,
   "metadata": {
    "ExecuteTime": {
     "end_time": "2019-09-28T08:44:34.348915Z",
     "start_time": "2019-09-28T08:44:34.324541Z"
    }
   },
   "outputs": [
    {
     "data": {
      "text/html": [
       "<div>\n",
       "<style scoped>\n",
       "    .dataframe tbody tr th:only-of-type {\n",
       "        vertical-align: middle;\n",
       "    }\n",
       "\n",
       "    .dataframe tbody tr th {\n",
       "        vertical-align: top;\n",
       "    }\n",
       "\n",
       "    .dataframe thead th {\n",
       "        text-align: right;\n",
       "    }\n",
       "</style>\n",
       "<table border=\"1\" class=\"dataframe\">\n",
       "  <thead>\n",
       "    <tr style=\"text-align: right;\">\n",
       "      <th></th>\n",
       "      <th>collection</th>\n",
       "      <th>suitcase_id</th>\n",
       "      <th>place_name</th>\n",
       "      <th>place_type</th>\n",
       "      <th>osm_id</th>\n",
       "      <th>cci_id</th>\n",
       "      <th>date</th>\n",
       "      <th>cci</th>\n",
       "      <th>rateCigarrettes</th>\n",
       "      <th>ratePapers</th>\n",
       "      <th>...</th>\n",
       "      <th>Unnamed: 246</th>\n",
       "      <th>Unnamed: 247</th>\n",
       "      <th>Unnamed: 248</th>\n",
       "      <th>Unnamed: 249</th>\n",
       "      <th>Unnamed: 250</th>\n",
       "      <th>Unnamed: 251</th>\n",
       "      <th>Unnamed: 252</th>\n",
       "      <th>Unnamed: 253</th>\n",
       "      <th>Unnamed: 254</th>\n",
       "      <th>Unnamed: 255</th>\n",
       "    </tr>\n",
       "  </thead>\n",
       "  <tbody>\n",
       "    <tr>\n",
       "      <th>0</th>\n",
       "      <td>places</td>\n",
       "      <td>49</td>\n",
       "      <td>Leimgrubenweg</td>\n",
       "      <td>bus_stop</td>\n",
       "      <td>1175332462</td>\n",
       "      <td>287</td>\n",
       "      <td>2019-04-01 8:40:49</td>\n",
       "      <td>3.2</td>\n",
       "      <td>0.6</td>\n",
       "      <td>1.2</td>\n",
       "      <td>...</td>\n",
       "      <td>NaN</td>\n",
       "      <td>NaN</td>\n",
       "      <td>NaN</td>\n",
       "      <td>NaN</td>\n",
       "      <td>NaN</td>\n",
       "      <td>NaN</td>\n",
       "      <td>NaN</td>\n",
       "      <td>NaN</td>\n",
       "      <td>NaN</td>\n",
       "      <td>NaN</td>\n",
       "    </tr>\n",
       "    <tr>\n",
       "      <th>1</th>\n",
       "      <td>map_features</td>\n",
       "      <td>49</td>\n",
       "      <td>Leimgrubenweg</td>\n",
       "      <td>secondary</td>\n",
       "      <td>25149740</td>\n",
       "      <td>86_9668</td>\n",
       "      <td>2019-04-01 8:40:53</td>\n",
       "      <td>3.35764</td>\n",
       "      <td>0.44236</td>\n",
       "      <td>1.2</td>\n",
       "      <td>...</td>\n",
       "      <td>NaN</td>\n",
       "      <td>NaN</td>\n",
       "      <td>NaN</td>\n",
       "      <td>NaN</td>\n",
       "      <td>NaN</td>\n",
       "      <td>NaN</td>\n",
       "      <td>NaN</td>\n",
       "      <td>NaN</td>\n",
       "      <td>NaN</td>\n",
       "      <td>NaN</td>\n",
       "    </tr>\n",
       "    <tr>\n",
       "      <th>2</th>\n",
       "      <td>map_features</td>\n",
       "      <td>49</td>\n",
       "      <td>Reinacherstrasse</td>\n",
       "      <td>primary</td>\n",
       "      <td>117485263</td>\n",
       "      <td>86_11641</td>\n",
       "      <td>2019-04-01 8:40:53</td>\n",
       "      <td>3.35764</td>\n",
       "      <td>0.44236</td>\n",
       "      <td>1.2</td>\n",
       "      <td>...</td>\n",
       "      <td>NaN</td>\n",
       "      <td>NaN</td>\n",
       "      <td>NaN</td>\n",
       "      <td>NaN</td>\n",
       "      <td>NaN</td>\n",
       "      <td>NaN</td>\n",
       "      <td>NaN</td>\n",
       "      <td>NaN</td>\n",
       "      <td>NaN</td>\n",
       "      <td>NaN</td>\n",
       "    </tr>\n",
       "    <tr>\n",
       "      <th>3</th>\n",
       "      <td>places</td>\n",
       "      <td>49</td>\n",
       "      <td>Leimgrubenweg</td>\n",
       "      <td>bus_stop</td>\n",
       "      <td>2621172927</td>\n",
       "      <td>287</td>\n",
       "      <td>2019-04-01 8:40:57</td>\n",
       "      <td>3.19757</td>\n",
       "      <td>0.6</td>\n",
       "      <td>1.2</td>\n",
       "      <td>...</td>\n",
       "      <td>NaN</td>\n",
       "      <td>NaN</td>\n",
       "      <td>NaN</td>\n",
       "      <td>NaN</td>\n",
       "      <td>NaN</td>\n",
       "      <td>NaN</td>\n",
       "      <td>NaN</td>\n",
       "      <td>NaN</td>\n",
       "      <td>NaN</td>\n",
       "      <td>NaN</td>\n",
       "    </tr>\n",
       "    <tr>\n",
       "      <th>4</th>\n",
       "      <td>map_features</td>\n",
       "      <td>49</td>\n",
       "      <td>Dornacherstrasse</td>\n",
       "      <td>secondary</td>\n",
       "      <td>148833576</td>\n",
       "      <td>86_12436</td>\n",
       "      <td>2019-04-01 8:42:11</td>\n",
       "      <td>5</td>\n",
       "      <td>0</td>\n",
       "      <td>0</td>\n",
       "      <td>...</td>\n",
       "      <td>NaN</td>\n",
       "      <td>NaN</td>\n",
       "      <td>NaN</td>\n",
       "      <td>NaN</td>\n",
       "      <td>NaN</td>\n",
       "      <td>NaN</td>\n",
       "      <td>NaN</td>\n",
       "      <td>NaN</td>\n",
       "      <td>NaN</td>\n",
       "      <td>NaN</td>\n",
       "    </tr>\n",
       "  </tbody>\n",
       "</table>\n",
       "<p>5 rows × 256 columns</p>\n",
       "</div>"
      ],
      "text/plain": [
       "     collection suitcase_id        place_name place_type      osm_id  \\\n",
       "0        places          49     Leimgrubenweg   bus_stop  1175332462   \n",
       "1  map_features          49     Leimgrubenweg  secondary    25149740   \n",
       "2  map_features          49  Reinacherstrasse    primary   117485263   \n",
       "3        places          49     Leimgrubenweg   bus_stop  2621172927   \n",
       "4  map_features          49  Dornacherstrasse  secondary   148833576   \n",
       "\n",
       "     cci_id                date      cci rateCigarrettes ratePapers  ...  \\\n",
       "0       287  2019-04-01 8:40:49      3.2             0.6        1.2  ...   \n",
       "1   86_9668  2019-04-01 8:40:53  3.35764         0.44236        1.2  ...   \n",
       "2  86_11641  2019-04-01 8:40:53  3.35764         0.44236        1.2  ...   \n",
       "3       287  2019-04-01 8:40:57  3.19757             0.6        1.2  ...   \n",
       "4  86_12436  2019-04-01 8:42:11        5               0          0  ...   \n",
       "\n",
       "  Unnamed: 246 Unnamed: 247 Unnamed: 248 Unnamed: 249 Unnamed: 250  \\\n",
       "0          NaN          NaN          NaN          NaN          NaN   \n",
       "1          NaN          NaN          NaN          NaN          NaN   \n",
       "2          NaN          NaN          NaN          NaN          NaN   \n",
       "3          NaN          NaN          NaN          NaN          NaN   \n",
       "4          NaN          NaN          NaN          NaN          NaN   \n",
       "\n",
       "  Unnamed: 251 Unnamed: 252  Unnamed: 253  Unnamed: 254  Unnamed: 255  \n",
       "0          NaN          NaN           NaN           NaN           NaN  \n",
       "1          NaN          NaN           NaN           NaN           NaN  \n",
       "2          NaN          NaN           NaN           NaN           NaN  \n",
       "3          NaN          NaN           NaN           NaN           NaN  \n",
       "4          NaN          NaN           NaN           NaN           NaN  \n",
       "\n",
       "[5 rows x 256 columns]"
      ]
     },
     "execution_count": 6,
     "metadata": {},
     "output_type": "execute_result"
    }
   ],
   "source": [
    "msr.head()"
   ]
  },
  {
   "cell_type": "code",
   "execution_count": 12,
   "metadata": {
    "ExecuteTime": {
     "end_time": "2019-09-28T08:00:28.358562Z",
     "start_time": "2019-09-28T08:00:28.336039Z"
    }
   },
   "outputs": [
    {
     "data": {
      "text/html": [
       "<div>\n",
       "<style scoped>\n",
       "    .dataframe tbody tr th:only-of-type {\n",
       "        vertical-align: middle;\n",
       "    }\n",
       "\n",
       "    .dataframe tbody tr th {\n",
       "        vertical-align: top;\n",
       "    }\n",
       "\n",
       "    .dataframe thead th {\n",
       "        text-align: right;\n",
       "    }\n",
       "</style>\n",
       "<table border=\"1\" class=\"dataframe\">\n",
       "  <thead>\n",
       "    <tr style=\"text-align: right;\">\n",
       "      <th></th>\n",
       "      <th>osm_id</th>\n",
       "      <th>cci_id</th>\n",
       "      <th>date</th>\n",
       "      <th>Unnamed: 3</th>\n",
       "      <th>Unnamed: 4</th>\n",
       "      <th>Unnamed: 5</th>\n",
       "      <th>Unnamed: 6</th>\n",
       "      <th>Unnamed: 7</th>\n",
       "      <th>Unnamed: 8</th>\n",
       "      <th>Unnamed: 9</th>\n",
       "      <th>...</th>\n",
       "      <th>Unnamed: 231</th>\n",
       "      <th>Unnamed: 232</th>\n",
       "      <th>Unnamed: 233</th>\n",
       "      <th>Unnamed: 234</th>\n",
       "      <th>Unnamed: 235</th>\n",
       "      <th>Unnamed: 236</th>\n",
       "      <th>Unnamed: 237</th>\n",
       "      <th>Unnamed: 238</th>\n",
       "      <th>Unnamed: 239</th>\n",
       "      <th>Unnamed: 240</th>\n",
       "    </tr>\n",
       "  </thead>\n",
       "  <tbody>\n",
       "    <tr>\n",
       "      <th>0</th>\n",
       "      <td>172611027</td>\n",
       "      <td>86_12812</td>\n",
       "      <td>2019-06-25 6:25:49</td>\n",
       "      <td>NaN</td>\n",
       "      <td>NaN</td>\n",
       "      <td>NaN</td>\n",
       "      <td>NaN</td>\n",
       "      <td>NaN</td>\n",
       "      <td>NaN</td>\n",
       "      <td>NaN</td>\n",
       "      <td>...</td>\n",
       "      <td>NaN</td>\n",
       "      <td>NaN</td>\n",
       "      <td>NaN</td>\n",
       "      <td>NaN</td>\n",
       "      <td>NaN</td>\n",
       "      <td>NaN</td>\n",
       "      <td>NaN</td>\n",
       "      <td>NaN</td>\n",
       "      <td>NaN</td>\n",
       "      <td>NaN</td>\n",
       "    </tr>\n",
       "    <tr>\n",
       "      <th>1</th>\n",
       "      <td>3828924874</td>\n",
       "      <td>260</td>\n",
       "      <td>2019-06-25 6:26:22</td>\n",
       "      <td>NaN</td>\n",
       "      <td>NaN</td>\n",
       "      <td>NaN</td>\n",
       "      <td>NaN</td>\n",
       "      <td>NaN</td>\n",
       "      <td>NaN</td>\n",
       "      <td>NaN</td>\n",
       "      <td>...</td>\n",
       "      <td>NaN</td>\n",
       "      <td>NaN</td>\n",
       "      <td>NaN</td>\n",
       "      <td>NaN</td>\n",
       "      <td>NaN</td>\n",
       "      <td>NaN</td>\n",
       "      <td>NaN</td>\n",
       "      <td>NaN</td>\n",
       "      <td>NaN</td>\n",
       "      <td>NaN</td>\n",
       "    </tr>\n",
       "    <tr>\n",
       "      <th>2</th>\n",
       "      <td>23913163</td>\n",
       "      <td>86_9255</td>\n",
       "      <td>2019-06-25 6:26:26</td>\n",
       "      <td>NaN</td>\n",
       "      <td>NaN</td>\n",
       "      <td>NaN</td>\n",
       "      <td>NaN</td>\n",
       "      <td>NaN</td>\n",
       "      <td>NaN</td>\n",
       "      <td>NaN</td>\n",
       "      <td>...</td>\n",
       "      <td>NaN</td>\n",
       "      <td>NaN</td>\n",
       "      <td>NaN</td>\n",
       "      <td>NaN</td>\n",
       "      <td>NaN</td>\n",
       "      <td>NaN</td>\n",
       "      <td>NaN</td>\n",
       "      <td>NaN</td>\n",
       "      <td>NaN</td>\n",
       "      <td>NaN</td>\n",
       "    </tr>\n",
       "    <tr>\n",
       "      <th>3</th>\n",
       "      <td>23913163</td>\n",
       "      <td>86_17476</td>\n",
       "      <td>2019-06-25 6:26:26</td>\n",
       "      <td>NaN</td>\n",
       "      <td>NaN</td>\n",
       "      <td>NaN</td>\n",
       "      <td>NaN</td>\n",
       "      <td>NaN</td>\n",
       "      <td>NaN</td>\n",
       "      <td>NaN</td>\n",
       "      <td>...</td>\n",
       "      <td>NaN</td>\n",
       "      <td>NaN</td>\n",
       "      <td>NaN</td>\n",
       "      <td>NaN</td>\n",
       "      <td>NaN</td>\n",
       "      <td>NaN</td>\n",
       "      <td>NaN</td>\n",
       "      <td>NaN</td>\n",
       "      <td>NaN</td>\n",
       "      <td>NaN</td>\n",
       "    </tr>\n",
       "    <tr>\n",
       "      <th>4</th>\n",
       "      <td>144481239</td>\n",
       "      <td>86_12223</td>\n",
       "      <td>2019-06-25 6:27:21</td>\n",
       "      <td>NaN</td>\n",
       "      <td>NaN</td>\n",
       "      <td>NaN</td>\n",
       "      <td>NaN</td>\n",
       "      <td>NaN</td>\n",
       "      <td>NaN</td>\n",
       "      <td>NaN</td>\n",
       "      <td>...</td>\n",
       "      <td>NaN</td>\n",
       "      <td>NaN</td>\n",
       "      <td>NaN</td>\n",
       "      <td>NaN</td>\n",
       "      <td>NaN</td>\n",
       "      <td>NaN</td>\n",
       "      <td>NaN</td>\n",
       "      <td>NaN</td>\n",
       "      <td>NaN</td>\n",
       "      <td>NaN</td>\n",
       "    </tr>\n",
       "  </tbody>\n",
       "</table>\n",
       "<p>5 rows × 241 columns</p>\n",
       "</div>"
      ],
      "text/plain": [
       "       osm_id    cci_id                date  Unnamed: 3  Unnamed: 4  \\\n",
       "0   172611027  86_12812  2019-06-25 6:25:49         NaN         NaN   \n",
       "1  3828924874       260  2019-06-25 6:26:22         NaN         NaN   \n",
       "2    23913163   86_9255  2019-06-25 6:26:26         NaN         NaN   \n",
       "3    23913163  86_17476  2019-06-25 6:26:26         NaN         NaN   \n",
       "4   144481239  86_12223  2019-06-25 6:27:21         NaN         NaN   \n",
       "\n",
       "   Unnamed: 5  Unnamed: 6  Unnamed: 7  Unnamed: 8  Unnamed: 9  ...  \\\n",
       "0         NaN         NaN         NaN         NaN         NaN  ...   \n",
       "1         NaN         NaN         NaN         NaN         NaN  ...   \n",
       "2         NaN         NaN         NaN         NaN         NaN  ...   \n",
       "3         NaN         NaN         NaN         NaN         NaN  ...   \n",
       "4         NaN         NaN         NaN         NaN         NaN  ...   \n",
       "\n",
       "   Unnamed: 231  Unnamed: 232  Unnamed: 233  Unnamed: 234  Unnamed: 235  \\\n",
       "0           NaN           NaN           NaN           NaN           NaN   \n",
       "1           NaN           NaN           NaN           NaN           NaN   \n",
       "2           NaN           NaN           NaN           NaN           NaN   \n",
       "3           NaN           NaN           NaN           NaN           NaN   \n",
       "4           NaN           NaN           NaN           NaN           NaN   \n",
       "\n",
       "   Unnamed: 236  Unnamed: 237  Unnamed: 238  Unnamed: 239  Unnamed: 240  \n",
       "0           NaN           NaN           NaN           NaN           NaN  \n",
       "1           NaN           NaN           NaN           NaN           NaN  \n",
       "2           NaN           NaN           NaN           NaN           NaN  \n",
       "3           NaN           NaN           NaN           NaN           NaN  \n",
       "4           NaN           NaN           NaN           NaN           NaN  \n",
       "\n",
       "[5 rows x 241 columns]"
      ]
     },
     "execution_count": 12,
     "metadata": {},
     "output_type": "execute_result"
    }
   ],
   "source": [
    "pred_msr.head()"
   ]
  },
  {
   "cell_type": "code",
   "execution_count": 16,
   "metadata": {
    "ExecuteTime": {
     "end_time": "2019-09-28T08:02:01.246060Z",
     "start_time": "2019-09-28T08:02:01.236619Z"
    }
   },
   "outputs": [
    {
     "data": {
      "text/html": [
       "<div>\n",
       "<style scoped>\n",
       "    .dataframe tbody tr th:only-of-type {\n",
       "        vertical-align: middle;\n",
       "    }\n",
       "\n",
       "    .dataframe tbody tr th {\n",
       "        vertical-align: top;\n",
       "    }\n",
       "\n",
       "    .dataframe thead th {\n",
       "        text-align: right;\n",
       "    }\n",
       "</style>\n",
       "<table border=\"1\" class=\"dataframe\">\n",
       "  <thead>\n",
       "    <tr style=\"text-align: right;\">\n",
       "      <th></th>\n",
       "      <th>city_id</th>\n",
       "      <th>osm_id</th>\n",
       "      <th>cci_id</th>\n",
       "      <th>type</th>\n",
       "      <th>geometry</th>\n",
       "      <th>coordinates</th>\n",
       "    </tr>\n",
       "  </thead>\n",
       "  <tbody>\n",
       "    <tr>\n",
       "      <th>0</th>\n",
       "      <td>86</td>\n",
       "      <td>263256727.0</td>\n",
       "      <td>324</td>\n",
       "      <td>Place</td>\n",
       "      <td>Polygon</td>\n",
       "      <td>POLYGON((7.601737973795679 47.532477, 7.601737...</td>\n",
       "    </tr>\n",
       "    <tr>\n",
       "      <th>1</th>\n",
       "      <td>86</td>\n",
       "      <td>270322890.0</td>\n",
       "      <td>NaN</td>\n",
       "      <td>Place</td>\n",
       "      <td>Polygon</td>\n",
       "      <td>POLYGON((7.568622384667696 47.561588, 7.568621...</td>\n",
       "    </tr>\n",
       "    <tr>\n",
       "      <th>2</th>\n",
       "      <td>86</td>\n",
       "      <td>274674809.0</td>\n",
       "      <td>NaN</td>\n",
       "      <td>Place</td>\n",
       "      <td>Polygon</td>\n",
       "      <td>POLYGON((7.589516633078348 47.5480482, 7.58951...</td>\n",
       "    </tr>\n",
       "    <tr>\n",
       "      <th>3</th>\n",
       "      <td>86</td>\n",
       "      <td>583586314.0</td>\n",
       "      <td>251</td>\n",
       "      <td>Place</td>\n",
       "      <td>Polygon</td>\n",
       "      <td>POLYGON((7.583728694181322 47.5640838, 7.58372...</td>\n",
       "    </tr>\n",
       "    <tr>\n",
       "      <th>4</th>\n",
       "      <td>86</td>\n",
       "      <td>707688638.0</td>\n",
       "      <td>266</td>\n",
       "      <td>Place</td>\n",
       "      <td>Polygon</td>\n",
       "      <td>POLYGON((7.569987711883181 47.5687268, 7.56998...</td>\n",
       "    </tr>\n",
       "  </tbody>\n",
       "</table>\n",
       "</div>"
      ],
      "text/plain": [
       "   city_id       osm_id cci_id   type geometry  \\\n",
       "0       86  263256727.0    324  Place  Polygon   \n",
       "1       86  270322890.0    NaN  Place  Polygon   \n",
       "2       86  274674809.0    NaN  Place  Polygon   \n",
       "3       86  583586314.0    251  Place  Polygon   \n",
       "4       86  707688638.0    266  Place  Polygon   \n",
       "\n",
       "                                         coordinates  \n",
       "0  POLYGON((7.601737973795679 47.532477, 7.601737...  \n",
       "1  POLYGON((7.568622384667696 47.561588, 7.568621...  \n",
       "2  POLYGON((7.589516633078348 47.5480482, 7.58951...  \n",
       "3  POLYGON((7.583728694181322 47.5640838, 7.58372...  \n",
       "4  POLYGON((7.569987711883181 47.5687268, 7.56998...  "
      ]
     },
     "execution_count": 16,
     "metadata": {},
     "output_type": "execute_result"
    }
   ],
   "source": [
    "clt.head()"
   ]
  },
  {
   "cell_type": "code",
   "execution_count": null,
   "metadata": {},
   "outputs": [],
   "source": []
  },
  {
   "cell_type": "code",
   "execution_count": null,
   "metadata": {},
   "outputs": [],
   "source": []
  },
  {
   "cell_type": "code",
   "execution_count": null,
   "metadata": {},
   "outputs": [],
   "source": []
  },
  {
   "cell_type": "markdown",
   "metadata": {},
   "source": [
    "# Measures\n",
    "## Unique Streets"
   ]
  },
  {
   "cell_type": "code",
   "execution_count": 15,
   "metadata": {
    "ExecuteTime": {
     "end_time": "2019-09-28T08:47:14.773927Z",
     "start_time": "2019-09-28T08:47:14.752305Z"
    }
   },
   "outputs": [
    {
     "data": {
      "text/html": [
       "<div>\n",
       "<style scoped>\n",
       "    .dataframe tbody tr th:only-of-type {\n",
       "        vertical-align: middle;\n",
       "    }\n",
       "\n",
       "    .dataframe tbody tr th {\n",
       "        vertical-align: top;\n",
       "    }\n",
       "\n",
       "    .dataframe thead th {\n",
       "        text-align: right;\n",
       "    }\n",
       "</style>\n",
       "<table border=\"1\" class=\"dataframe\">\n",
       "  <thead>\n",
       "    <tr style=\"text-align: right;\">\n",
       "      <th></th>\n",
       "      <th>collection</th>\n",
       "      <th>suitcase_id</th>\n",
       "      <th>place_name</th>\n",
       "      <th>place_type</th>\n",
       "      <th>osm_id</th>\n",
       "      <th>cci_id</th>\n",
       "      <th>date</th>\n",
       "      <th>cci</th>\n",
       "      <th>rateCigarrettes</th>\n",
       "      <th>ratePapers</th>\n",
       "      <th>...</th>\n",
       "      <th>Unnamed: 246</th>\n",
       "      <th>Unnamed: 247</th>\n",
       "      <th>Unnamed: 248</th>\n",
       "      <th>Unnamed: 249</th>\n",
       "      <th>Unnamed: 250</th>\n",
       "      <th>Unnamed: 251</th>\n",
       "      <th>Unnamed: 252</th>\n",
       "      <th>Unnamed: 253</th>\n",
       "      <th>Unnamed: 254</th>\n",
       "      <th>Unnamed: 255</th>\n",
       "    </tr>\n",
       "  </thead>\n",
       "  <tbody>\n",
       "    <tr>\n",
       "      <th>0</th>\n",
       "      <td>places</td>\n",
       "      <td>49</td>\n",
       "      <td>Leimgrubenweg</td>\n",
       "      <td>bus_stop</td>\n",
       "      <td>1175332462</td>\n",
       "      <td>287</td>\n",
       "      <td>2019-04-01 8:40:49</td>\n",
       "      <td>3.2</td>\n",
       "      <td>0.6</td>\n",
       "      <td>1.2</td>\n",
       "      <td>...</td>\n",
       "      <td>NaN</td>\n",
       "      <td>NaN</td>\n",
       "      <td>NaN</td>\n",
       "      <td>NaN</td>\n",
       "      <td>NaN</td>\n",
       "      <td>NaN</td>\n",
       "      <td>NaN</td>\n",
       "      <td>NaN</td>\n",
       "      <td>NaN</td>\n",
       "      <td>NaN</td>\n",
       "    </tr>\n",
       "    <tr>\n",
       "      <th>1</th>\n",
       "      <td>map_features</td>\n",
       "      <td>49</td>\n",
       "      <td>Leimgrubenweg</td>\n",
       "      <td>secondary</td>\n",
       "      <td>25149740</td>\n",
       "      <td>86_9668</td>\n",
       "      <td>2019-04-01 8:40:53</td>\n",
       "      <td>3.35764</td>\n",
       "      <td>0.44236</td>\n",
       "      <td>1.2</td>\n",
       "      <td>...</td>\n",
       "      <td>NaN</td>\n",
       "      <td>NaN</td>\n",
       "      <td>NaN</td>\n",
       "      <td>NaN</td>\n",
       "      <td>NaN</td>\n",
       "      <td>NaN</td>\n",
       "      <td>NaN</td>\n",
       "      <td>NaN</td>\n",
       "      <td>NaN</td>\n",
       "      <td>NaN</td>\n",
       "    </tr>\n",
       "    <tr>\n",
       "      <th>2</th>\n",
       "      <td>map_features</td>\n",
       "      <td>49</td>\n",
       "      <td>Reinacherstrasse</td>\n",
       "      <td>primary</td>\n",
       "      <td>117485263</td>\n",
       "      <td>86_11641</td>\n",
       "      <td>2019-04-01 8:40:53</td>\n",
       "      <td>3.35764</td>\n",
       "      <td>0.44236</td>\n",
       "      <td>1.2</td>\n",
       "      <td>...</td>\n",
       "      <td>NaN</td>\n",
       "      <td>NaN</td>\n",
       "      <td>NaN</td>\n",
       "      <td>NaN</td>\n",
       "      <td>NaN</td>\n",
       "      <td>NaN</td>\n",
       "      <td>NaN</td>\n",
       "      <td>NaN</td>\n",
       "      <td>NaN</td>\n",
       "      <td>NaN</td>\n",
       "    </tr>\n",
       "    <tr>\n",
       "      <th>3</th>\n",
       "      <td>places</td>\n",
       "      <td>49</td>\n",
       "      <td>Leimgrubenweg</td>\n",
       "      <td>bus_stop</td>\n",
       "      <td>2621172927</td>\n",
       "      <td>287</td>\n",
       "      <td>2019-04-01 8:40:57</td>\n",
       "      <td>3.19757</td>\n",
       "      <td>0.6</td>\n",
       "      <td>1.2</td>\n",
       "      <td>...</td>\n",
       "      <td>NaN</td>\n",
       "      <td>NaN</td>\n",
       "      <td>NaN</td>\n",
       "      <td>NaN</td>\n",
       "      <td>NaN</td>\n",
       "      <td>NaN</td>\n",
       "      <td>NaN</td>\n",
       "      <td>NaN</td>\n",
       "      <td>NaN</td>\n",
       "      <td>NaN</td>\n",
       "    </tr>\n",
       "    <tr>\n",
       "      <th>4</th>\n",
       "      <td>map_features</td>\n",
       "      <td>49</td>\n",
       "      <td>Dornacherstrasse</td>\n",
       "      <td>secondary</td>\n",
       "      <td>148833576</td>\n",
       "      <td>86_12436</td>\n",
       "      <td>2019-04-01 8:42:11</td>\n",
       "      <td>5</td>\n",
       "      <td>0</td>\n",
       "      <td>0</td>\n",
       "      <td>...</td>\n",
       "      <td>NaN</td>\n",
       "      <td>NaN</td>\n",
       "      <td>NaN</td>\n",
       "      <td>NaN</td>\n",
       "      <td>NaN</td>\n",
       "      <td>NaN</td>\n",
       "      <td>NaN</td>\n",
       "      <td>NaN</td>\n",
       "      <td>NaN</td>\n",
       "      <td>NaN</td>\n",
       "    </tr>\n",
       "  </tbody>\n",
       "</table>\n",
       "<p>5 rows × 256 columns</p>\n",
       "</div>"
      ],
      "text/plain": [
       "     collection suitcase_id        place_name place_type      osm_id  \\\n",
       "0        places          49     Leimgrubenweg   bus_stop  1175332462   \n",
       "1  map_features          49     Leimgrubenweg  secondary    25149740   \n",
       "2  map_features          49  Reinacherstrasse    primary   117485263   \n",
       "3        places          49     Leimgrubenweg   bus_stop  2621172927   \n",
       "4  map_features          49  Dornacherstrasse  secondary   148833576   \n",
       "\n",
       "     cci_id                date      cci rateCigarrettes ratePapers  ...  \\\n",
       "0       287  2019-04-01 8:40:49      3.2             0.6        1.2  ...   \n",
       "1   86_9668  2019-04-01 8:40:53  3.35764         0.44236        1.2  ...   \n",
       "2  86_11641  2019-04-01 8:40:53  3.35764         0.44236        1.2  ...   \n",
       "3       287  2019-04-01 8:40:57  3.19757             0.6        1.2  ...   \n",
       "4  86_12436  2019-04-01 8:42:11        5               0          0  ...   \n",
       "\n",
       "  Unnamed: 246 Unnamed: 247 Unnamed: 248 Unnamed: 249 Unnamed: 250  \\\n",
       "0          NaN          NaN          NaN          NaN          NaN   \n",
       "1          NaN          NaN          NaN          NaN          NaN   \n",
       "2          NaN          NaN          NaN          NaN          NaN   \n",
       "3          NaN          NaN          NaN          NaN          NaN   \n",
       "4          NaN          NaN          NaN          NaN          NaN   \n",
       "\n",
       "  Unnamed: 251 Unnamed: 252  Unnamed: 253  Unnamed: 254  Unnamed: 255  \n",
       "0          NaN          NaN           NaN           NaN           NaN  \n",
       "1          NaN          NaN           NaN           NaN           NaN  \n",
       "2          NaN          NaN           NaN           NaN           NaN  \n",
       "3          NaN          NaN           NaN           NaN           NaN  \n",
       "4          NaN          NaN           NaN           NaN           NaN  \n",
       "\n",
       "[5 rows x 256 columns]"
      ]
     },
     "execution_count": 15,
     "metadata": {},
     "output_type": "execute_result"
    }
   ],
   "source": [
    "msr.head()"
   ]
  },
  {
   "cell_type": "code",
   "execution_count": 18,
   "metadata": {
    "ExecuteTime": {
     "end_time": "2019-09-28T08:47:41.310723Z",
     "start_time": "2019-09-28T08:47:41.302673Z"
    }
   },
   "outputs": [
    {
     "data": {
      "text/plain": [
       "array([1175332462, 25149740, 117485263, ..., '97984332', '9398555',\n",
       "       'osm_id'], dtype=object)"
      ]
     },
     "execution_count": 18,
     "metadata": {},
     "output_type": "execute_result"
    }
   ],
   "source": [
    "msr.osm_id.unique()"
   ]
  },
  {
   "cell_type": "code",
   "execution_count": 18,
   "metadata": {
    "ExecuteTime": {
     "end_time": "2019-09-28T08:09:25.797133Z",
     "start_time": "2019-09-28T08:09:25.789024Z"
    }
   },
   "outputs": [
    {
     "data": {
      "text/plain": [
       "1436"
      ]
     },
     "execution_count": 18,
     "metadata": {},
     "output_type": "execute_result"
    }
   ],
   "source": [
    "len(msr.osm_id.unique())"
   ]
  },
  {
   "cell_type": "markdown",
   "metadata": {},
   "source": [
    "## Number intersections per street"
   ]
  },
  {
   "cell_type": "code",
   "execution_count": 25,
   "metadata": {
    "ExecuteTime": {
     "end_time": "2019-09-28T08:52:27.390792Z",
     "start_time": "2019-09-28T08:52:27.374672Z"
    }
   },
   "outputs": [
    {
     "data": {
      "text/plain": [
       "osm_id\n",
       "4803830     191\n",
       "4803831     131\n",
       "4803852     125\n",
       "4803859      56\n",
       "4837930      58\n",
       "4838574     109\n",
       "4840867      66\n",
       "4840869     121\n",
       "9398550     140\n",
       "9398555     183\n",
       "9554150     122\n",
       "9554151      52\n",
       "9554159     139\n",
       "9554160     121\n",
       "9673526     100\n",
       "9673528      84\n",
       "9673533      48\n",
       "9673534      96\n",
       "10158873    151\n",
       "10158874    140\n",
       "Name: cci_id, dtype: int64"
      ]
     },
     "execution_count": 25,
     "metadata": {},
     "output_type": "execute_result"
    }
   ],
   "source": [
    "#len(msr.cci_id.groupby(msr.osm_id).count())\n",
    "msr.cci_id.groupby(msr.osm_id).count().head(20)"
   ]
  },
  {
   "cell_type": "code",
   "execution_count": 33,
   "metadata": {
    "ExecuteTime": {
     "end_time": "2019-09-28T08:55:27.407086Z",
     "start_time": "2019-09-28T08:55:27.390507Z"
    }
   },
   "outputs": [
    {
     "data": {
      "text/plain": [
       "osm_id\n",
       "151410240    295\n",
       "24781497     264\n",
       "23884886     241\n",
       "13252023     232\n",
       "19781280     229\n",
       "10158891     224\n",
       "605805584    220\n",
       "23884883     219\n",
       "23348441     215\n",
       "182423029    211\n",
       "335418859    201\n",
       "24839329     200\n",
       "332740546    198\n",
       "333652248    194\n",
       "19751448     191\n",
       "4803830      191\n",
       "19750775     190\n",
       "183482915    186\n",
       "9398555      183\n",
       "109731333    183\n",
       "Name: cci_id, dtype: int64"
      ]
     },
     "execution_count": 33,
     "metadata": {},
     "output_type": "execute_result"
    }
   ],
   "source": [
    "msr.cci_id.groupby(msr.osm_id).count().sort_values(ascending=False).head(20)"
   ]
  },
  {
   "cell_type": "code",
   "execution_count": 37,
   "metadata": {
    "ExecuteTime": {
     "end_time": "2019-09-28T08:57:37.363122Z",
     "start_time": "2019-09-28T08:57:37.117385Z"
    }
   },
   "outputs": [
    {
     "data": {
      "text/plain": [
       "<matplotlib.axes._subplots.AxesSubplot at 0x122b20b70>"
      ]
     },
     "execution_count": 37,
     "metadata": {},
     "output_type": "execute_result"
    },
    {
     "data": {
      "image/png": "[encoded data removed]",
      "text/plain": [
       "<Figure size 1800x720 with 1 Axes>"
      ]
     },
     "metadata": {
      "needs_background": "light"
     },
     "output_type": "display_data"
    }
   ],
   "source": [
    "msr.cci_id.groupby(msr.osm_id).count().sort_values(ascending=False).plot(figsize=(25,10))"
   ]
  },
  {
   "cell_type": "code",
   "execution_count": null,
   "metadata": {},
   "outputs": [],
   "source": []
  }
 ],
 "metadata": {
  "kernelspec": {
   "display_name": "Python 3",
   "language": "python",
   "name": "python3"
  },
  "language_info": {
   "codemirror_mode": {
    "name": "ipython",
    "version": 3
   },
   "file_extension": ".py",
   "mimetype": "text/x-python",
   "name": "python",
   "nbconvert_exporter": "python",
   "pygments_lexer": "ipython3",
   "version": "3.6.8"
  },
  "toc": {
   "colors": {
    "hover_highlight": "#DAA520",
    "running_highlight": "#FF0000",
    "selected_highlight": "#FFD700"
   },
   "moveMenuLeft": true,
   "nav_menu": {
    "height": "47.5347px",
    "width": "251.979px"
   },
   "navigate_menu": true,
   "number_sections": true,
   "sideBar": true,
   "threshold": 4,
   "toc_cell": false,
   "toc_section_display": "block",
   "toc_window_display": false,
   "widenNotebook": false
  }
 },
 "nbformat": 4,
 "nbformat_minor": 2
}
