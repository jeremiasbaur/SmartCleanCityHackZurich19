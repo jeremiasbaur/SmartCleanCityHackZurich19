{
 "cells": [
  {
   "cell_type": "markdown",
   "metadata": {},
   "source": [
    "# Bucher data exploration"
   ]
  },
  {
   "cell_type": "markdown",
   "metadata": {},
   "source": [
    "General notes:\n",
    "\n",
    "* translate dates into weekdays and month\n",
    "* \n",
    "# places: bus stops or parks, polygons\n",
    "# map features: streets\n",
    "\n"
   ]
  },
  {
   "cell_type": "code",
   "execution_count": 27,
   "metadata": {
    "ExecuteTime": {
     "end_time": "2019-09-28T08:53:19.902531Z",
     "start_time": "2019-09-28T08:53:19.899867Z"
    }
   },
   "outputs": [],
   "source": [
    "import pandas as pd\n",
    "import numpy as np\n",
    "import matplotlib.pyplot as plt\n",
    "import os"
   ]
  },
  {
   "cell_type": "code",
   "execution_count": 2,
   "metadata": {
    "ExecuteTime": {
     "end_time": "2019-09-28T08:42:00.858939Z",
     "start_time": "2019-09-28T08:42:00.849729Z"
    }
   },
   "outputs": [
    {
     "data": {
      "text/plain": [
       "'/Users/mfilipav/Desktop/bucher/SmartCleanCityHackZurich19'"
      ]
     },
     "execution_count": 2,
     "metadata": {},
     "output_type": "execute_result"
    }
   ],
   "source": [
    "os.getcwd()"
   ]
  },
  {
   "cell_type": "code",
   "execution_count": 3,
   "metadata": {
    "ExecuteTime": {
     "end_time": "2019-09-28T08:42:02.966590Z",
     "start_time": "2019-09-28T08:42:02.817272Z"
    }
   },
   "outputs": [],
   "source": [
    "pred_msr = pd.read_csv(\"./data/2019-09-27-basel-measures-prediction.csv\", sep=\";\") \n"
   ]
  },
  {
   "cell_type": "code",
   "execution_count": 125,
   "metadata": {
    "ExecuteTime": {
     "end_time": "2019-09-28T11:02:58.968247Z",
     "start_time": "2019-09-28T11:02:58.789862Z"
    }
   },
   "outputs": [],
   "source": [
    "msr = pd.read_csv(\"./data/2019-09-27-basel-measures-cleaned.csv\", sep=\";\") #, keep_default_na = False) \n"
   ]
  },
  {
   "cell_type": "code",
   "execution_count": 5,
   "metadata": {
    "ExecuteTime": {
     "end_time": "2019-09-28T08:42:04.664256Z",
     "start_time": "2019-09-28T08:42:04.648131Z"
    }
   },
   "outputs": [],
   "source": [
    "clt = pd.read_csv(\"./data/2019-09-27-basel-collections.csv\", sep=\",\") \n"
   ]
  },
  {
   "cell_type": "code",
   "execution_count": 157,
   "metadata": {
    "ExecuteTime": {
     "end_time": "2019-09-28T13:06:39.997165Z",
     "start_time": "2019-09-28T13:06:39.981396Z"
    }
   },
   "outputs": [
    {
     "data": {
      "text/html": [
       "<div>\n",
       "<style scoped>\n",
       "    .dataframe tbody tr th:only-of-type {\n",
       "        vertical-align: middle;\n",
       "    }\n",
       "\n",
       "    .dataframe tbody tr th {\n",
       "        vertical-align: top;\n",
       "    }\n",
       "\n",
       "    .dataframe thead th {\n",
       "        text-align: right;\n",
       "    }\n",
       "</style>\n",
       "<table border=\"1\" class=\"dataframe\">\n",
       "  <thead>\n",
       "    <tr style=\"text-align: right;\">\n",
       "      <th></th>\n",
       "      <th>collection</th>\n",
       "      <th>suitcase_id</th>\n",
       "      <th>place_name</th>\n",
       "      <th>place_type</th>\n",
       "      <th>osm_id</th>\n",
       "      <th>cci_id</th>\n",
       "      <th>date</th>\n",
       "      <th>cci</th>\n",
       "      <th>rateCigarrettes</th>\n",
       "      <th>ratePapers</th>\n",
       "      <th>rateBottles</th>\n",
       "      <th>rateExcrements</th>\n",
       "      <th>rateSyringues</th>\n",
       "      <th>rateGums</th>\n",
       "      <th>rateLeaves</th>\n",
       "      <th>rateGrits</th>\n",
       "      <th>rateGlassDebris</th>\n",
       "    </tr>\n",
       "  </thead>\n",
       "  <tbody>\n",
       "    <tr>\n",
       "      <th>0</th>\n",
       "      <td>places</td>\n",
       "      <td>49</td>\n",
       "      <td>Leimgrubenweg</td>\n",
       "      <td>bus_stop</td>\n",
       "      <td>1175332462</td>\n",
       "      <td>287</td>\n",
       "      <td>2019-04-01 8:40:49</td>\n",
       "      <td>3.20000</td>\n",
       "      <td>0.60000</td>\n",
       "      <td>1.2</td>\n",
       "      <td>0.0</td>\n",
       "      <td>0</td>\n",
       "      <td>0</td>\n",
       "      <td>0</td>\n",
       "      <td>0.00000</td>\n",
       "      <td>0</td>\n",
       "      <td>0.0</td>\n",
       "    </tr>\n",
       "    <tr>\n",
       "      <th>1</th>\n",
       "      <td>map_features</td>\n",
       "      <td>49</td>\n",
       "      <td>Leimgrubenweg</td>\n",
       "      <td>secondary</td>\n",
       "      <td>25149740</td>\n",
       "      <td>86_9668</td>\n",
       "      <td>2019-04-01 8:40:53</td>\n",
       "      <td>3.35764</td>\n",
       "      <td>0.44236</td>\n",
       "      <td>1.2</td>\n",
       "      <td>0.0</td>\n",
       "      <td>0</td>\n",
       "      <td>0</td>\n",
       "      <td>0</td>\n",
       "      <td>0.00000</td>\n",
       "      <td>0</td>\n",
       "      <td>0.0</td>\n",
       "    </tr>\n",
       "    <tr>\n",
       "      <th>2</th>\n",
       "      <td>map_features</td>\n",
       "      <td>49</td>\n",
       "      <td>Reinacherstrasse</td>\n",
       "      <td>primary</td>\n",
       "      <td>117485263</td>\n",
       "      <td>86_11641</td>\n",
       "      <td>2019-04-01 8:40:53</td>\n",
       "      <td>3.35764</td>\n",
       "      <td>0.44236</td>\n",
       "      <td>1.2</td>\n",
       "      <td>0.0</td>\n",
       "      <td>0</td>\n",
       "      <td>0</td>\n",
       "      <td>0</td>\n",
       "      <td>0.00000</td>\n",
       "      <td>0</td>\n",
       "      <td>0.0</td>\n",
       "    </tr>\n",
       "    <tr>\n",
       "      <th>3</th>\n",
       "      <td>places</td>\n",
       "      <td>49</td>\n",
       "      <td>Leimgrubenweg</td>\n",
       "      <td>bus_stop</td>\n",
       "      <td>2621172927</td>\n",
       "      <td>287</td>\n",
       "      <td>2019-04-01 8:40:57</td>\n",
       "      <td>3.19757</td>\n",
       "      <td>0.60000</td>\n",
       "      <td>1.2</td>\n",
       "      <td>0.0</td>\n",
       "      <td>0</td>\n",
       "      <td>0</td>\n",
       "      <td>0</td>\n",
       "      <td>0.00243</td>\n",
       "      <td>0</td>\n",
       "      <td>0.0</td>\n",
       "    </tr>\n",
       "    <tr>\n",
       "      <th>4</th>\n",
       "      <td>map_features</td>\n",
       "      <td>49</td>\n",
       "      <td>Dornacherstrasse</td>\n",
       "      <td>secondary</td>\n",
       "      <td>148833576</td>\n",
       "      <td>86_12436</td>\n",
       "      <td>2019-04-01 8:42:11</td>\n",
       "      <td>5.00000</td>\n",
       "      <td>0.00000</td>\n",
       "      <td>0.0</td>\n",
       "      <td>0.0</td>\n",
       "      <td>0</td>\n",
       "      <td>0</td>\n",
       "      <td>0</td>\n",
       "      <td>0.00000</td>\n",
       "      <td>0</td>\n",
       "      <td>0.0</td>\n",
       "    </tr>\n",
       "  </tbody>\n",
       "</table>\n",
       "</div>"
      ],
      "text/plain": [
       "     collection  suitcase_id        place_name place_type      osm_id  \\\n",
       "0        places           49     Leimgrubenweg   bus_stop  1175332462   \n",
       "1  map_features           49     Leimgrubenweg  secondary    25149740   \n",
       "2  map_features           49  Reinacherstrasse    primary   117485263   \n",
       "3        places           49     Leimgrubenweg   bus_stop  2621172927   \n",
       "4  map_features           49  Dornacherstrasse  secondary   148833576   \n",
       "\n",
       "     cci_id                date      cci  rateCigarrettes  ratePapers  \\\n",
       "0       287  2019-04-01 8:40:49  3.20000          0.60000         1.2   \n",
       "1   86_9668  2019-04-01 8:40:53  3.35764          0.44236         1.2   \n",
       "2  86_11641  2019-04-01 8:40:53  3.35764          0.44236         1.2   \n",
       "3       287  2019-04-01 8:40:57  3.19757          0.60000         1.2   \n",
       "4  86_12436  2019-04-01 8:42:11  5.00000          0.00000         0.0   \n",
       "\n",
       "   rateBottles  rateExcrements  rateSyringues  rateGums  rateLeaves  \\\n",
       "0          0.0               0              0         0     0.00000   \n",
       "1          0.0               0              0         0     0.00000   \n",
       "2          0.0               0              0         0     0.00000   \n",
       "3          0.0               0              0         0     0.00243   \n",
       "4          0.0               0              0         0     0.00000   \n",
       "\n",
       "   rateGrits  rateGlassDebris  \n",
       "0          0              0.0  \n",
       "1          0              0.0  \n",
       "2          0              0.0  \n",
       "3          0              0.0  \n",
       "4          0              0.0  "
      ]
     },
     "execution_count": 157,
     "metadata": {},
     "output_type": "execute_result"
    }
   ],
   "source": [
    "msr.head()"
   ]
  },
  {
   "cell_type": "code",
   "execution_count": 158,
   "metadata": {
    "ExecuteTime": {
     "end_time": "2019-09-28T13:06:46.627631Z",
     "start_time": "2019-09-28T13:06:46.611723Z"
    }
   },
   "outputs": [
    {
     "data": {
      "text/html": [
       "<div>\n",
       "<style scoped>\n",
       "    .dataframe tbody tr th:only-of-type {\n",
       "        vertical-align: middle;\n",
       "    }\n",
       "\n",
       "    .dataframe tbody tr th {\n",
       "        vertical-align: top;\n",
       "    }\n",
       "\n",
       "    .dataframe thead th {\n",
       "        text-align: right;\n",
       "    }\n",
       "</style>\n",
       "<table border=\"1\" class=\"dataframe\">\n",
       "  <thead>\n",
       "    <tr style=\"text-align: right;\">\n",
       "      <th></th>\n",
       "      <th>collection</th>\n",
       "      <th>suitcase_id</th>\n",
       "      <th>place_name</th>\n",
       "      <th>place_type</th>\n",
       "      <th>osm_id</th>\n",
       "      <th>cci_id</th>\n",
       "      <th>date</th>\n",
       "      <th>cci</th>\n",
       "      <th>rateCigarrettes</th>\n",
       "      <th>ratePapers</th>\n",
       "      <th>rateBottles</th>\n",
       "      <th>rateExcrements</th>\n",
       "      <th>rateSyringues</th>\n",
       "      <th>rateGums</th>\n",
       "      <th>rateLeaves</th>\n",
       "      <th>rateGrits</th>\n",
       "      <th>rateGlassDebris</th>\n",
       "    </tr>\n",
       "  </thead>\n",
       "  <tbody>\n",
       "    <tr>\n",
       "      <th>58237</th>\n",
       "      <td>map_features</td>\n",
       "      <td>59</td>\n",
       "      <td>Feldbergstrasse</td>\n",
       "      <td>tertiary</td>\n",
       "      <td>182423029</td>\n",
       "      <td>86_12971</td>\n",
       "      <td>2019-09-20 16:40:16</td>\n",
       "      <td>3.692390</td>\n",
       "      <td>0.378171</td>\n",
       "      <td>0.929439</td>\n",
       "      <td>0.0</td>\n",
       "      <td>0</td>\n",
       "      <td>0</td>\n",
       "      <td>0</td>\n",
       "      <td>0.000000</td>\n",
       "      <td>0</td>\n",
       "      <td>0.0</td>\n",
       "    </tr>\n",
       "    <tr>\n",
       "      <th>58238</th>\n",
       "      <td>map_features</td>\n",
       "      <td>59</td>\n",
       "      <td>Feldbergstrasse</td>\n",
       "      <td>tertiary</td>\n",
       "      <td>182423029</td>\n",
       "      <td>86_12972</td>\n",
       "      <td>2019-09-20 16:40:16</td>\n",
       "      <td>3.782134</td>\n",
       "      <td>0.411573</td>\n",
       "      <td>0.806293</td>\n",
       "      <td>0.0</td>\n",
       "      <td>0</td>\n",
       "      <td>0</td>\n",
       "      <td>0</td>\n",
       "      <td>0.000000</td>\n",
       "      <td>0</td>\n",
       "      <td>0.0</td>\n",
       "    </tr>\n",
       "    <tr>\n",
       "      <th>58239</th>\n",
       "      <td>map_features</td>\n",
       "      <td>59</td>\n",
       "      <td>Klybeckstrasse</td>\n",
       "      <td>tertiary</td>\n",
       "      <td>182422859</td>\n",
       "      <td>86_12969</td>\n",
       "      <td>2019-09-20 16:40:20</td>\n",
       "      <td>3.867693</td>\n",
       "      <td>0.516248</td>\n",
       "      <td>0.615552</td>\n",
       "      <td>0.0</td>\n",
       "      <td>0</td>\n",
       "      <td>0</td>\n",
       "      <td>0</td>\n",
       "      <td>0.000508</td>\n",
       "      <td>0</td>\n",
       "      <td>0.0</td>\n",
       "    </tr>\n",
       "    <tr>\n",
       "      <th>58240</th>\n",
       "      <td>map_features</td>\n",
       "      <td>59</td>\n",
       "      <td>Amerbachstrasse</td>\n",
       "      <td>residential</td>\n",
       "      <td>97984332</td>\n",
       "      <td>86_1779</td>\n",
       "      <td>2019-09-20 16:41:08</td>\n",
       "      <td>4.399277</td>\n",
       "      <td>0.600000</td>\n",
       "      <td>0.000000</td>\n",
       "      <td>0.0</td>\n",
       "      <td>0</td>\n",
       "      <td>0</td>\n",
       "      <td>0</td>\n",
       "      <td>0.000723</td>\n",
       "      <td>0</td>\n",
       "      <td>0.0</td>\n",
       "    </tr>\n",
       "    <tr>\n",
       "      <th>58241</th>\n",
       "      <td>map_features</td>\n",
       "      <td>59</td>\n",
       "      <td>Offenburgerstrasse</td>\n",
       "      <td>residential</td>\n",
       "      <td>9398555</td>\n",
       "      <td>86_8723</td>\n",
       "      <td>2019-09-20 16:41:08</td>\n",
       "      <td>4.399277</td>\n",
       "      <td>0.600000</td>\n",
       "      <td>0.000000</td>\n",
       "      <td>0.0</td>\n",
       "      <td>0</td>\n",
       "      <td>0</td>\n",
       "      <td>0</td>\n",
       "      <td>0.000723</td>\n",
       "      <td>0</td>\n",
       "      <td>0.0</td>\n",
       "    </tr>\n",
       "  </tbody>\n",
       "</table>\n",
       "</div>"
      ],
      "text/plain": [
       "         collection  suitcase_id          place_name   place_type     osm_id  \\\n",
       "58237  map_features           59     Feldbergstrasse     tertiary  182423029   \n",
       "58238  map_features           59     Feldbergstrasse     tertiary  182423029   \n",
       "58239  map_features           59      Klybeckstrasse     tertiary  182422859   \n",
       "58240  map_features           59     Amerbachstrasse  residential   97984332   \n",
       "58241  map_features           59  Offenburgerstrasse  residential    9398555   \n",
       "\n",
       "         cci_id                 date       cci  rateCigarrettes  ratePapers  \\\n",
       "58237  86_12971  2019-09-20 16:40:16  3.692390         0.378171    0.929439   \n",
       "58238  86_12972  2019-09-20 16:40:16  3.782134         0.411573    0.806293   \n",
       "58239  86_12969  2019-09-20 16:40:20  3.867693         0.516248    0.615552   \n",
       "58240   86_1779  2019-09-20 16:41:08  4.399277         0.600000    0.000000   \n",
       "58241   86_8723  2019-09-20 16:41:08  4.399277         0.600000    0.000000   \n",
       "\n",
       "       rateBottles  rateExcrements  rateSyringues  rateGums  rateLeaves  \\\n",
       "58237          0.0               0              0         0    0.000000   \n",
       "58238          0.0               0              0         0    0.000000   \n",
       "58239          0.0               0              0         0    0.000508   \n",
       "58240          0.0               0              0         0    0.000723   \n",
       "58241          0.0               0              0         0    0.000723   \n",
       "\n",
       "       rateGrits  rateGlassDebris  \n",
       "58237          0              0.0  \n",
       "58238          0              0.0  \n",
       "58239          0              0.0  \n",
       "58240          0              0.0  \n",
       "58241          0              0.0  "
      ]
     },
     "execution_count": 158,
     "metadata": {},
     "output_type": "execute_result"
    }
   ],
   "source": [
    "msr.tail()"
   ]
  },
  {
   "cell_type": "code",
   "execution_count": 12,
   "metadata": {
    "ExecuteTime": {
     "end_time": "2019-09-28T08:00:28.358562Z",
     "start_time": "2019-09-28T08:00:28.336039Z"
    }
   },
   "outputs": [
    {
     "data": {
      "text/html": [
       "<div>\n",
       "<style scoped>\n",
       "    .dataframe tbody tr th:only-of-type {\n",
       "        vertical-align: middle;\n",
       "    }\n",
       "\n",
       "    .dataframe tbody tr th {\n",
       "        vertical-align: top;\n",
       "    }\n",
       "\n",
       "    .dataframe thead th {\n",
       "        text-align: right;\n",
       "    }\n",
       "</style>\n",
       "<table border=\"1\" class=\"dataframe\">\n",
       "  <thead>\n",
       "    <tr style=\"text-align: right;\">\n",
       "      <th></th>\n",
       "      <th>osm_id</th>\n",
       "      <th>cci_id</th>\n",
       "      <th>date</th>\n",
       "      <th>Unnamed: 3</th>\n",
       "      <th>Unnamed: 4</th>\n",
       "      <th>Unnamed: 5</th>\n",
       "      <th>Unnamed: 6</th>\n",
       "      <th>Unnamed: 7</th>\n",
       "      <th>Unnamed: 8</th>\n",
       "      <th>Unnamed: 9</th>\n",
       "      <th>...</th>\n",
       "      <th>Unnamed: 231</th>\n",
       "      <th>Unnamed: 232</th>\n",
       "      <th>Unnamed: 233</th>\n",
       "      <th>Unnamed: 234</th>\n",
       "      <th>Unnamed: 235</th>\n",
       "      <th>Unnamed: 236</th>\n",
       "      <th>Unnamed: 237</th>\n",
       "      <th>Unnamed: 238</th>\n",
       "      <th>Unnamed: 239</th>\n",
       "      <th>Unnamed: 240</th>\n",
       "    </tr>\n",
       "  </thead>\n",
       "  <tbody>\n",
       "    <tr>\n",
       "      <th>0</th>\n",
       "      <td>172611027</td>\n",
       "      <td>86_12812</td>\n",
       "      <td>2019-06-25 6:25:49</td>\n",
       "      <td>NaN</td>\n",
       "      <td>NaN</td>\n",
       "      <td>NaN</td>\n",
       "      <td>NaN</td>\n",
       "      <td>NaN</td>\n",
       "      <td>NaN</td>\n",
       "      <td>NaN</td>\n",
       "      <td>...</td>\n",
       "      <td>NaN</td>\n",
       "      <td>NaN</td>\n",
       "      <td>NaN</td>\n",
       "      <td>NaN</td>\n",
       "      <td>NaN</td>\n",
       "      <td>NaN</td>\n",
       "      <td>NaN</td>\n",
       "      <td>NaN</td>\n",
       "      <td>NaN</td>\n",
       "      <td>NaN</td>\n",
       "    </tr>\n",
       "    <tr>\n",
       "      <th>1</th>\n",
       "      <td>3828924874</td>\n",
       "      <td>260</td>\n",
       "      <td>2019-06-25 6:26:22</td>\n",
       "      <td>NaN</td>\n",
       "      <td>NaN</td>\n",
       "      <td>NaN</td>\n",
       "      <td>NaN</td>\n",
       "      <td>NaN</td>\n",
       "      <td>NaN</td>\n",
       "      <td>NaN</td>\n",
       "      <td>...</td>\n",
       "      <td>NaN</td>\n",
       "      <td>NaN</td>\n",
       "      <td>NaN</td>\n",
       "      <td>NaN</td>\n",
       "      <td>NaN</td>\n",
       "      <td>NaN</td>\n",
       "      <td>NaN</td>\n",
       "      <td>NaN</td>\n",
       "      <td>NaN</td>\n",
       "      <td>NaN</td>\n",
       "    </tr>\n",
       "    <tr>\n",
       "      <th>2</th>\n",
       "      <td>23913163</td>\n",
       "      <td>86_9255</td>\n",
       "      <td>2019-06-25 6:26:26</td>\n",
       "      <td>NaN</td>\n",
       "      <td>NaN</td>\n",
       "      <td>NaN</td>\n",
       "      <td>NaN</td>\n",
       "      <td>NaN</td>\n",
       "      <td>NaN</td>\n",
       "      <td>NaN</td>\n",
       "      <td>...</td>\n",
       "      <td>NaN</td>\n",
       "      <td>NaN</td>\n",
       "      <td>NaN</td>\n",
       "      <td>NaN</td>\n",
       "      <td>NaN</td>\n",
       "      <td>NaN</td>\n",
       "      <td>NaN</td>\n",
       "      <td>NaN</td>\n",
       "      <td>NaN</td>\n",
       "      <td>NaN</td>\n",
       "    </tr>\n",
       "    <tr>\n",
       "      <th>3</th>\n",
       "      <td>23913163</td>\n",
       "      <td>86_17476</td>\n",
       "      <td>2019-06-25 6:26:26</td>\n",
       "      <td>NaN</td>\n",
       "      <td>NaN</td>\n",
       "      <td>NaN</td>\n",
       "      <td>NaN</td>\n",
       "      <td>NaN</td>\n",
       "      <td>NaN</td>\n",
       "      <td>NaN</td>\n",
       "      <td>...</td>\n",
       "      <td>NaN</td>\n",
       "      <td>NaN</td>\n",
       "      <td>NaN</td>\n",
       "      <td>NaN</td>\n",
       "      <td>NaN</td>\n",
       "      <td>NaN</td>\n",
       "      <td>NaN</td>\n",
       "      <td>NaN</td>\n",
       "      <td>NaN</td>\n",
       "      <td>NaN</td>\n",
       "    </tr>\n",
       "    <tr>\n",
       "      <th>4</th>\n",
       "      <td>144481239</td>\n",
       "      <td>86_12223</td>\n",
       "      <td>2019-06-25 6:27:21</td>\n",
       "      <td>NaN</td>\n",
       "      <td>NaN</td>\n",
       "      <td>NaN</td>\n",
       "      <td>NaN</td>\n",
       "      <td>NaN</td>\n",
       "      <td>NaN</td>\n",
       "      <td>NaN</td>\n",
       "      <td>...</td>\n",
       "      <td>NaN</td>\n",
       "      <td>NaN</td>\n",
       "      <td>NaN</td>\n",
       "      <td>NaN</td>\n",
       "      <td>NaN</td>\n",
       "      <td>NaN</td>\n",
       "      <td>NaN</td>\n",
       "      <td>NaN</td>\n",
       "      <td>NaN</td>\n",
       "      <td>NaN</td>\n",
       "    </tr>\n",
       "  </tbody>\n",
       "</table>\n",
       "<p>5 rows × 241 columns</p>\n",
       "</div>"
      ],
      "text/plain": [
       "       osm_id    cci_id                date  Unnamed: 3  Unnamed: 4  \\\n",
       "0   172611027  86_12812  2019-06-25 6:25:49         NaN         NaN   \n",
       "1  3828924874       260  2019-06-25 6:26:22         NaN         NaN   \n",
       "2    23913163   86_9255  2019-06-25 6:26:26         NaN         NaN   \n",
       "3    23913163  86_17476  2019-06-25 6:26:26         NaN         NaN   \n",
       "4   144481239  86_12223  2019-06-25 6:27:21         NaN         NaN   \n",
       "\n",
       "   Unnamed: 5  Unnamed: 6  Unnamed: 7  Unnamed: 8  Unnamed: 9  ...  \\\n",
       "0         NaN         NaN         NaN         NaN         NaN  ...   \n",
       "1         NaN         NaN         NaN         NaN         NaN  ...   \n",
       "2         NaN         NaN         NaN         NaN         NaN  ...   \n",
       "3         NaN         NaN         NaN         NaN         NaN  ...   \n",
       "4         NaN         NaN         NaN         NaN         NaN  ...   \n",
       "\n",
       "   Unnamed: 231  Unnamed: 232  Unnamed: 233  Unnamed: 234  Unnamed: 235  \\\n",
       "0           NaN           NaN           NaN           NaN           NaN   \n",
       "1           NaN           NaN           NaN           NaN           NaN   \n",
       "2           NaN           NaN           NaN           NaN           NaN   \n",
       "3           NaN           NaN           NaN           NaN           NaN   \n",
       "4           NaN           NaN           NaN           NaN           NaN   \n",
       "\n",
       "   Unnamed: 236  Unnamed: 237  Unnamed: 238  Unnamed: 239  Unnamed: 240  \n",
       "0           NaN           NaN           NaN           NaN           NaN  \n",
       "1           NaN           NaN           NaN           NaN           NaN  \n",
       "2           NaN           NaN           NaN           NaN           NaN  \n",
       "3           NaN           NaN           NaN           NaN           NaN  \n",
       "4           NaN           NaN           NaN           NaN           NaN  \n",
       "\n",
       "[5 rows x 241 columns]"
      ]
     },
     "execution_count": 12,
     "metadata": {},
     "output_type": "execute_result"
    }
   ],
   "source": [
    "pred_msr.head()"
   ]
  },
  {
   "cell_type": "code",
   "execution_count": 144,
   "metadata": {
    "ExecuteTime": {
     "end_time": "2019-09-28T11:28:16.748272Z",
     "start_time": "2019-09-28T11:28:16.737739Z"
    }
   },
   "outputs": [
    {
     "data": {
      "text/html": [
       "<div>\n",
       "<style scoped>\n",
       "    .dataframe tbody tr th:only-of-type {\n",
       "        vertical-align: middle;\n",
       "    }\n",
       "\n",
       "    .dataframe tbody tr th {\n",
       "        vertical-align: top;\n",
       "    }\n",
       "\n",
       "    .dataframe thead th {\n",
       "        text-align: right;\n",
       "    }\n",
       "</style>\n",
       "<table border=\"1\" class=\"dataframe\">\n",
       "  <thead>\n",
       "    <tr style=\"text-align: right;\">\n",
       "      <th></th>\n",
       "      <th>city_id</th>\n",
       "      <th>osm_id</th>\n",
       "      <th>cci_id</th>\n",
       "      <th>type</th>\n",
       "      <th>geometry</th>\n",
       "      <th>coordinates</th>\n",
       "    </tr>\n",
       "  </thead>\n",
       "  <tbody>\n",
       "    <tr>\n",
       "      <th>0</th>\n",
       "      <td>86</td>\n",
       "      <td>263256727.0</td>\n",
       "      <td>324</td>\n",
       "      <td>Place</td>\n",
       "      <td>Polygon</td>\n",
       "      <td>POLYGON((7.601737973795679 47.532477, 7.601737...</td>\n",
       "    </tr>\n",
       "    <tr>\n",
       "      <th>1</th>\n",
       "      <td>86</td>\n",
       "      <td>270322890.0</td>\n",
       "      <td>NaN</td>\n",
       "      <td>Place</td>\n",
       "      <td>Polygon</td>\n",
       "      <td>POLYGON((7.568622384667696 47.561588, 7.568621...</td>\n",
       "    </tr>\n",
       "    <tr>\n",
       "      <th>2</th>\n",
       "      <td>86</td>\n",
       "      <td>274674809.0</td>\n",
       "      <td>NaN</td>\n",
       "      <td>Place</td>\n",
       "      <td>Polygon</td>\n",
       "      <td>POLYGON((7.589516633078348 47.5480482, 7.58951...</td>\n",
       "    </tr>\n",
       "    <tr>\n",
       "      <th>3</th>\n",
       "      <td>86</td>\n",
       "      <td>583586314.0</td>\n",
       "      <td>251</td>\n",
       "      <td>Place</td>\n",
       "      <td>Polygon</td>\n",
       "      <td>POLYGON((7.583728694181322 47.5640838, 7.58372...</td>\n",
       "    </tr>\n",
       "    <tr>\n",
       "      <th>4</th>\n",
       "      <td>86</td>\n",
       "      <td>707688638.0</td>\n",
       "      <td>266</td>\n",
       "      <td>Place</td>\n",
       "      <td>Polygon</td>\n",
       "      <td>POLYGON((7.569987711883181 47.5687268, 7.56998...</td>\n",
       "    </tr>\n",
       "    <tr>\n",
       "      <th>5</th>\n",
       "      <td>86</td>\n",
       "      <td>707688677.0</td>\n",
       "      <td>266</td>\n",
       "      <td>Place</td>\n",
       "      <td>Polygon</td>\n",
       "      <td>POLYGON((7.573156901658795 47.5660452, 7.57315...</td>\n",
       "    </tr>\n",
       "    <tr>\n",
       "      <th>6</th>\n",
       "      <td>86</td>\n",
       "      <td>707688723.0</td>\n",
       "      <td>266</td>\n",
       "      <td>Place</td>\n",
       "      <td>Polygon</td>\n",
       "      <td>POLYGON((7.573843098654215 47.5652571, 7.57384...</td>\n",
       "    </tr>\n",
       "    <tr>\n",
       "      <th>7</th>\n",
       "      <td>86</td>\n",
       "      <td>707688727.0</td>\n",
       "      <td>266</td>\n",
       "      <td>Place</td>\n",
       "      <td>Polygon</td>\n",
       "      <td>POLYGON((7.573092700297358 47.5656881, 7.57309...</td>\n",
       "    </tr>\n",
       "    <tr>\n",
       "      <th>8</th>\n",
       "      <td>86</td>\n",
       "      <td>759733150.0</td>\n",
       "      <td>287</td>\n",
       "      <td>Place</td>\n",
       "      <td>Polygon</td>\n",
       "      <td>POLYGON((7.564977301710264 47.5660587, 7.56497...</td>\n",
       "    </tr>\n",
       "    <tr>\n",
       "      <th>9</th>\n",
       "      <td>86</td>\n",
       "      <td>759733151.0</td>\n",
       "      <td>287</td>\n",
       "      <td>Place</td>\n",
       "      <td>Polygon</td>\n",
       "      <td>POLYGON((7.565369203143785 47.5664347, 7.56536...</td>\n",
       "    </tr>\n",
       "  </tbody>\n",
       "</table>\n",
       "</div>"
      ],
      "text/plain": [
       "   city_id       osm_id cci_id   type geometry  \\\n",
       "0       86  263256727.0    324  Place  Polygon   \n",
       "1       86  270322890.0    NaN  Place  Polygon   \n",
       "2       86  274674809.0    NaN  Place  Polygon   \n",
       "3       86  583586314.0    251  Place  Polygon   \n",
       "4       86  707688638.0    266  Place  Polygon   \n",
       "5       86  707688677.0    266  Place  Polygon   \n",
       "6       86  707688723.0    266  Place  Polygon   \n",
       "7       86  707688727.0    266  Place  Polygon   \n",
       "8       86  759733150.0    287  Place  Polygon   \n",
       "9       86  759733151.0    287  Place  Polygon   \n",
       "\n",
       "                                         coordinates  \n",
       "0  POLYGON((7.601737973795679 47.532477, 7.601737...  \n",
       "1  POLYGON((7.568622384667696 47.561588, 7.568621...  \n",
       "2  POLYGON((7.589516633078348 47.5480482, 7.58951...  \n",
       "3  POLYGON((7.583728694181322 47.5640838, 7.58372...  \n",
       "4  POLYGON((7.569987711883181 47.5687268, 7.56998...  \n",
       "5  POLYGON((7.573156901658795 47.5660452, 7.57315...  \n",
       "6  POLYGON((7.573843098654215 47.5652571, 7.57384...  \n",
       "7  POLYGON((7.573092700297358 47.5656881, 7.57309...  \n",
       "8  POLYGON((7.564977301710264 47.5660587, 7.56497...  \n",
       "9  POLYGON((7.565369203143785 47.5664347, 7.56536...  "
      ]
     },
     "execution_count": 144,
     "metadata": {},
     "output_type": "execute_result"
    }
   ],
   "source": [
    "clt.head(10)"
   ]
  },
  {
   "cell_type": "code",
   "execution_count": null,
   "metadata": {},
   "outputs": [],
   "source": []
  },
  {
   "cell_type": "code",
   "execution_count": null,
   "metadata": {},
   "outputs": [],
   "source": []
  },
  {
   "cell_type": "code",
   "execution_count": null,
   "metadata": {},
   "outputs": [],
   "source": []
  },
  {
   "cell_type": "markdown",
   "metadata": {},
   "source": [
    "# Measures\n",
    "## Unique Streets"
   ]
  },
  {
   "cell_type": "code",
   "execution_count": 64,
   "metadata": {
    "ExecuteTime": {
     "end_time": "2019-09-28T09:20:44.820846Z",
     "start_time": "2019-09-28T09:20:44.814778Z"
    }
   },
   "outputs": [
    {
     "data": {
      "text/plain": [
       "['collection',\n",
       " 'suitcase_id',\n",
       " 'place_name',\n",
       " 'place_type',\n",
       " 'osm_id',\n",
       " 'cci_id',\n",
       " 'date',\n",
       " 'cci',\n",
       " 'rateCigarrettes',\n",
       " 'ratePapers',\n",
       " 'rateBottles',\n",
       " 'rateExcrements',\n",
       " 'rateSyringues',\n",
       " 'rateGums',\n",
       " 'rateLeaves',\n",
       " 'rateGrits',\n",
       " 'rateGlassDebris',\n",
       " 'Unnamed: 17',\n",
       " 'Unnamed: 18',\n",
       " 'Unnamed: 19',\n",
       " 'Unnamed: 20',\n",
       " 'Unnamed: 21',\n",
       " 'Unnamed: 22',\n",
       " 'Unnamed: 23',\n",
       " 'Unnamed: 24',\n",
       " 'Unnamed: 25',\n",
       " 'Unnamed: 26',\n",
       " 'Unnamed: 27',\n",
       " 'Unnamed: 28',\n",
       " 'Unnamed: 29',\n",
       " 'Unnamed: 30',\n",
       " 'Unnamed: 31',\n",
       " 'Unnamed: 32',\n",
       " 'Unnamed: 33',\n",
       " 'Unnamed: 34',\n",
       " 'Unnamed: 35',\n",
       " 'Unnamed: 36',\n",
       " 'Unnamed: 37',\n",
       " 'Unnamed: 38',\n",
       " 'Unnamed: 39',\n",
       " 'Unnamed: 40',\n",
       " 'Unnamed: 41',\n",
       " 'Unnamed: 42',\n",
       " 'Unnamed: 43',\n",
       " 'Unnamed: 44',\n",
       " 'Unnamed: 45',\n",
       " 'Unnamed: 46',\n",
       " 'Unnamed: 47',\n",
       " 'Unnamed: 48',\n",
       " 'Unnamed: 49',\n",
       " 'Unnamed: 50',\n",
       " 'Unnamed: 51',\n",
       " 'Unnamed: 52',\n",
       " 'Unnamed: 53',\n",
       " 'Unnamed: 54',\n",
       " 'Unnamed: 55',\n",
       " 'Unnamed: 56',\n",
       " 'Unnamed: 57',\n",
       " 'Unnamed: 58',\n",
       " 'Unnamed: 59',\n",
       " 'Unnamed: 60',\n",
       " 'Unnamed: 61',\n",
       " 'Unnamed: 62',\n",
       " 'Unnamed: 63',\n",
       " 'Unnamed: 64',\n",
       " 'Unnamed: 65',\n",
       " 'Unnamed: 66',\n",
       " 'Unnamed: 67',\n",
       " 'Unnamed: 68',\n",
       " 'Unnamed: 69',\n",
       " 'Unnamed: 70',\n",
       " 'Unnamed: 71',\n",
       " 'Unnamed: 72',\n",
       " 'Unnamed: 73',\n",
       " 'Unnamed: 74',\n",
       " 'Unnamed: 75',\n",
       " 'Unnamed: 76',\n",
       " 'Unnamed: 77',\n",
       " 'Unnamed: 78',\n",
       " 'Unnamed: 79',\n",
       " 'Unnamed: 80',\n",
       " 'Unnamed: 81',\n",
       " 'Unnamed: 82',\n",
       " 'Unnamed: 83',\n",
       " 'Unnamed: 84',\n",
       " 'Unnamed: 85',\n",
       " 'Unnamed: 86',\n",
       " 'Unnamed: 87',\n",
       " 'Unnamed: 88',\n",
       " 'Unnamed: 89',\n",
       " 'Unnamed: 90',\n",
       " 'Unnamed: 91',\n",
       " 'Unnamed: 92',\n",
       " 'Unnamed: 93',\n",
       " 'Unnamed: 94',\n",
       " 'Unnamed: 95',\n",
       " 'Unnamed: 96',\n",
       " 'Unnamed: 97',\n",
       " 'Unnamed: 98',\n",
       " 'Unnamed: 99',\n",
       " 'Unnamed: 100',\n",
       " 'Unnamed: 101',\n",
       " 'Unnamed: 102',\n",
       " 'Unnamed: 103',\n",
       " 'Unnamed: 104',\n",
       " 'Unnamed: 105',\n",
       " 'Unnamed: 106',\n",
       " 'Unnamed: 107',\n",
       " 'Unnamed: 108',\n",
       " 'Unnamed: 109',\n",
       " 'Unnamed: 110',\n",
       " 'Unnamed: 111',\n",
       " 'Unnamed: 112',\n",
       " 'Unnamed: 113',\n",
       " 'Unnamed: 114',\n",
       " 'Unnamed: 115',\n",
       " 'Unnamed: 116',\n",
       " 'Unnamed: 117',\n",
       " 'Unnamed: 118',\n",
       " 'Unnamed: 119',\n",
       " 'Unnamed: 120',\n",
       " 'Unnamed: 121',\n",
       " 'Unnamed: 122',\n",
       " 'Unnamed: 123',\n",
       " 'Unnamed: 124',\n",
       " 'Unnamed: 125',\n",
       " 'Unnamed: 126',\n",
       " 'Unnamed: 127',\n",
       " 'Unnamed: 128',\n",
       " 'Unnamed: 129',\n",
       " 'Unnamed: 130',\n",
       " 'Unnamed: 131',\n",
       " 'Unnamed: 132',\n",
       " 'Unnamed: 133',\n",
       " 'Unnamed: 134',\n",
       " 'Unnamed: 135',\n",
       " 'Unnamed: 136',\n",
       " 'Unnamed: 137',\n",
       " 'Unnamed: 138',\n",
       " 'Unnamed: 139',\n",
       " 'Unnamed: 140',\n",
       " 'Unnamed: 141',\n",
       " 'Unnamed: 142',\n",
       " 'Unnamed: 143',\n",
       " 'Unnamed: 144',\n",
       " 'Unnamed: 145',\n",
       " 'Unnamed: 146',\n",
       " 'Unnamed: 147',\n",
       " 'Unnamed: 148',\n",
       " 'Unnamed: 149',\n",
       " 'Unnamed: 150',\n",
       " 'Unnamed: 151',\n",
       " 'Unnamed: 152',\n",
       " 'Unnamed: 153',\n",
       " 'Unnamed: 154',\n",
       " 'Unnamed: 155',\n",
       " 'Unnamed: 156',\n",
       " 'Unnamed: 157',\n",
       " 'Unnamed: 158',\n",
       " 'Unnamed: 159',\n",
       " 'Unnamed: 160',\n",
       " 'Unnamed: 161',\n",
       " 'Unnamed: 162',\n",
       " 'Unnamed: 163',\n",
       " 'Unnamed: 164',\n",
       " 'Unnamed: 165',\n",
       " 'Unnamed: 166',\n",
       " 'Unnamed: 167',\n",
       " 'Unnamed: 168',\n",
       " 'Unnamed: 169',\n",
       " 'Unnamed: 170',\n",
       " 'Unnamed: 171',\n",
       " 'Unnamed: 172',\n",
       " 'Unnamed: 173',\n",
       " 'Unnamed: 174',\n",
       " 'Unnamed: 175',\n",
       " 'Unnamed: 176',\n",
       " 'Unnamed: 177',\n",
       " 'Unnamed: 178',\n",
       " 'Unnamed: 179',\n",
       " 'Unnamed: 180',\n",
       " 'Unnamed: 181',\n",
       " 'Unnamed: 182',\n",
       " 'Unnamed: 183',\n",
       " 'Unnamed: 184',\n",
       " 'Unnamed: 185',\n",
       " 'Unnamed: 186',\n",
       " 'Unnamed: 187',\n",
       " 'Unnamed: 188',\n",
       " 'Unnamed: 189',\n",
       " 'Unnamed: 190',\n",
       " 'Unnamed: 191',\n",
       " 'Unnamed: 192',\n",
       " 'Unnamed: 193',\n",
       " 'Unnamed: 194',\n",
       " 'Unnamed: 195',\n",
       " 'Unnamed: 196',\n",
       " 'Unnamed: 197',\n",
       " 'Unnamed: 198',\n",
       " 'Unnamed: 199',\n",
       " 'Unnamed: 200',\n",
       " 'Unnamed: 201',\n",
       " 'Unnamed: 202',\n",
       " 'Unnamed: 203',\n",
       " 'Unnamed: 204',\n",
       " 'Unnamed: 205',\n",
       " 'Unnamed: 206',\n",
       " 'Unnamed: 207',\n",
       " 'Unnamed: 208',\n",
       " 'Unnamed: 209',\n",
       " 'Unnamed: 210',\n",
       " 'Unnamed: 211',\n",
       " 'Unnamed: 212',\n",
       " 'Unnamed: 213',\n",
       " 'Unnamed: 214',\n",
       " 'Unnamed: 215',\n",
       " 'Unnamed: 216',\n",
       " 'Unnamed: 217',\n",
       " 'Unnamed: 218',\n",
       " 'Unnamed: 219',\n",
       " 'Unnamed: 220',\n",
       " 'Unnamed: 221',\n",
       " 'Unnamed: 222',\n",
       " 'Unnamed: 223',\n",
       " 'Unnamed: 224',\n",
       " 'Unnamed: 225',\n",
       " 'Unnamed: 226',\n",
       " 'Unnamed: 227',\n",
       " 'Unnamed: 228',\n",
       " 'Unnamed: 229',\n",
       " 'Unnamed: 230',\n",
       " 'Unnamed: 231',\n",
       " 'Unnamed: 232',\n",
       " 'Unnamed: 233',\n",
       " 'Unnamed: 234',\n",
       " 'Unnamed: 235',\n",
       " 'Unnamed: 236',\n",
       " 'Unnamed: 237',\n",
       " 'Unnamed: 238',\n",
       " 'Unnamed: 239',\n",
       " 'Unnamed: 240',\n",
       " 'Unnamed: 241',\n",
       " 'Unnamed: 242',\n",
       " 'Unnamed: 243',\n",
       " 'Unnamed: 244',\n",
       " 'Unnamed: 245',\n",
       " 'Unnamed: 246',\n",
       " 'Unnamed: 247',\n",
       " 'Unnamed: 248',\n",
       " 'Unnamed: 249',\n",
       " 'Unnamed: 250',\n",
       " 'Unnamed: 251',\n",
       " 'Unnamed: 252',\n",
       " 'Unnamed: 253',\n",
       " 'Unnamed: 254',\n",
       " 'Unnamed: 255']"
      ]
     },
     "execution_count": 64,
     "metadata": {},
     "output_type": "execute_result"
    }
   ],
   "source": [
    "list(msr.columns)"
   ]
  },
  {
   "cell_type": "code",
   "execution_count": 18,
   "metadata": {
    "ExecuteTime": {
     "end_time": "2019-09-28T08:47:41.310723Z",
     "start_time": "2019-09-28T08:47:41.302673Z"
    }
   },
   "outputs": [
    {
     "data": {
      "text/plain": [
       "array([1175332462, 25149740, 117485263, ..., '97984332', '9398555',\n",
       "       'osm_id'], dtype=object)"
      ]
     },
     "execution_count": 18,
     "metadata": {},
     "output_type": "execute_result"
    }
   ],
   "source": [
    "msr.osm_id.unique()"
   ]
  },
  {
   "cell_type": "code",
   "execution_count": 18,
   "metadata": {
    "ExecuteTime": {
     "end_time": "2019-09-28T08:09:25.797133Z",
     "start_time": "2019-09-28T08:09:25.789024Z"
    }
   },
   "outputs": [
    {
     "data": {
      "text/plain": [
       "1436"
      ]
     },
     "execution_count": 18,
     "metadata": {},
     "output_type": "execute_result"
    }
   ],
   "source": [
    "len(msr.osm_id.unique())"
   ]
  },
  {
   "cell_type": "code",
   "execution_count": null,
   "metadata": {},
   "outputs": [],
   "source": []
  },
  {
   "cell_type": "markdown",
   "metadata": {},
   "source": [
    "\n",
    "\n",
    "\n",
    "\n",
    "# Date Range?\n",
    "\n"
   ]
  },
  {
   "cell_type": "code",
   "execution_count": 147,
   "metadata": {
    "ExecuteTime": {
     "end_time": "2019-09-28T11:37:15.612534Z",
     "start_time": "2019-09-28T11:37:15.606658Z"
    }
   },
   "outputs": [
    {
     "data": {
      "text/plain": [
       "<bound method Series.max of 0         2019-04-01 8:40:49\n",
       "1         2019-04-01 8:40:53\n",
       "2         2019-04-01 8:40:53\n",
       "3         2019-04-01 8:40:57\n",
       "4         2019-04-01 8:42:11\n",
       "5         2019-04-01 8:42:11\n",
       "6         2019-04-01 8:42:27\n",
       "7         2019-04-01 8:45:50\n",
       "8         2019-04-01 8:47:29\n",
       "9         2019-04-01 8:48:26\n",
       "10        2019-04-01 8:48:46\n",
       "11        2019-04-01 8:48:46\n",
       "12        2019-04-01 8:49:14\n",
       "13        2019-04-01 8:49:18\n",
       "14        2019-04-01 8:49:52\n",
       "15        2019-04-01 8:49:58\n",
       "16        2019-04-01 8:50:38\n",
       "17        2019-04-01 8:50:38\n",
       "18        2019-04-01 8:50:53\n",
       "19        2019-04-01 8:50:53\n",
       "20        2019-04-01 8:51:15\n",
       "21        2019-04-01 8:51:29\n",
       "22        2019-04-01 8:51:29\n",
       "23        2019-04-01 8:52:10\n",
       "24        2019-04-01 8:52:10\n",
       "25        2019-04-01 8:52:17\n",
       "26        2019-04-01 8:52:53\n",
       "27        2019-04-01 8:52:53\n",
       "28        2019-04-01 8:52:53\n",
       "29        2019-04-01 8:52:53\n",
       "                ...         \n",
       "58212    2019-09-20 16:34:38\n",
       "58213    2019-09-20 16:34:38\n",
       "58214    2019-09-20 16:34:52\n",
       "58215    2019-09-20 16:35:03\n",
       "58216    2019-09-20 16:35:17\n",
       "58217    2019-09-20 16:35:19\n",
       "58218    2019-09-20 16:35:19\n",
       "58219    2019-09-20 16:35:21\n",
       "58220    2019-09-20 16:35:21\n",
       "58221    2019-09-20 16:35:33\n",
       "58222    2019-09-20 16:35:52\n",
       "58223    2019-09-20 16:35:53\n",
       "58224    2019-09-20 16:35:55\n",
       "58225    2019-09-20 16:35:57\n",
       "58226    2019-09-20 16:35:58\n",
       "58227    2019-09-20 16:35:58\n",
       "58228    2019-09-20 16:35:58\n",
       "58229    2019-09-20 16:35:59\n",
       "58230    2019-09-20 16:36:46\n",
       "58231    2019-09-20 16:37:14\n",
       "58232    2019-09-20 16:37:29\n",
       "58233    2019-09-20 16:37:45\n",
       "58234    2019-09-20 16:38:52\n",
       "58235    2019-09-20 16:39:00\n",
       "58236    2019-09-20 16:40:16\n",
       "58237    2019-09-20 16:40:16\n",
       "58238    2019-09-20 16:40:16\n",
       "58239    2019-09-20 16:40:20\n",
       "58240    2019-09-20 16:41:08\n",
       "58241    2019-09-20 16:41:08\n",
       "Name: date, Length: 58242, dtype: object>"
      ]
     },
     "execution_count": 147,
     "metadata": {},
     "output_type": "execute_result"
    }
   ],
   "source": [
    "\n",
    "msr.date."
   ]
  },
  {
   "cell_type": "code",
   "execution_count": null,
   "metadata": {},
   "outputs": [],
   "source": []
  },
  {
   "cell_type": "code",
   "execution_count": 131,
   "metadata": {
    "ExecuteTime": {
     "end_time": "2019-09-28T11:07:36.920833Z",
     "start_time": "2019-09-28T11:07:36.904412Z"
    }
   },
   "outputs": [
    {
     "data": {
      "text/html": [
       "<div>\n",
       "<style scoped>\n",
       "    .dataframe tbody tr th:only-of-type {\n",
       "        vertical-align: middle;\n",
       "    }\n",
       "\n",
       "    .dataframe tbody tr th {\n",
       "        vertical-align: top;\n",
       "    }\n",
       "\n",
       "    .dataframe thead th {\n",
       "        text-align: right;\n",
       "    }\n",
       "</style>\n",
       "<table border=\"1\" class=\"dataframe\">\n",
       "  <thead>\n",
       "    <tr style=\"text-align: right;\">\n",
       "      <th></th>\n",
       "      <th>collection</th>\n",
       "      <th>suitcase_id</th>\n",
       "      <th>place_name</th>\n",
       "      <th>place_type</th>\n",
       "      <th>osm_id</th>\n",
       "      <th>cci_id</th>\n",
       "      <th>date</th>\n",
       "      <th>cci</th>\n",
       "      <th>rateCigarrettes</th>\n",
       "      <th>ratePapers</th>\n",
       "      <th>rateBottles</th>\n",
       "      <th>rateExcrements</th>\n",
       "      <th>rateSyringues</th>\n",
       "      <th>rateGums</th>\n",
       "      <th>rateLeaves</th>\n",
       "      <th>rateGrits</th>\n",
       "      <th>rateGlassDebris</th>\n",
       "    </tr>\n",
       "  </thead>\n",
       "  <tbody>\n",
       "    <tr>\n",
       "      <th>0</th>\n",
       "      <td>places</td>\n",
       "      <td>49</td>\n",
       "      <td>Leimgrubenweg</td>\n",
       "      <td>bus_stop</td>\n",
       "      <td>1175332462</td>\n",
       "      <td>287</td>\n",
       "      <td>2019-04-01 8:40:49</td>\n",
       "      <td>3.20000</td>\n",
       "      <td>0.60000</td>\n",
       "      <td>1.2</td>\n",
       "      <td>0.0</td>\n",
       "      <td>0</td>\n",
       "      <td>0</td>\n",
       "      <td>0</td>\n",
       "      <td>0.00000</td>\n",
       "      <td>0</td>\n",
       "      <td>0.0</td>\n",
       "    </tr>\n",
       "    <tr>\n",
       "      <th>1</th>\n",
       "      <td>map_features</td>\n",
       "      <td>49</td>\n",
       "      <td>Leimgrubenweg</td>\n",
       "      <td>secondary</td>\n",
       "      <td>25149740</td>\n",
       "      <td>86_9668</td>\n",
       "      <td>2019-04-01 8:40:53</td>\n",
       "      <td>3.35764</td>\n",
       "      <td>0.44236</td>\n",
       "      <td>1.2</td>\n",
       "      <td>0.0</td>\n",
       "      <td>0</td>\n",
       "      <td>0</td>\n",
       "      <td>0</td>\n",
       "      <td>0.00000</td>\n",
       "      <td>0</td>\n",
       "      <td>0.0</td>\n",
       "    </tr>\n",
       "    <tr>\n",
       "      <th>2</th>\n",
       "      <td>map_features</td>\n",
       "      <td>49</td>\n",
       "      <td>Reinacherstrasse</td>\n",
       "      <td>primary</td>\n",
       "      <td>117485263</td>\n",
       "      <td>86_11641</td>\n",
       "      <td>2019-04-01 8:40:53</td>\n",
       "      <td>3.35764</td>\n",
       "      <td>0.44236</td>\n",
       "      <td>1.2</td>\n",
       "      <td>0.0</td>\n",
       "      <td>0</td>\n",
       "      <td>0</td>\n",
       "      <td>0</td>\n",
       "      <td>0.00000</td>\n",
       "      <td>0</td>\n",
       "      <td>0.0</td>\n",
       "    </tr>\n",
       "    <tr>\n",
       "      <th>3</th>\n",
       "      <td>places</td>\n",
       "      <td>49</td>\n",
       "      <td>Leimgrubenweg</td>\n",
       "      <td>bus_stop</td>\n",
       "      <td>2621172927</td>\n",
       "      <td>287</td>\n",
       "      <td>2019-04-01 8:40:57</td>\n",
       "      <td>3.19757</td>\n",
       "      <td>0.60000</td>\n",
       "      <td>1.2</td>\n",
       "      <td>0.0</td>\n",
       "      <td>0</td>\n",
       "      <td>0</td>\n",
       "      <td>0</td>\n",
       "      <td>0.00243</td>\n",
       "      <td>0</td>\n",
       "      <td>0.0</td>\n",
       "    </tr>\n",
       "    <tr>\n",
       "      <th>4</th>\n",
       "      <td>map_features</td>\n",
       "      <td>49</td>\n",
       "      <td>Dornacherstrasse</td>\n",
       "      <td>secondary</td>\n",
       "      <td>148833576</td>\n",
       "      <td>86_12436</td>\n",
       "      <td>2019-04-01 8:42:11</td>\n",
       "      <td>5.00000</td>\n",
       "      <td>0.00000</td>\n",
       "      <td>0.0</td>\n",
       "      <td>0.0</td>\n",
       "      <td>0</td>\n",
       "      <td>0</td>\n",
       "      <td>0</td>\n",
       "      <td>0.00000</td>\n",
       "      <td>0</td>\n",
       "      <td>0.0</td>\n",
       "    </tr>\n",
       "  </tbody>\n",
       "</table>\n",
       "</div>"
      ],
      "text/plain": [
       "     collection  suitcase_id        place_name place_type      osm_id  \\\n",
       "0        places           49     Leimgrubenweg   bus_stop  1175332462   \n",
       "1  map_features           49     Leimgrubenweg  secondary    25149740   \n",
       "2  map_features           49  Reinacherstrasse    primary   117485263   \n",
       "3        places           49     Leimgrubenweg   bus_stop  2621172927   \n",
       "4  map_features           49  Dornacherstrasse  secondary   148833576   \n",
       "\n",
       "     cci_id                date      cci  rateCigarrettes  ratePapers  \\\n",
       "0       287  2019-04-01 8:40:49  3.20000          0.60000         1.2   \n",
       "1   86_9668  2019-04-01 8:40:53  3.35764          0.44236         1.2   \n",
       "2  86_11641  2019-04-01 8:40:53  3.35764          0.44236         1.2   \n",
       "3       287  2019-04-01 8:40:57  3.19757          0.60000         1.2   \n",
       "4  86_12436  2019-04-01 8:42:11  5.00000          0.00000         0.0   \n",
       "\n",
       "   rateBottles  rateExcrements  rateSyringues  rateGums  rateLeaves  \\\n",
       "0          0.0               0              0         0     0.00000   \n",
       "1          0.0               0              0         0     0.00000   \n",
       "2          0.0               0              0         0     0.00000   \n",
       "3          0.0               0              0         0     0.00243   \n",
       "4          0.0               0              0         0     0.00000   \n",
       "\n",
       "   rateGrits  rateGlassDebris  \n",
       "0          0              0.0  \n",
       "1          0              0.0  \n",
       "2          0              0.0  \n",
       "3          0              0.0  \n",
       "4          0              0.0  "
      ]
     },
     "execution_count": 131,
     "metadata": {},
     "output_type": "execute_result"
    }
   ],
   "source": [
    "msr.head()"
   ]
  },
  {
   "cell_type": "code",
   "execution_count": null,
   "metadata": {},
   "outputs": [],
   "source": [
    "msr.cci_id.groupby(msr.osm_id).count().head(20)"
   ]
  },
  {
   "cell_type": "code",
   "execution_count": 137,
   "metadata": {
    "ExecuteTime": {
     "end_time": "2019-09-28T11:09:18.383819Z",
     "start_time": "2019-09-28T11:09:18.378240Z"
    }
   },
   "outputs": [],
   "source": [
    "msr[['collection', 'place_type']].groupby(['place_type'])\n"
   ]
  },
  {
   "cell_type": "code",
   "execution_count": 138,
   "metadata": {
    "ExecuteTime": {
     "end_time": "2019-09-28T11:09:21.637423Z",
     "start_time": "2019-09-28T11:09:21.633137Z"
    }
   },
   "outputs": [
    {
     "data": {
      "text/plain": [
       "<pandas.core.groupby.generic.DataFrameGroupBy object at 0x13059c358>"
      ]
     },
     "execution_count": 138,
     "metadata": {},
     "output_type": "execute_result"
    }
   ],
   "source": [
    "df"
   ]
  },
  {
   "cell_type": "code",
   "execution_count": 140,
   "metadata": {
    "ExecuteTime": {
     "end_time": "2019-09-28T11:10:48.554412Z",
     "start_time": "2019-09-28T11:10:48.542613Z"
    }
   },
   "outputs": [
    {
     "data": {
      "text/plain": [
       "collection\n",
       "map_features    51093\n",
       "places           7149\n",
       "Name: place_type, dtype: int64"
      ]
     },
     "execution_count": 140,
     "metadata": {},
     "output_type": "execute_result"
    }
   ],
   "source": [
    "msr.place_type.groupby(msr.collection).count()"
   ]
  },
  {
   "cell_type": "code",
   "execution_count": null,
   "metadata": {},
   "outputs": [],
   "source": []
  },
  {
   "cell_type": "code",
   "execution_count": null,
   "metadata": {},
   "outputs": [],
   "source": []
  },
  {
   "cell_type": "code",
   "execution_count": null,
   "metadata": {},
   "outputs": [],
   "source": []
  },
  {
   "cell_type": "code",
   "execution_count": null,
   "metadata": {},
   "outputs": [],
   "source": []
  },
  {
   "cell_type": "code",
   "execution_count": null,
   "metadata": {},
   "outputs": [],
   "source": []
  },
  {
   "cell_type": "code",
   "execution_count": null,
   "metadata": {},
   "outputs": [],
   "source": []
  },
  {
   "cell_type": "markdown",
   "metadata": {},
   "source": [
    "## Number intersections per street"
   ]
  },
  {
   "cell_type": "code",
   "execution_count": 25,
   "metadata": {
    "ExecuteTime": {
     "end_time": "2019-09-28T08:52:27.390792Z",
     "start_time": "2019-09-28T08:52:27.374672Z"
    }
   },
   "outputs": [
    {
     "data": {
      "text/plain": [
       "osm_id\n",
       "4803830     191\n",
       "4803831     131\n",
       "4803852     125\n",
       "4803859      56\n",
       "4837930      58\n",
       "4838574     109\n",
       "4840867      66\n",
       "4840869     121\n",
       "9398550     140\n",
       "9398555     183\n",
       "9554150     122\n",
       "9554151      52\n",
       "9554159     139\n",
       "9554160     121\n",
       "9673526     100\n",
       "9673528      84\n",
       "9673533      48\n",
       "9673534      96\n",
       "10158873    151\n",
       "10158874    140\n",
       "Name: cci_id, dtype: int64"
      ]
     },
     "execution_count": 25,
     "metadata": {},
     "output_type": "execute_result"
    }
   ],
   "source": [
    "#len(msr.cci_id.groupby(msr.osm_id).count())\n",
    "msr.cci_id.groupby(msr.osm_id).count().head(20)"
   ]
  },
  {
   "cell_type": "code",
   "execution_count": 33,
   "metadata": {
    "ExecuteTime": {
     "end_time": "2019-09-28T08:55:27.407086Z",
     "start_time": "2019-09-28T08:55:27.390507Z"
    }
   },
   "outputs": [
    {
     "data": {
      "text/plain": [
       "osm_id\n",
       "151410240    295\n",
       "24781497     264\n",
       "23884886     241\n",
       "13252023     232\n",
       "19781280     229\n",
       "10158891     224\n",
       "605805584    220\n",
       "23884883     219\n",
       "23348441     215\n",
       "182423029    211\n",
       "335418859    201\n",
       "24839329     200\n",
       "332740546    198\n",
       "333652248    194\n",
       "19751448     191\n",
       "4803830      191\n",
       "19750775     190\n",
       "183482915    186\n",
       "9398555      183\n",
       "109731333    183\n",
       "Name: cci_id, dtype: int64"
      ]
     },
     "execution_count": 33,
     "metadata": {},
     "output_type": "execute_result"
    }
   ],
   "source": [
    "msr.cci_id.groupby(msr.osm_id).count().sort_values(ascending=False).head(20)"
   ]
  },
  {
   "cell_type": "code",
   "execution_count": 39,
   "metadata": {
    "ExecuteTime": {
     "end_time": "2019-09-28T09:04:06.618632Z",
     "start_time": "2019-09-28T09:04:06.400435Z"
    }
   },
   "outputs": [
    {
     "data": {
      "text/plain": [
       "<matplotlib.axes._subplots.AxesSubplot at 0x12217bb00>"
      ]
     },
     "execution_count": 39,
     "metadata": {},
     "output_type": "execute_result"
    },
    {
     "data": {
      "image/png": "[encoded data removed]",
      "text/plain": [
       "<Figure size 1080x720 with 1 Axes>"
      ]
     },
     "metadata": {
      "needs_background": "light"
     },
     "output_type": "display_data"
    }
   ],
   "source": [
    "msr.cci_id.groupby(msr.osm_id).count().sort_values(ascending=False).plot(figsize=(15,10))"
   ]
  },
  {
   "cell_type": "code",
   "execution_count": null,
   "metadata": {},
   "outputs": [],
   "source": []
  },
  {
   "cell_type": "markdown",
   "metadata": {},
   "source": [
    "# Data by Place Type"
   ]
  },
  {
   "cell_type": "code",
   "execution_count": 72,
   "metadata": {
    "ExecuteTime": {
     "end_time": "2019-09-28T09:31:04.777712Z",
     "start_time": "2019-09-28T09:31:04.755767Z"
    }
   },
   "outputs": [
    {
     "data": {
      "text/html": [
       "<div>\n",
       "<style scoped>\n",
       "    .dataframe tbody tr th:only-of-type {\n",
       "        vertical-align: middle;\n",
       "    }\n",
       "\n",
       "    .dataframe tbody tr th {\n",
       "        vertical-align: top;\n",
       "    }\n",
       "\n",
       "    .dataframe thead th {\n",
       "        text-align: right;\n",
       "    }\n",
       "</style>\n",
       "<table border=\"1\" class=\"dataframe\">\n",
       "  <thead>\n",
       "    <tr style=\"text-align: right;\">\n",
       "      <th></th>\n",
       "      <th>collection</th>\n",
       "      <th>suitcase_id</th>\n",
       "      <th>place_name</th>\n",
       "      <th>place_type</th>\n",
       "      <th>osm_id</th>\n",
       "      <th>cci_id</th>\n",
       "      <th>date</th>\n",
       "      <th>cci</th>\n",
       "      <th>rateCigarrettes</th>\n",
       "      <th>ratePapers</th>\n",
       "      <th>...</th>\n",
       "      <th>Unnamed: 246</th>\n",
       "      <th>Unnamed: 247</th>\n",
       "      <th>Unnamed: 248</th>\n",
       "      <th>Unnamed: 249</th>\n",
       "      <th>Unnamed: 250</th>\n",
       "      <th>Unnamed: 251</th>\n",
       "      <th>Unnamed: 252</th>\n",
       "      <th>Unnamed: 253</th>\n",
       "      <th>Unnamed: 254</th>\n",
       "      <th>Unnamed: 255</th>\n",
       "    </tr>\n",
       "  </thead>\n",
       "  <tbody>\n",
       "    <tr>\n",
       "      <th>0</th>\n",
       "      <td>places</td>\n",
       "      <td>49</td>\n",
       "      <td>Leimgrubenweg</td>\n",
       "      <td>bus_stop</td>\n",
       "      <td>1175332462</td>\n",
       "      <td>287</td>\n",
       "      <td>2019-04-01 8:40:49</td>\n",
       "      <td>3.2</td>\n",
       "      <td>0.6</td>\n",
       "      <td>1.2</td>\n",
       "      <td>...</td>\n",
       "      <td>NaN</td>\n",
       "      <td>NaN</td>\n",
       "      <td>NaN</td>\n",
       "      <td>NaN</td>\n",
       "      <td>NaN</td>\n",
       "      <td>NaN</td>\n",
       "      <td>NaN</td>\n",
       "      <td>NaN</td>\n",
       "      <td>NaN</td>\n",
       "      <td>NaN</td>\n",
       "    </tr>\n",
       "    <tr>\n",
       "      <th>1</th>\n",
       "      <td>map_features</td>\n",
       "      <td>49</td>\n",
       "      <td>Leimgrubenweg</td>\n",
       "      <td>secondary</td>\n",
       "      <td>25149740</td>\n",
       "      <td>86_9668</td>\n",
       "      <td>2019-04-01 8:40:53</td>\n",
       "      <td>3.35764</td>\n",
       "      <td>0.44236</td>\n",
       "      <td>1.2</td>\n",
       "      <td>...</td>\n",
       "      <td>NaN</td>\n",
       "      <td>NaN</td>\n",
       "      <td>NaN</td>\n",
       "      <td>NaN</td>\n",
       "      <td>NaN</td>\n",
       "      <td>NaN</td>\n",
       "      <td>NaN</td>\n",
       "      <td>NaN</td>\n",
       "      <td>NaN</td>\n",
       "      <td>NaN</td>\n",
       "    </tr>\n",
       "    <tr>\n",
       "      <th>2</th>\n",
       "      <td>map_features</td>\n",
       "      <td>49</td>\n",
       "      <td>Reinacherstrasse</td>\n",
       "      <td>primary</td>\n",
       "      <td>117485263</td>\n",
       "      <td>86_11641</td>\n",
       "      <td>2019-04-01 8:40:53</td>\n",
       "      <td>3.35764</td>\n",
       "      <td>0.44236</td>\n",
       "      <td>1.2</td>\n",
       "      <td>...</td>\n",
       "      <td>NaN</td>\n",
       "      <td>NaN</td>\n",
       "      <td>NaN</td>\n",
       "      <td>NaN</td>\n",
       "      <td>NaN</td>\n",
       "      <td>NaN</td>\n",
       "      <td>NaN</td>\n",
       "      <td>NaN</td>\n",
       "      <td>NaN</td>\n",
       "      <td>NaN</td>\n",
       "    </tr>\n",
       "    <tr>\n",
       "      <th>3</th>\n",
       "      <td>places</td>\n",
       "      <td>49</td>\n",
       "      <td>Leimgrubenweg</td>\n",
       "      <td>bus_stop</td>\n",
       "      <td>2621172927</td>\n",
       "      <td>287</td>\n",
       "      <td>2019-04-01 8:40:57</td>\n",
       "      <td>3.19757</td>\n",
       "      <td>0.6</td>\n",
       "      <td>1.2</td>\n",
       "      <td>...</td>\n",
       "      <td>NaN</td>\n",
       "      <td>NaN</td>\n",
       "      <td>NaN</td>\n",
       "      <td>NaN</td>\n",
       "      <td>NaN</td>\n",
       "      <td>NaN</td>\n",
       "      <td>NaN</td>\n",
       "      <td>NaN</td>\n",
       "      <td>NaN</td>\n",
       "      <td>NaN</td>\n",
       "    </tr>\n",
       "    <tr>\n",
       "      <th>4</th>\n",
       "      <td>map_features</td>\n",
       "      <td>49</td>\n",
       "      <td>Dornacherstrasse</td>\n",
       "      <td>secondary</td>\n",
       "      <td>148833576</td>\n",
       "      <td>86_12436</td>\n",
       "      <td>2019-04-01 8:42:11</td>\n",
       "      <td>5</td>\n",
       "      <td>0</td>\n",
       "      <td>0</td>\n",
       "      <td>...</td>\n",
       "      <td>NaN</td>\n",
       "      <td>NaN</td>\n",
       "      <td>NaN</td>\n",
       "      <td>NaN</td>\n",
       "      <td>NaN</td>\n",
       "      <td>NaN</td>\n",
       "      <td>NaN</td>\n",
       "      <td>NaN</td>\n",
       "      <td>NaN</td>\n",
       "      <td>NaN</td>\n",
       "    </tr>\n",
       "  </tbody>\n",
       "</table>\n",
       "<p>5 rows × 256 columns</p>\n",
       "</div>"
      ],
      "text/plain": [
       "     collection suitcase_id        place_name place_type      osm_id  \\\n",
       "0        places          49     Leimgrubenweg   bus_stop  1175332462   \n",
       "1  map_features          49     Leimgrubenweg  secondary    25149740   \n",
       "2  map_features          49  Reinacherstrasse    primary   117485263   \n",
       "3        places          49     Leimgrubenweg   bus_stop  2621172927   \n",
       "4  map_features          49  Dornacherstrasse  secondary   148833576   \n",
       "\n",
       "     cci_id                date      cci rateCigarrettes ratePapers  ...  \\\n",
       "0       287  2019-04-01 8:40:49      3.2             0.6        1.2  ...   \n",
       "1   86_9668  2019-04-01 8:40:53  3.35764         0.44236        1.2  ...   \n",
       "2  86_11641  2019-04-01 8:40:53  3.35764         0.44236        1.2  ...   \n",
       "3       287  2019-04-01 8:40:57  3.19757             0.6        1.2  ...   \n",
       "4  86_12436  2019-04-01 8:42:11        5               0          0  ...   \n",
       "\n",
       "  Unnamed: 246 Unnamed: 247 Unnamed: 248 Unnamed: 249 Unnamed: 250  \\\n",
       "0          NaN          NaN          NaN          NaN          NaN   \n",
       "1          NaN          NaN          NaN          NaN          NaN   \n",
       "2          NaN          NaN          NaN          NaN          NaN   \n",
       "3          NaN          NaN          NaN          NaN          NaN   \n",
       "4          NaN          NaN          NaN          NaN          NaN   \n",
       "\n",
       "  Unnamed: 251 Unnamed: 252  Unnamed: 253  Unnamed: 254  Unnamed: 255  \n",
       "0          NaN          NaN           NaN           NaN           NaN  \n",
       "1          NaN          NaN           NaN           NaN           NaN  \n",
       "2          NaN          NaN           NaN           NaN           NaN  \n",
       "3          NaN          NaN           NaN           NaN           NaN  \n",
       "4          NaN          NaN           NaN           NaN           NaN  \n",
       "\n",
       "[5 rows x 256 columns]"
      ]
     },
     "execution_count": 72,
     "metadata": {},
     "output_type": "execute_result"
    }
   ],
   "source": [
    "msr.head()"
   ]
  },
  {
   "cell_type": "code",
   "execution_count": 107,
   "metadata": {
    "ExecuteTime": {
     "end_time": "2019-09-28T10:21:51.489136Z",
     "start_time": "2019-09-28T10:21:51.477245Z"
    }
   },
   "outputs": [
    {
     "data": {
      "text/plain": [
       "residential       19858\n",
       "secondary         10218\n",
       "primary            6701\n",
       "bus_stop           5915\n",
       "tertiary           4446\n",
       "footway            4302\n",
       "unclassified       2313\n",
       "pedestrian         1754\n",
       "no type found      1234\n",
       "cycleway            723\n",
       "secondary_link      229\n",
       "service             196\n",
       "steps                86\n",
       "primary_link         78\n",
       "living_street        70\n",
       "path                 69\n",
       "motorway_link        50\n",
       "place_type            1\n",
       "Name: place_type, dtype: int64"
      ]
     },
     "execution_count": 107,
     "metadata": {},
     "output_type": "execute_result"
    }
   ],
   "source": [
    "msr.place_type.value_counts()"
   ]
  },
  {
   "cell_type": "code",
   "execution_count": 86,
   "metadata": {
    "ExecuteTime": {
     "end_time": "2019-09-28T09:39:23.846521Z",
     "start_time": "2019-09-28T09:39:23.835075Z"
    }
   },
   "outputs": [
    {
     "data": {
      "text/plain": [
       "map_features    51093\n",
       "places           7149\n",
       "collection          1\n",
       "Name: collection, dtype: int64"
      ]
     },
     "execution_count": 86,
     "metadata": {},
     "output_type": "execute_result"
    }
   ],
   "source": [
    "msr.collection.value_counts()"
   ]
  },
  {
   "cell_type": "code",
   "execution_count": null,
   "metadata": {},
   "outputs": [],
   "source": []
  },
  {
   "cell_type": "markdown",
   "metadata": {},
   "source": [
    "# Group by place type and CCI"
   ]
  },
  {
   "cell_type": "code",
   "execution_count": 126,
   "metadata": {
    "ExecuteTime": {
     "end_time": "2019-09-28T11:03:08.295222Z",
     "start_time": "2019-09-28T11:03:08.285744Z"
    }
   },
   "outputs": [
    {
     "data": {
      "text/html": [
       "<div>\n",
       "<style scoped>\n",
       "    .dataframe tbody tr th:only-of-type {\n",
       "        vertical-align: middle;\n",
       "    }\n",
       "\n",
       "    .dataframe tbody tr th {\n",
       "        vertical-align: top;\n",
       "    }\n",
       "\n",
       "    .dataframe thead th {\n",
       "        text-align: right;\n",
       "    }\n",
       "</style>\n",
       "<table border=\"1\" class=\"dataframe\">\n",
       "  <thead>\n",
       "    <tr style=\"text-align: right;\">\n",
       "      <th></th>\n",
       "      <th>place_type</th>\n",
       "      <th>cci</th>\n",
       "    </tr>\n",
       "  </thead>\n",
       "  <tbody>\n",
       "    <tr>\n",
       "      <th>0</th>\n",
       "      <td>bus_stop</td>\n",
       "      <td>3.20000</td>\n",
       "    </tr>\n",
       "    <tr>\n",
       "      <th>1</th>\n",
       "      <td>secondary</td>\n",
       "      <td>3.35764</td>\n",
       "    </tr>\n",
       "    <tr>\n",
       "      <th>2</th>\n",
       "      <td>primary</td>\n",
       "      <td>3.35764</td>\n",
       "    </tr>\n",
       "    <tr>\n",
       "      <th>3</th>\n",
       "      <td>bus_stop</td>\n",
       "      <td>3.19757</td>\n",
       "    </tr>\n",
       "    <tr>\n",
       "      <th>4</th>\n",
       "      <td>secondary</td>\n",
       "      <td>5.00000</td>\n",
       "    </tr>\n",
       "  </tbody>\n",
       "</table>\n",
       "</div>"
      ],
      "text/plain": [
       "  place_type      cci\n",
       "0   bus_stop  3.20000\n",
       "1  secondary  3.35764\n",
       "2    primary  3.35764\n",
       "3   bus_stop  3.19757\n",
       "4  secondary  5.00000"
      ]
     },
     "execution_count": 126,
     "metadata": {},
     "output_type": "execute_result"
    }
   ],
   "source": [
    "df = msr[[\"place_type\", \"cci\"]]\n",
    "df.head()"
   ]
  },
  {
   "cell_type": "code",
   "execution_count": 127,
   "metadata": {
    "ExecuteTime": {
     "end_time": "2019-09-28T11:03:12.369945Z",
     "start_time": "2019-09-28T11:03:12.357515Z"
    }
   },
   "outputs": [
    {
     "ename": "DataError",
     "evalue": "No numeric types to aggregate",
     "output_type": "error",
     "traceback": [
      "\u001b[0;31m---------------------------------------------------------------------------\u001b[0m",
      "\u001b[0;31mDataError\u001b[0m                                 Traceback (most recent call last)",
      "\u001b[0;32m<ipython-input-127-f203e2cfb587>\u001b[0m in \u001b[0;36m<module>\u001b[0;34m\u001b[0m\n\u001b[0;32m----> 1\u001b[0;31m \u001b[0mdf\u001b[0m\u001b[0;34m.\u001b[0m\u001b[0mgroupby\u001b[0m\u001b[0;34m(\u001b[0m\u001b[0;34m[\u001b[0m\u001b[0;34m'place_type'\u001b[0m\u001b[0;34m,\u001b[0m \u001b[0;34m'cci'\u001b[0m\u001b[0;34m]\u001b[0m\u001b[0;34m)\u001b[0m\u001b[0;34m.\u001b[0m\u001b[0mmean\u001b[0m\u001b[0;34m(\u001b[0m\u001b[0;34m)\u001b[0m\u001b[0;34m\u001b[0m\u001b[0;34m\u001b[0m\u001b[0m\n\u001b[0m",
      "\u001b[0;32m~/anaconda/envs/py36dl/lib/python3.6/site-packages/pandas/core/groupby/groupby.py\u001b[0m in \u001b[0;36mmean\u001b[0;34m(self, *args, **kwargs)\u001b[0m\n\u001b[1;32m   1130\u001b[0m         \u001b[0mnv\u001b[0m\u001b[0;34m.\u001b[0m\u001b[0mvalidate_groupby_func\u001b[0m\u001b[0;34m(\u001b[0m\u001b[0;34m'mean'\u001b[0m\u001b[0;34m,\u001b[0m \u001b[0margs\u001b[0m\u001b[0;34m,\u001b[0m \u001b[0mkwargs\u001b[0m\u001b[0;34m,\u001b[0m \u001b[0;34m[\u001b[0m\u001b[0;34m'numeric_only'\u001b[0m\u001b[0;34m]\u001b[0m\u001b[0;34m)\u001b[0m\u001b[0;34m\u001b[0m\u001b[0;34m\u001b[0m\u001b[0m\n\u001b[1;32m   1131\u001b[0m         \u001b[0;32mtry\u001b[0m\u001b[0;34m:\u001b[0m\u001b[0;34m\u001b[0m\u001b[0;34m\u001b[0m\u001b[0m\n\u001b[0;32m-> 1132\u001b[0;31m             \u001b[0;32mreturn\u001b[0m \u001b[0mself\u001b[0m\u001b[0;34m.\u001b[0m\u001b[0m_cython_agg_general\u001b[0m\u001b[0;34m(\u001b[0m\u001b[0;34m'mean'\u001b[0m\u001b[0;34m,\u001b[0m \u001b[0;34m**\u001b[0m\u001b[0mkwargs\u001b[0m\u001b[0;34m)\u001b[0m\u001b[0;34m\u001b[0m\u001b[0;34m\u001b[0m\u001b[0m\n\u001b[0m\u001b[1;32m   1133\u001b[0m         \u001b[0;32mexcept\u001b[0m \u001b[0mGroupByError\u001b[0m\u001b[0;34m:\u001b[0m\u001b[0;34m\u001b[0m\u001b[0;34m\u001b[0m\u001b[0m\n\u001b[1;32m   1134\u001b[0m             \u001b[0;32mraise\u001b[0m\u001b[0;34m\u001b[0m\u001b[0;34m\u001b[0m\u001b[0m\n",
      "\u001b[0;32m~/anaconda/envs/py36dl/lib/python3.6/site-packages/pandas/core/groupby/generic.py\u001b[0m in \u001b[0;36m_cython_agg_general\u001b[0;34m(self, how, alt, numeric_only, min_count)\u001b[0m\n\u001b[1;32m     68\u001b[0m                             min_count=-1):\n\u001b[1;32m     69\u001b[0m         new_items, new_blocks = self._cython_agg_blocks(\n\u001b[0;32m---> 70\u001b[0;31m             how, alt=alt, numeric_only=numeric_only, min_count=min_count)\n\u001b[0m\u001b[1;32m     71\u001b[0m         \u001b[0;32mreturn\u001b[0m \u001b[0mself\u001b[0m\u001b[0;34m.\u001b[0m\u001b[0m_wrap_agged_blocks\u001b[0m\u001b[0;34m(\u001b[0m\u001b[0mnew_items\u001b[0m\u001b[0;34m,\u001b[0m \u001b[0mnew_blocks\u001b[0m\u001b[0;34m)\u001b[0m\u001b[0;34m\u001b[0m\u001b[0;34m\u001b[0m\u001b[0m\n\u001b[1;32m     72\u001b[0m \u001b[0;34m\u001b[0m\u001b[0m\n",
      "\u001b[0;32m~/anaconda/envs/py36dl/lib/python3.6/site-packages/pandas/core/groupby/generic.py\u001b[0m in \u001b[0;36m_cython_agg_blocks\u001b[0;34m(self, how, alt, numeric_only, min_count)\u001b[0m\n\u001b[1;32m    141\u001b[0m \u001b[0;34m\u001b[0m\u001b[0m\n\u001b[1;32m    142\u001b[0m         \u001b[0;32mif\u001b[0m \u001b[0mlen\u001b[0m\u001b[0;34m(\u001b[0m\u001b[0mnew_blocks\u001b[0m\u001b[0;34m)\u001b[0m \u001b[0;34m==\u001b[0m \u001b[0;36m0\u001b[0m\u001b[0;34m:\u001b[0m\u001b[0;34m\u001b[0m\u001b[0;34m\u001b[0m\u001b[0m\n\u001b[0;32m--> 143\u001b[0;31m             \u001b[0;32mraise\u001b[0m \u001b[0mDataError\u001b[0m\u001b[0;34m(\u001b[0m\u001b[0;34m'No numeric types to aggregate'\u001b[0m\u001b[0;34m)\u001b[0m\u001b[0;34m\u001b[0m\u001b[0;34m\u001b[0m\u001b[0m\n\u001b[0m\u001b[1;32m    144\u001b[0m \u001b[0;34m\u001b[0m\u001b[0m\n\u001b[1;32m    145\u001b[0m         \u001b[0;31m# reset the locs in the blocks to correspond to our\u001b[0m\u001b[0;34m\u001b[0m\u001b[0;34m\u001b[0m\u001b[0;34m\u001b[0m\u001b[0m\n",
      "\u001b[0;31mDataError\u001b[0m: No numeric types to aggregate"
     ]
    }
   ],
   "source": [
    "df.groupby(['place_type).mean()"
   ]
  },
  {
   "cell_type": "code",
   "execution_count": 128,
   "metadata": {
    "ExecuteTime": {
     "end_time": "2019-09-28T11:03:32.502264Z",
     "start_time": "2019-09-28T11:03:32.493783Z"
    }
   },
   "outputs": [
    {
     "ename": "TypeError",
     "evalue": "'numpy.dtype' object is not callable",
     "output_type": "error",
     "traceback": [
      "\u001b[0;31m---------------------------------------------------------------------------\u001b[0m",
      "\u001b[0;31mTypeError\u001b[0m                                 Traceback (most recent call last)",
      "\u001b[0;32m<ipython-input-128-36c6c178f878>\u001b[0m in \u001b[0;36m<module>\u001b[0;34m\u001b[0m\n\u001b[0;32m----> 1\u001b[0;31m \u001b[0mdf\u001b[0m\u001b[0;34m.\u001b[0m\u001b[0mcci\u001b[0m\u001b[0;34m.\u001b[0m\u001b[0mdtype\u001b[0m\u001b[0;34m(\u001b[0m\u001b[0;34m)\u001b[0m\u001b[0;34m\u001b[0m\u001b[0;34m\u001b[0m\u001b[0m\n\u001b[0m",
      "\u001b[0;31mTypeError\u001b[0m: 'numpy.dtype' object is not callable"
     ]
    }
   ],
   "source": [
    "df.cci.dtype()"
   ]
  },
  {
   "cell_type": "code",
   "execution_count": null,
   "metadata": {},
   "outputs": [],
   "source": [
    "df.groupby(['cluster','org']).mean()"
   ]
  },
  {
   "cell_type": "code",
   "execution_count": 129,
   "metadata": {
    "ExecuteTime": {
     "end_time": "2019-09-28T11:03:38.472751Z",
     "start_time": "2019-09-28T11:03:38.468760Z"
    }
   },
   "outputs": [
    {
     "data": {
      "text/plain": [
       "dtype('float64')"
      ]
     },
     "execution_count": 129,
     "metadata": {},
     "output_type": "execute_result"
    }
   ],
   "source": [
    "df.cci.dtype"
   ]
  },
  {
   "cell_type": "code",
   "execution_count": null,
   "metadata": {},
   "outputs": [],
   "source": []
  },
  {
   "cell_type": "code",
   "execution_count": null,
   "metadata": {},
   "outputs": [],
   "source": []
  },
  {
   "cell_type": "code",
   "execution_count": 121,
   "metadata": {
    "ExecuteTime": {
     "end_time": "2019-09-28T10:47:01.205261Z",
     "start_time": "2019-09-28T10:47:01.195135Z"
    }
   },
   "outputs": [
    {
     "data": {
      "text/plain": [
       "49             41570\n",
       "59             15774\n",
       "59               898\n",
       "suitcase_id        1\n",
       "Name: suitcase_id, dtype: int64"
      ]
     },
     "execution_count": 121,
     "metadata": {},
     "output_type": "execute_result"
    }
   ],
   "source": [
    "msr.suitcase_id.value_counts()"
   ]
  },
  {
   "cell_type": "code",
   "execution_count": null,
   "metadata": {},
   "outputs": [],
   "source": []
  },
  {
   "cell_type": "code",
   "execution_count": null,
   "metadata": {},
   "outputs": [],
   "source": []
  },
  {
   "cell_type": "code",
   "execution_count": null,
   "metadata": {},
   "outputs": [],
   "source": []
  },
  {
   "cell_type": "code",
   "execution_count": 153,
   "metadata": {
    "ExecuteTime": {
     "end_time": "2019-09-28T12:00:15.265283Z",
     "start_time": "2019-09-28T12:00:15.259657Z"
    }
   },
   "outputs": [],
   "source": [
    "cal = pd.read_csv(\"./data/event_cal.csv\", sep=\";\")\n"
   ]
  },
  {
   "cell_type": "code",
   "execution_count": 154,
   "metadata": {
    "ExecuteTime": {
     "end_time": "2019-09-28T12:00:15.930843Z",
     "start_time": "2019-09-28T12:00:15.923267Z"
    }
   },
   "outputs": [
    {
     "data": {
      "text/html": [
       "<div>\n",
       "<style scoped>\n",
       "    .dataframe tbody tr th:only-of-type {\n",
       "        vertical-align: middle;\n",
       "    }\n",
       "\n",
       "    .dataframe tbody tr th {\n",
       "        vertical-align: top;\n",
       "    }\n",
       "\n",
       "    .dataframe thead th {\n",
       "        text-align: right;\n",
       "    }\n",
       "</style>\n",
       "<table border=\"1\" class=\"dataframe\">\n",
       "  <thead>\n",
       "    <tr style=\"text-align: right;\">\n",
       "      <th></th>\n",
       "      <th>day</th>\n",
       "      <th>Unnamed: 1</th>\n",
       "    </tr>\n",
       "  </thead>\n",
       "  <tbody>\n",
       "    <tr>\n",
       "      <th>0</th>\n",
       "      <td>01.01.2019</td>\n",
       "      <td>NaN</td>\n",
       "    </tr>\n",
       "    <tr>\n",
       "      <th>1</th>\n",
       "      <td>11.03.2019</td>\n",
       "      <td>NaN</td>\n",
       "    </tr>\n",
       "    <tr>\n",
       "      <th>2</th>\n",
       "      <td>12.03.2019</td>\n",
       "      <td>NaN</td>\n",
       "    </tr>\n",
       "    <tr>\n",
       "      <th>3</th>\n",
       "      <td>13.03.2019</td>\n",
       "      <td>NaN</td>\n",
       "    </tr>\n",
       "    <tr>\n",
       "      <th>4</th>\n",
       "      <td>19.04.2019</td>\n",
       "      <td>NaN</td>\n",
       "    </tr>\n",
       "    <tr>\n",
       "      <th>5</th>\n",
       "      <td>21.04.2019</td>\n",
       "      <td>NaN</td>\n",
       "    </tr>\n",
       "    <tr>\n",
       "      <th>6</th>\n",
       "      <td>22.04.2019</td>\n",
       "      <td>NaN</td>\n",
       "    </tr>\n",
       "    <tr>\n",
       "      <th>7</th>\n",
       "      <td>01.05.2019</td>\n",
       "      <td>NaN</td>\n",
       "    </tr>\n",
       "    <tr>\n",
       "      <th>8</th>\n",
       "      <td>30.05.2019</td>\n",
       "      <td>NaN</td>\n",
       "    </tr>\n",
       "    <tr>\n",
       "      <th>9</th>\n",
       "      <td>09.06.2019</td>\n",
       "      <td>NaN</td>\n",
       "    </tr>\n",
       "    <tr>\n",
       "      <th>10</th>\n",
       "      <td>10.06.2019</td>\n",
       "      <td>NaN</td>\n",
       "    </tr>\n",
       "    <tr>\n",
       "      <th>11</th>\n",
       "      <td>01.08.2019</td>\n",
       "      <td>NaN</td>\n",
       "    </tr>\n",
       "    <tr>\n",
       "      <th>12</th>\n",
       "      <td>25.12.2019</td>\n",
       "      <td>NaN</td>\n",
       "    </tr>\n",
       "    <tr>\n",
       "      <th>13</th>\n",
       "      <td>26.12.2019</td>\n",
       "      <td>NaN</td>\n",
       "    </tr>\n",
       "  </tbody>\n",
       "</table>\n",
       "</div>"
      ],
      "text/plain": [
       "           day  Unnamed: 1\n",
       "0   01.01.2019         NaN\n",
       "1   11.03.2019         NaN\n",
       "2   12.03.2019         NaN\n",
       "3   13.03.2019         NaN\n",
       "4   19.04.2019         NaN\n",
       "5   21.04.2019         NaN\n",
       "6   22.04.2019         NaN\n",
       "7   01.05.2019         NaN\n",
       "8   30.05.2019         NaN\n",
       "9   09.06.2019         NaN\n",
       "10  10.06.2019         NaN\n",
       "11  01.08.2019         NaN\n",
       "12  25.12.2019         NaN\n",
       "13  26.12.2019         NaN"
      ]
     },
     "execution_count": 154,
     "metadata": {},
     "output_type": "execute_result"
    }
   ],
   "source": [
    "cal"
   ]
  },
  {
   "cell_type": "code",
   "execution_count": 155,
   "metadata": {
    "ExecuteTime": {
     "end_time": "2019-09-28T12:57:02.376432Z",
     "start_time": "2019-09-28T12:57:02.374064Z"
    }
   },
   "outputs": [],
   "source": [
    "import datetime"
   ]
  },
  {
   "cell_type": "code",
   "execution_count": null,
   "metadata": {},
   "outputs": [],
   "source": []
  }
 ],
 "metadata": {
  "kernelspec": {
   "display_name": "Python 3",
   "language": "python",
   "name": "python3"
  },
  "language_info": {
   "codemirror_mode": {
    "name": "ipython",
    "version": 3
   },
   "file_extension": ".py",
   "mimetype": "text/x-python",
   "name": "python",
   "nbconvert_exporter": "python",
   "pygments_lexer": "ipython3",
   "version": "3.6.8"
  },
  "toc": {
   "colors": {
    "hover_highlight": "#DAA520",
    "running_highlight": "#FF0000",
    "selected_highlight": "#FFD700"
   },
   "moveMenuLeft": true,
   "nav_menu": {
    "height": "47.5347px",
    "width": "251.979px"
   },
   "navigate_menu": true,
   "number_sections": true,
   "sideBar": true,
   "threshold": 4,
   "toc_cell": false,
   "toc_section_display": "block",
   "toc_window_display": false,
   "widenNotebook": false
  }
 },
 "nbformat": 4,
 "nbformat_minor": 2
}
