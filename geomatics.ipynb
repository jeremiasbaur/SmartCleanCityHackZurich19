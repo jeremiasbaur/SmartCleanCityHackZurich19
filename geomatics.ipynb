{
 "cells": [
  {
   "cell_type": "markdown",
   "metadata": {},
   "source": [
    "# Meteo"
   ]
  },
  {
   "cell_type": "markdown",
   "metadata": {},
   "source": [
    "## Query structure:\n",
    "\n",
    "api.meteomatics.com/ 2019-09-28T00:00:00Z P10D: P1D /t_2m:C/45.842875,6.863229/csv\n",
    "\n",
    "2019-09-28T00:00:00Z - start date\n",
    "P10D - time interval (10 days)\n",
    "P1D - time step (1 day)\n",
    "\n",
    "http://api.meteomatics.com/2019-04-01T07:00:00ZP180D:P1D/t_max_2m_24h:C,precip_24h:mm/47.5596,7.5886/csv?model=mix\n",
    "http://api.meteomatics.com/2019-04-01T07:00:00ZP180D:P1D/t_max_2m_24h:C,precip_24h:mm/47.5596,7.5886/csv?model=mix\n",
    "\n",
    "\n",
    "    "
   ]
  }
 ],
 "metadata": {
  "kernelspec": {
   "display_name": "Python 3",
   "language": "python",
   "name": "python3"
  },
  "language_info": {
   "codemirror_mode": {
    "name": "ipython",
    "version": 3
   },
   "file_extension": ".py",
   "mimetype": "text/x-python",
   "name": "python",
   "nbconvert_exporter": "python",
   "pygments_lexer": "ipython3",
   "version": "3.6.8"
  },
  "toc": {
   "colors": {
    "hover_highlight": "#DAA520",
    "running_highlight": "#FF0000",
    "selected_highlight": "#FFD700"
   },
   "moveMenuLeft": true,
   "nav_menu": {
    "height": "29.3333px",
    "width": "252px"
   },
   "navigate_menu": true,
   "number_sections": true,
   "sideBar": true,
   "threshold": 4,
   "toc_cell": false,
   "toc_section_display": "block",
   "toc_window_display": false,
   "widenNotebook": false
  }
 },
 "nbformat": 4,
 "nbformat_minor": 2
}
